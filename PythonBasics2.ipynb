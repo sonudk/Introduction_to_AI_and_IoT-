{
  "nbformat": 4,
  "nbformat_minor": 0,
  "metadata": {
    "colab": {
      "name": "PythonBasics2.ipynb",
      "version": "0.3.2",
      "provenance": [],
      "include_colab_link": true
    },
    "language_info": {
      "codemirror_mode": {
        "name": "ipython",
        "version": 3
      },
      "file_extension": ".py",
      "mimetype": "text/x-python",
      "name": "python",
      "nbconvert_exporter": "python",
      "pygments_lexer": "ipython3",
      "version": "3.6.8"
    },
    "kernelspec": {
      "display_name": "Python 3",
      "language": "python",
      "name": "python3"
    }
  },
  "cells": [
    {
      "cell_type": "markdown",
      "metadata": {
        "id": "view-in-github",
        "colab_type": "text"
      },
      "source": [
        "<a href=\"https://colab.research.google.com/github/sonudk/Introduction_to_AI_and_IoT-/blob/master/PythonBasics2.ipynb\" target=\"_parent\"><img src=\"https://colab.research.google.com/assets/colab-badge.svg\" alt=\"Open In Colab\"/></a>"
      ]
    },
    {
      "cell_type": "markdown",
      "metadata": {
        "id": "UPLGmg_U65-c",
        "colab_type": "text"
      },
      "source": [
        "# Functions\n",
        "input $\\rightarrow\\boxed{F}\\rightarrow$ output "
      ]
    },
    {
      "cell_type": "code",
      "metadata": {
        "id": "Ni_b3BAm65-e",
        "colab_type": "code",
        "colab": {}
      },
      "source": [
        "def findlarger(a, b):\n",
        "    if a>b:\n",
        "        c = a\n",
        "    else:\n",
        "        c = b\n",
        "    return c"
      ],
      "execution_count": 0,
      "outputs": []
    },
    {
      "cell_type": "code",
      "metadata": {
        "id": "fux0v-mv65-j",
        "colab_type": "code",
        "outputId": "927f50b2-aa55-4aea-c99c-32ff3d3dcbef",
        "colab": {}
      },
      "source": [
        "a = 5.5\n",
        "b = 7.3\n",
        "c = findlarger(a,b)\n",
        "print(c)"
      ],
      "execution_count": 0,
      "outputs": [
        {
          "output_type": "stream",
          "text": [
            "7.3\n"
          ],
          "name": "stdout"
        }
      ]
    },
    {
      "cell_type": "markdown",
      "metadata": {
        "id": "PIGNTg2h65-q",
        "colab_type": "text"
      },
      "source": [
        "**Ex.** Add an item in the dictionary if it does not exist, otherwise increment"
      ]
    },
    {
      "cell_type": "code",
      "metadata": {
        "id": "JAxgLJ2k65-r",
        "colab_type": "code",
        "colab": {}
      },
      "source": [
        "def addItem(a, key, val=1):\n",
        "    if key in a:\n",
        "        a[key] = a[key] + val\n",
        "    else:\n",
        "        a[key] = val\n",
        "    return a"
      ],
      "execution_count": 0,
      "outputs": []
    },
    {
      "cell_type": "code",
      "metadata": {
        "id": "lgnaYjeu65-u",
        "colab_type": "code",
        "outputId": "800e07b0-d046-4599-d5e4-136b89d755a9",
        "colab": {}
      },
      "source": [
        "a = {\"Apple\":8, \"Banana\":12, \"Carrot\":5} \n",
        "addItem(a, \"Banana\", 5)\n",
        "addItem(a, \"Guava\", 3)\n",
        "addItem(a, \"Watermelon\")\n",
        "print(a)"
      ],
      "execution_count": 0,
      "outputs": [
        {
          "output_type": "stream",
          "text": [
            "{'Apple': 8, 'Banana': 17, 'Carrot': 5, 'Guava': 3, 'Watermelon': 1}\n"
          ],
          "name": "stdout"
        }
      ]
    },
    {
      "cell_type": "markdown",
      "metadata": {
        "id": "kqLr85wk65-0",
        "colab_type": "text"
      },
      "source": [
        "# Classes\n",
        "A structure containing variables and functions.\n",
        "\n",
        "**Ex.** Create a Shopping List class that can add and subtract items and their quantities"
      ]
    },
    {
      "cell_type": "code",
      "metadata": {
        "id": "GgGJKPdc65-1",
        "colab_type": "code",
        "colab": {}
      },
      "source": [
        "class ShoppingList:\n",
        "    listdict = {}\n",
        "    def addItem(self, key, val):\n",
        "        if key in self.listdict:\n",
        "            self.listdict[key] = self.listdict[key] + val\n",
        "        else:\n",
        "            self.listdict[key] = val\n",
        "    def subtractItem(self, key, val):\n",
        "        if key in self.listdict:\n",
        "            self.listdict[key] = self.listdict[key] - val\n",
        "    def removeItem(self, key):\n",
        "        if key in self.listdict:\n",
        "            del(self.listdict[key])\n",
        "    def printList(self):\n",
        "        print(self.listdict)"
      ],
      "execution_count": 0,
      "outputs": []
    },
    {
      "cell_type": "code",
      "metadata": {
        "id": "3U77a0BC65-5",
        "colab_type": "code",
        "outputId": "ddb6f066-a402-403d-cecf-aeb4bc18c480",
        "colab": {}
      },
      "source": [
        "sl1 = ShoppingList()\n",
        "sl1.addItem(\"Banana\", 12)\n",
        "sl1.addItem(\"Apple\", 6)\n",
        "sl1.printList()\n",
        "sl1.subtractItem(\"Banana\", 5)\n",
        "sl1.printList()\n",
        "sl1.removeItem(\"Apple\")\n",
        "sl1.printList()"
      ],
      "execution_count": 0,
      "outputs": [
        {
          "output_type": "stream",
          "text": [
            "{'Banana': 19, 'Apple': 6}\n",
            "{'Banana': 14, 'Apple': 6}\n",
            "{'Banana': 14}\n"
          ],
          "name": "stdout"
        }
      ]
    }
  ]
}