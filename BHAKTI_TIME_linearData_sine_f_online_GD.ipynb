{
  "nbformat": 4,
  "nbformat_minor": 0,
  "metadata": {
    "colab": {
      "name": "BHAKTI TIME - linearData_sine_f_online_GD.ipynb",
      "version": "0.3.2",
      "provenance": [],
      "collapsed_sections": [],
      "include_colab_link": true
    },
    "language_info": {
      "codemirror_mode": {
        "name": "ipython",
        "version": 3
      },
      "file_extension": ".py",
      "mimetype": "text/x-python",
      "name": "python",
      "nbconvert_exporter": "python",
      "pygments_lexer": "ipython3",
      "version": "3.6.8"
    },
    "kernelspec": {
      "name": "python3",
      "display_name": "Python 3"
    },
    "accelerator": "GPU"
  },
  "cells": [
    {
      "cell_type": "markdown",
      "metadata": {
        "id": "view-in-github",
        "colab_type": "text"
      },
      "source": [
        "<a href=\"https://colab.research.google.com/github/sonudk/Introduction_to_AI_and_IoT-/blob/master/BHAKTI_TIME_linearData_sine_f_online_GD.ipynb\" target=\"_parent\"><img src=\"https://colab.research.google.com/assets/colab-badge.svg\" alt=\"Open In Colab\"/></a>"
      ]
    },
    {
      "cell_type": "markdown",
      "metadata": {
        "colab_type": "text",
        "id": "v_FCTVE5SeoZ"
      },
      "source": [
        "# Function Approximation with a Linear Model\n",
        "$y=f(x)=\\sin x$ <br />\n",
        "Approximate this function with a linear function of the form <br />\n",
        "$y = w_0 + w_1 x + w_2 x^2$ <br />\n",
        "in the range $x\\in(0,2\\pi)$"
      ]
    },
    {
      "cell_type": "code",
      "metadata": {
        "colab_type": "code",
        "id": "O6bDaX3HSeod",
        "colab": {}
      },
      "source": [
        "import numpy as np"
      ],
      "execution_count": 0,
      "outputs": []
    },
    {
      "cell_type": "markdown",
      "metadata": {
        "colab_type": "text",
        "id": "2FNjNtG_Seon"
      },
      "source": [
        "### Generate data"
      ]
    },
    {
      "cell_type": "code",
      "metadata": {
        "colab_type": "code",
        "deletable": false,
        "id": "x-qd7ulwSeor",
        "nbgrader": {
          "checksum": "c56e81e6f580ac51b67dff240b2b0716",
          "grade": false,
          "grade_id": "cell-42de5e80af6ec099",
          "locked": false,
          "schema_version": 1,
          "solution": true
        },
        "colab": {}
      },
      "source": [
        "def fx(x):\n",
        "    '''\n",
        "    Input:\n",
        "        x: float (scalar) or np array\n",
        "    Output:\n",
        "        y: float (scalar) or np array; y=f(x)=sin(x)\n",
        "        \n",
        "    HINT: Use web search on how to take sine in numpy\n",
        "    '''\n",
        "    # YOUR CODE HERE\n",
        "    y = np.sin(x)\n",
        "    return y"
      ],
      "execution_count": 0,
      "outputs": []
    },
    {
      "cell_type": "code",
      "metadata": {
        "colab_type": "code",
        "deletable": false,
        "editable": false,
        "id": "P2jr7gtUSeow",
        "nbgrader": {
          "checksum": "a70047c1b2c6de2a8380d1c152b26d5a",
          "grade": true,
          "grade_id": "cell-f27e4f64b287cd94",
          "locked": true,
          "points": 1,
          "schema_version": 1,
          "solution": false
        },
        "outputId": "48d54d9c-abf2-4b38-8707-41735586210f",
        "colab": {
          "base_uri": "https://localhost:8080/",
          "height": 34
        }
      },
      "source": [
        "'''Testing'''\n",
        "def test_fx():\n",
        "    assert fx(0)==0\n",
        "    assert np.isclose(fx(np.pi/2), 1, atol=0.001)\n",
        "    assert np.isclose(fx(np.pi/4), 0.707, atol=0.001)\n",
        "    print('Test passed', '\\U0001F44D')\n",
        "test_fx()"
      ],
      "execution_count": 130,
      "outputs": [
        {
          "output_type": "stream",
          "text": [
            "Test passed 👍\n"
          ],
          "name": "stdout"
        }
      ]
    },
    {
      "cell_type": "code",
      "metadata": {
        "colab_type": "code",
        "deletable": false,
        "id": "Rvreno9aSeo4",
        "nbgrader": {
          "checksum": "091a38d6b28f58e68e2c3c1de0745096",
          "grade": false,
          "grade_id": "cell-284fa421c7c60677",
          "locked": false,
          "schema_version": 1,
          "solution": true
        },
        "colab": {}
      },
      "source": [
        "def generateX_fx(N):\n",
        "    '''\n",
        "    Generate N random points in the range (0,1)\n",
        "    Input:\n",
        "        N: int\n",
        "    Outputs:\n",
        "        x: np vector of shape (N,)\n",
        "        y: np vector of shape (N,); y=f(x)\n",
        "    '''\n",
        "    # YOUR CODE HERE\n",
        "    x=np.array(np.random.random(N)*2*np.pi)\n",
        "    #print(x)\n",
        "    yd=np.zeros((N,1))\n",
        "    for i in range(x.shape[0]):\n",
        "      yd[i]=fx(x[i])\n",
        "    return x, yd"
      ],
      "execution_count": 0,
      "outputs": []
    },
    {
      "cell_type": "code",
      "metadata": {
        "colab_type": "code",
        "deletable": false,
        "editable": false,
        "id": "xJWPe3aYSeo9",
        "nbgrader": {
          "checksum": "cca62f585709b0bbb2cacae0123d922d",
          "grade": true,
          "grade_id": "cell-70c27081df964f24",
          "locked": true,
          "points": 2,
          "schema_version": 1,
          "solution": false
        },
        "outputId": "5db21440-a94e-4a30-9c05-6f8ad77f2def",
        "colab": {
          "base_uri": "https://localhost:8080/",
          "height": 34
        }
      },
      "source": [
        "'''Testing'''\n",
        "def test_generateX_fx():\n",
        "    x, yd = generateX_fx(20)\n",
        "    assert x.shape[0]==20\n",
        "    assert yd.shape[0]==20\n",
        "    print('Test passed', '\\U0001F44D')\n",
        "test_generateX_fx()"
      ],
      "execution_count": 132,
      "outputs": [
        {
          "output_type": "stream",
          "text": [
            "Test passed 👍\n"
          ],
          "name": "stdout"
        }
      ]
    },
    {
      "cell_type": "markdown",
      "metadata": {
        "colab_type": "text",
        "id": "E_Q0TMndSepH"
      },
      "source": [
        "### Plotting"
      ]
    },
    {
      "cell_type": "code",
      "metadata": {
        "colab_type": "code",
        "id": "5oPRM3jISepJ",
        "colab": {}
      },
      "source": [
        "def plotdata():\n",
        "    x, yd = generateX_fx(20)\n",
        "    import matplotlib.pyplot as plt\n",
        "    i = x.argsort()\n",
        "    plt.plot(x[i],yd[i])\n",
        "    plt.ylabel('f(x)')\n",
        "    plt.xlabel('x')\n",
        "    plotdata()"
      ],
      "execution_count": 0,
      "outputs": []
    },
    {
      "cell_type": "markdown",
      "metadata": {
        "colab_type": "text",
        "id": "OeNg_-YiSepV"
      },
      "source": [
        "## Training\n",
        "We will now define a linear model to estimate the above function, and train it with all the data"
      ]
    },
    {
      "cell_type": "markdown",
      "metadata": {
        "colab_type": "text",
        "id": "Xun43bc1SepX"
      },
      "source": [
        "### Define model\n",
        "$y = \\sum_{d=0}^D w_d x^d$, here, $D$ is the degree of the model, say D=2 <br />\n",
        "\n",
        "In matrix representation: y = Aw <br/>"
      ]
    },
    {
      "cell_type": "code",
      "metadata": {
        "colab_type": "code",
        "deletable": false,
        "id": "FsiFYhvFSepb",
        "nbgrader": {
          "checksum": "43d662fc8a6834a180aa0c5297d820b0",
          "grade": false,
          "grade_id": "cell-61478073f3568175",
          "locked": false,
          "schema_version": 1,
          "solution": true
        },
        "colab": {}
      },
      "source": [
        "def createA(x, D):\n",
        "    '''\n",
        "    Create the matrix A with degree D\n",
        "    Input:\n",
        "        x: np vector of shape (N,)\n",
        "        D: degree of the model\n",
        "    Output:\n",
        "        A: np matrix of shape (N,D+1)\n",
        "    '''\n",
        "    # YOUR CODE HERE\n",
        "    A=np.zeros((len(x),D+1))\n",
        "    for i in range(len(x)):\n",
        "      for j in range(D+1):\n",
        "        A[i][j]=x[i]**j\n",
        "        \n",
        "    return A"
      ],
      "execution_count": 0,
      "outputs": []
    },
    {
      "cell_type": "code",
      "metadata": {
        "colab_type": "code",
        "deletable": false,
        "editable": false,
        "id": "2HawYUU2Sepo",
        "nbgrader": {
          "checksum": "97794d9da47d85684b54dfeb99936538",
          "grade": true,
          "grade_id": "cell-c1a05c3a2dc0aa06",
          "locked": true,
          "points": 4,
          "schema_version": 1,
          "solution": false
        },
        "outputId": "e19a7e85-a9e9-4e60-b8ee-38ae9dbb16f6",
        "colab": {
          "base_uri": "https://localhost:8080/",
          "height": 34
        }
      },
      "source": [
        "'''Testing'''\n",
        "def test_createA():\n",
        "    x = np.array([1,2,3])\n",
        "    A = createA(x, 2)\n",
        "    assert A.shape==(3,3)\n",
        "    assert np.all(A[0,:]==1)\n",
        "    assert np.all(A==np.array([[1.0, 1.0, 1.0], [1.0, 2.0, 4.0], [1.0, 3.0, 9.0]]))\n",
        "    print('Test passed', '\\U0001F44D')\n",
        "test_createA()"
      ],
      "execution_count": 135,
      "outputs": [
        {
          "output_type": "stream",
          "text": [
            "Test passed 👍\n"
          ],
          "name": "stdout"
        }
      ]
    },
    {
      "cell_type": "markdown",
      "metadata": {
        "colab_type": "text",
        "id": "C-fyoPm9Sepy"
      },
      "source": [
        "### Estimate Weights\n",
        "Estimate w from yd and A. Use the least square solution you learnt in the video"
      ]
    },
    {
      "cell_type": "code",
      "metadata": {
        "colab_type": "code",
        "deletable": false,
        "id": "dwj8wG7dSepz",
        "nbgrader": {
          "checksum": "d35f9eb091158943c36dcb9baec40c0d",
          "grade": false,
          "grade_id": "cell-9bdf45f987ecf410",
          "locked": false,
          "schema_version": 1,
          "solution": true
        },
        "colab": {}
      },
      "source": [
        "def train_w(A, yd):\n",
        "    '''\n",
        "    Inputs:\n",
        "        A: np matrix of shape (N,D+1)\n",
        "        yd: np vector of shape (N,)\n",
        "    Output:\n",
        "        w: np vector of shape (D+1,)\n",
        "    '''\n",
        "    # YOUR CODE HERE\n",
        "    w = np.dot(np.dot(np.linalg.inv(np.dot(A.T,A)),A.T),yd)\n",
        "    return w"
      ],
      "execution_count": 0,
      "outputs": []
    },
    {
      "cell_type": "code",
      "metadata": {
        "colab_type": "code",
        "deletable": false,
        "editable": false,
        "id": "JBVIi_wnSep7",
        "nbgrader": {
          "checksum": "58aeb1b36fb5bb3f79ae8a77f796fc4c",
          "grade": true,
          "grade_id": "cell-4fd1ee72464aa0d8",
          "locked": true,
          "points": 4,
          "schema_version": 1,
          "solution": false
        },
        "outputId": "ab3e9813-fa29-474c-df6e-871f64c6f6d5",
        "colab": {
          "base_uri": "https://localhost:8080/",
          "height": 34
        }
      },
      "source": [
        "'''Testing'''\n",
        "def test_train_w():\n",
        "    A = np.array([[1.0, 1.0, 1.0], [1.0, 2.0, 4.0], [1.0, 3.0, 9.0]])\n",
        "    yd = np.array([1,2,3])\n",
        "    assert np.all(np.isclose(train_w(A, yd), np.array([0,1,0]), atol=.001))\n",
        "    yd = yd*yd\n",
        "    assert np.all(np.isclose(train_w(A, yd), np.array([0,0,1]), atol=.001))\n",
        "    print('Test passed', '\\U0001F44D')\n",
        "test_train_w()"
      ],
      "execution_count": 137,
      "outputs": [
        {
          "output_type": "stream",
          "text": [
            "Test passed 👍\n"
          ],
          "name": "stdout"
        }
      ]
    },
    {
      "cell_type": "markdown",
      "metadata": {
        "colab_type": "text",
        "id": "c_hzperdSeqF"
      },
      "source": [
        "### Estimate y from the model, given x"
      ]
    },
    {
      "cell_type": "code",
      "metadata": {
        "colab_type": "code",
        "deletable": false,
        "id": "3kgewrd3SeqI",
        "nbgrader": {
          "checksum": "fedd759dfd0f0f7bd42f810fd67c06e7",
          "grade": false,
          "grade_id": "cell-18a403e9e2d75c54",
          "locked": false,
          "schema_version": 1,
          "solution": true
        },
        "colab": {}
      },
      "source": [
        "def predict_y(w, x):\n",
        "    '''\n",
        "    Inputs:\n",
        "        w: np vector of shape (D+1,)\n",
        "        x: np vector of shape (N,)\n",
        "    Outputs:\n",
        "        y: np vector of shape (N,); y=Aw\n",
        "    '''\n",
        "    # YOUR CODE HERE\n",
        "    A=createA(x,len(w)-1)\n",
        "    y=np.dot(A,w)\n",
        "    return y"
      ],
      "execution_count": 0,
      "outputs": []
    },
    {
      "cell_type": "code",
      "metadata": {
        "colab_type": "code",
        "deletable": false,
        "editable": false,
        "id": "AWqmGV_6SeqR",
        "nbgrader": {
          "checksum": "d283dcd28dd28dc7dd81c7d85845d2cc",
          "grade": true,
          "grade_id": "cell-66e9156fdbab1ffe",
          "locked": true,
          "points": 3,
          "schema_version": 1,
          "solution": false
        },
        "outputId": "eb24ebe2-ee0b-4d96-93c6-7fe2fec0cef7",
        "colab": {
          "base_uri": "https://localhost:8080/",
          "height": 34
        }
      },
      "source": [
        "def test_predict_y():\n",
        "    w = np.array([1,2,3])\n",
        "    x = np.array([0.2,0.5,0.6])\n",
        "    y = predict_y(w, x)\n",
        "    assert np.all(np.isclose(y, np.array([1.52, 2.75, 3.28]), atol=0.001))\n",
        "    print('Test passed', '\\U0001F44D')\n",
        "test_predict_y()"
      ],
      "execution_count": 139,
      "outputs": [
        {
          "output_type": "stream",
          "text": [
            "Test passed 👍\n"
          ],
          "name": "stdout"
        }
      ]
    },
    {
      "cell_type": "markdown",
      "metadata": {
        "colab_type": "text",
        "id": "Po93sQmUSeqY"
      },
      "source": [
        "### Estimate Error\n",
        "Find E as the mean squared error"
      ]
    },
    {
      "cell_type": "code",
      "metadata": {
        "colab_type": "code",
        "deletable": false,
        "id": "8ZoyyIsaSeqb",
        "nbgrader": {
          "checksum": "f4531cd0f5c776d35ac5bfb5927c2488",
          "grade": false,
          "grade_id": "cell-430f96298f1ea137",
          "locked": false,
          "schema_version": 1,
          "solution": true
        },
        "colab": {}
      },
      "source": [
        "def compute_mse(y, yd):\n",
        "    '''\n",
        "    Inputs:\n",
        "        y: np vector of shape (N,); y=Aw\n",
        "        yd: np vector of shape (N,); yd=f(x), ie., desired or true value\n",
        "    Output:\n",
        "        mse: mean squared error\n",
        "    '''\n",
        "    # YOUR CODE HERE\n",
        "    mse=0\n",
        "    for i in range(len(y)):\n",
        "      mse = mse + ((yd[i] - y[i]) * (yd[i] - y[i]))\n",
        "    #mse = round(mse,2) \n",
        "    mse=mse/len(y)\n",
        "    #print(mse)\n",
        "    return mse"
      ],
      "execution_count": 0,
      "outputs": []
    },
    {
      "cell_type": "code",
      "metadata": {
        "colab_type": "code",
        "deletable": false,
        "editable": false,
        "id": "J6gNFt2wSeqj",
        "nbgrader": {
          "checksum": "61c51ed2e906b9e1eb66451cbd48e23a",
          "grade": true,
          "grade_id": "cell-2ce30fda249b5070",
          "locked": true,
          "points": 2,
          "schema_version": 1,
          "solution": false
        },
        "outputId": "0c741c03-a995-4dc6-c699-94aac007bd8a",
        "colab": {
          "base_uri": "https://localhost:8080/",
          "height": 34
        }
      },
      "source": [
        "'''Testing'''\n",
        "def test_compute_mse():\n",
        "    yd = np.array([1,0,1,0])\n",
        "    y = np.array([.8,.2,.8,.2])\n",
        "    assert np.isclose(compute_mse(y, yd), 0.04, atol=0.003)\n",
        "    print('Test passed', '\\U0001F44D')\n",
        "test_compute_mse()"
      ],
      "execution_count": 141,
      "outputs": [
        {
          "output_type": "stream",
          "text": [
            "Test passed 👍\n"
          ],
          "name": "stdout"
        }
      ]
    },
    {
      "cell_type": "markdown",
      "metadata": {
        "colab_type": "text",
        "id": "mqRwu1uTSeqr"
      },
      "source": [
        "### Plotting\n"
      ]
    },
    {
      "cell_type": "code",
      "metadata": {
        "colab_type": "code",
        "id": "RVOZzb_xSeqs",
        "colab": {}
      },
      "source": [
        "def plotModel(x, y, yd):\n",
        "    import matplotlib.pyplot as plt\n",
        "    i = x.argsort()\n",
        "    plt.figure()\n",
        "    plt.plot(x[i],y[i],'g-o')\n",
        "    plt.plot(x[i],yd[i],'r-o')\n",
        "    plt.ylabel('f(x)')\n",
        "    plt.xlabel('x')\n",
        "    plt.legend(['estimated', 'true'])\n",
        "    plt.show()"
      ],
      "execution_count": 0,
      "outputs": []
    },
    {
      "cell_type": "markdown",
      "metadata": {
        "colab_type": "text",
        "id": "7YuPofgESeqz"
      },
      "source": [
        "# EXPERIMENTS\n",
        "## Could you train it?\n",
        "Using the above functions:\n",
        "- Generate 20 training points\n",
        "- Train your linear model using x and yd\n",
        "- Predict y (using the linear model you found above) for the training data x\n",
        "- Compare y with yd to find the mean-squared error "
      ]
    },
    {
      "cell_type": "code",
      "metadata": {
        "colab_type": "code",
        "deletable": false,
        "id": "C6DxpengSeq1",
        "nbgrader": {
          "checksum": "d73e64237a36e1b3e0914ab58e88418e",
          "grade": false,
          "grade_id": "cell-a8b1b747eafd040b",
          "locked": false,
          "schema_version": 1,
          "solution": true
        },
        "colab": {}
      },
      "source": [
        "def trainModel(N, D):\n",
        "    '''\n",
        "    Inputs:\n",
        "        N: number of samples\n",
        "        D: degree of the model\n",
        "    Outputs:\n",
        "        x: np array of size (N,)\n",
        "        y: np array of size (N,)\n",
        "        yd: np array of size (N,)\n",
        "        w: np array of size (D+1,)\n",
        "        mse: scalar float\n",
        "    '''\n",
        "    # YOUR CODE HERE\n",
        "    x,yd=generateX_fx(N)\n",
        "    A=createA(x,D)\n",
        "    w=train_w(A, yd)\n",
        "    y=predict_y(w, x)\n",
        "    eta=1e-25\n",
        "    for i in range(A.shape[0]):\n",
        "      for j in range(D+1):\n",
        "        w[j]=w[j]+eta*(2/N)*(yd[i] - y[i])*(x[i]**j)\n",
        "        \n",
        "    y=predict_y(w, x)\n",
        "    mse=compute_mse(y, yd)\n",
        "    \n",
        "    \n",
        "    return x, y, yd, w, mse"
      ],
      "execution_count": 0,
      "outputs": []
    },
    {
      "cell_type": "code",
      "metadata": {
        "colab_type": "code",
        "deletable": false,
        "editable": false,
        "id": "_IdCGcs-Seq5",
        "nbgrader": {
          "checksum": "31658a35da2f55c58e43ce49187c1902",
          "grade": true,
          "grade_id": "cell-1580e85d9db3a428",
          "locked": true,
          "points": 4,
          "schema_version": 1,
          "solution": false
        },
        "outputId": "fd4bb726-7fc7-4636-bbd7-66e5352205e6",
        "colab": {
          "base_uri": "https://localhost:8080/",
          "height": 368
        }
      },
      "source": [
        "'''testing'''\n",
        "def test_trainModel():\n",
        "    N = 20\n",
        "    D = 2\n",
        "    x, y, yd, w, mse = trainModel(N,D)\n",
        "    assert x.shape[0]==20\n",
        "    assert w.shape[0]==D+1\n",
        "    print(w)\n",
        "    print('MSE on train data = ', mse)\n",
        "    plotModel(x,y,yd)\n",
        "    print('Test passed', '\\U0001F44D')\n",
        "test_trainModel()"
      ],
      "execution_count": 144,
      "outputs": [
        {
          "output_type": "stream",
          "text": [
            "[[ 1.01798282]\n",
            " [-0.33796178]\n",
            " [-0.00359735]]\n",
            "MSE on train data =  [0.10383728]\n"
          ],
          "name": "stdout"
        },
        {
          "output_type": "display_data",
          "data": {
            "image/png": "[encoded data removed]",
            "text/plain": [
              "<Figure size 432x288 with 1 Axes>"
            ]
          },
          "metadata": {
            "tags": []
          }
        },
        {
          "output_type": "stream",
          "text": [
            "Test passed 👍\n"
          ],
          "name": "stdout"
        }
      ]
    },
    {
      "cell_type": "markdown",
      "metadata": {
        "colab_type": "text",
        "id": "LS-EDxF6SerA"
      },
      "source": [
        "## Could you test it on new (test) points?\n",
        "Using the above functions:\n",
        "- Generate 30 test points\n",
        "- Estimate y using the linear model w you found above. Do NOT train again\n",
        "- Compare y with yd to find the mean-squared error <br />"
      ]
    },
    {
      "cell_type": "code",
      "metadata": {
        "colab_type": "code",
        "deletable": false,
        "id": "HjfX98chSerD",
        "nbgrader": {
          "checksum": "8e2c57539832dcdc5a240bb5fb5b1521",
          "grade": false,
          "grade_id": "cell-4a89399915bf1752",
          "locked": false,
          "schema_version": 1,
          "solution": true
        },
        "colab": {}
      },
      "source": [
        "def testModel(Ntest, w):\n",
        "    '''\n",
        "    Inputs:\n",
        "        Ntest: number of test samples to be generated\n",
        "        w: np array of size (D+1,)\n",
        "    Outputs:\n",
        "        x: np array of size (N,)\n",
        "        y: np array of size (N,)\n",
        "        yd: np array of size (N,)\n",
        "        mse: scalar float\n",
        "    '''\n",
        "    # YOUR CODE HERE\n",
        "    x,yd=generateX_fx(Ntest)\n",
        "    '''A=createA(x,D)\n",
        "    w=train_w(A, yd)'''\n",
        "    y=predict_y(w, x)\n",
        "    mse=compute_mse(y, yd)\n",
        "    return x, y, yd, mse"
      ],
      "execution_count": 0,
      "outputs": []
    },
    {
      "cell_type": "code",
      "metadata": {
        "colab_type": "code",
        "deletable": false,
        "editable": false,
        "id": "6tVE9b7SSerI",
        "nbgrader": {
          "checksum": "9f556d9fffe8e63bf7c3832fe47a5109",
          "grade": true,
          "grade_id": "cell-7b7b3892f3df2282",
          "locked": true,
          "points": 4,
          "schema_version": 1,
          "solution": false
        },
        "colab": {
          "base_uri": "https://localhost:8080/",
          "height": 521
        },
        "outputId": "c518b53b-babd-4c06-f85f-40a88c96f6e9"
      },
      "source": [
        "'''Testing'''\n",
        "def test_testModel():\n",
        "    N = 30\n",
        "    D = 10\n",
        "    x, y, yd, w, mse = trainModel(N,D)\n",
        "    assert x.shape[0]==N\n",
        "    assert w.shape[0]==D+1\n",
        "    print(w)\n",
        "    print('MSE on train data = ', mse)\n",
        "    plotModel(x,y,yd)\n",
        "    Ntest = 50\n",
        "    x, y, yd, mse = testModel(Ntest,w)\n",
        "    print('MSE on test data = ', mse)\n",
        "    #plotModel(x,y,yd)\n",
        "    print('Test passed', '\\U0001F44D')\n",
        "test_testModel()"
      ],
      "execution_count": 146,
      "outputs": [
        {
          "output_type": "stream",
          "text": [
            "[[ 1.13495258e-01]\n",
            " [ 9.89718723e-01]\n",
            " [-4.39902207e-03]\n",
            " [-1.73588035e-01]\n",
            " [ 7.91825439e-03]\n",
            " [ 3.69438318e-03]\n",
            " [ 1.77205078e-03]\n",
            " [-6.40499480e-04]\n",
            " [ 6.79726093e-05]\n",
            " [-2.56065158e-06]\n",
            " [ 9.73382467e-09]]\n",
            "MSE on train data =  [0.00372116]\n"
          ],
          "name": "stdout"
        },
        {
          "output_type": "display_data",
          "data": {
            "image/png": "[encoded data removed]",
            "text/plain": [
              "<Figure size 432x288 with 1 Axes>"
            ]
          },
          "metadata": {
            "tags": []
          }
        },
        {
          "output_type": "stream",
          "text": [
            "MSE on test data =  [0.0023696]\n",
            "Test passed 👍\n"
          ],
          "name": "stdout"
        }
      ]
    },
    {
      "cell_type": "markdown",
      "metadata": {
        "colab_type": "text",
        "id": "Go36dp6wSerQ"
      },
      "source": [
        "# ADVANCED\n",
        "\n",
        "## Does the performance improve with increasing the number of training points?\n",
        "- Repeat the training with different no. of samples. Take N=3, 5, 10, 30; and D=5\n",
        "- Plot training error vs N\n",
        "- Plot test error vs N"
      ]
    },
    {
      "cell_type": "code",
      "metadata": {
        "colab_type": "code",
        "id": "3iURU2RvSerR",
        "colab": {
          "base_uri": "https://localhost:8080/",
          "height": 313
        },
        "outputId": "9d309aa9-a025-4a0e-d667-66e651b670a7"
      },
      "source": [
        "N_list=[3,5,10,30]\n",
        "import matplotlib.pyplot as plt\n",
        "D=5\n",
        "train_error=[]\n",
        "test_error=[]\n",
        "for i in N_list:\n",
        "  x, y, yd, w, mse=trainModel(i,D)\n",
        "  train_error.append(mse)\n",
        "\n",
        "  x, y, yd, mse=testModel(i,w)\n",
        "  test_error.append(mse)\n",
        "plt.plot(train_error,N_list)  \n",
        " \n",
        "\n",
        "plt.xlabel('train_error')\n",
        "plt.ylabel('N_list')\n",
        "plt.title(' training error vs N')\n",
        "plt.plot(test_error,N_list) "
      ],
      "execution_count": 147,
      "outputs": [
        {
          "output_type": "execute_result",
          "data": {
            "text/plain": [
              "[<matplotlib.lines.Line2D at 0x7f958f4cc668>]"
            ]
          },
          "metadata": {
            "tags": []
          },
          "execution_count": 147
        },
        {
          "output_type": "display_data",
          "data": {
            "image/png": "[encoded data removed]",
            "text/plain": [
              "<Figure size 432x288 with 1 Axes>"
            ]
          },
          "metadata": {
            "tags": []
          }
        }
      ]
    },
    {
      "cell_type": "code",
      "metadata": {
        "colab_type": "code",
        "id": "WB1Zj__RSerX",
        "colab": {
          "base_uri": "https://localhost:8080/",
          "height": 313
        },
        "outputId": "7840de59-88c3-4891-e87a-940a9716eef0"
      },
      "source": [
        "D_list=[0, 1, 2, 4, 7, 12]\n",
        "N=10\n",
        "train_error1=[]\n",
        "test_error1=[]\n",
        "for i in D_list:\n",
        "  x, y, yd, w, mse=trainModel(N,i)\n",
        "  train_error1.append(mse)\n",
        "  x, y, yd, mse=testModel(N,w)\n",
        "  test_error1.append(mse)\n",
        "plt.plot(train_error1,D_list)\n",
        "plt.plot(test_error1,D_list)\n",
        "\n",
        "plt.xlabel('train_error1')\n",
        "plt.ylabel('D_list')\n",
        "plt.title(' training error vs D')"
      ],
      "execution_count": 148,
      "outputs": [
        {
          "output_type": "execute_result",
          "data": {
            "text/plain": [
              "Text(0.5, 1.0, ' training error vs D')"
            ]
          },
          "metadata": {
            "tags": []
          },
          "execution_count": 148
        },
        {
          "output_type": "display_data",
          "data": {
            "image/png": "[encoded data removed]",
            "text/plain": [
              "<Figure size 432x288 with 1 Axes>"
            ]
          },
          "metadata": {
            "tags": []
          }
        }
      ]
    },
    {
      "cell_type": "markdown",
      "metadata": {
        "colab_type": "text",
        "id": "ufAvYDV_SerW"
      },
      "source": [
        "## Does the performance improve with increasing the degree D of the model?\n",
        "- Repeat the training with different degree models. Take D=0, 1, 2, 4, 7, 12, and N=10\n",
        "- Plot training error vs D\n",
        "- Plot test error vs D\n",
        "- Plot y vs x for each D"
      ]
    },
    {
      "cell_type": "code",
      "metadata": {
        "id": "sisWsm_1olkK",
        "colab_type": "code",
        "colab": {
          "base_uri": "https://localhost:8080/",
          "height": 269
        },
        "outputId": "721c75bd-e2fe-44fd-dd8e-54310db9aaf9"
      },
      "source": [
        "for i in D_list:\n",
        "  x, y, yd, w, mse=trainModel(N,i)\n",
        "  plt.plot(x,y)\n",
        "  plt.plot()"
      ],
      "execution_count": 149,
      "outputs": [
        {
          "output_type": "display_data",
          "data": {
            "image/png": "[encoded data removed]",
            "text/plain": [
              "<Figure size 432x288 with 1 Axes>"
            ]
          },
          "metadata": {
            "tags": []
          }
        }
      ]
    },
    {
      "cell_type": "code",
      "metadata": {
        "id": "Dt_yYvm_o2B-",
        "colab_type": "code",
        "colab": {}
      },
      "source": [
        ""
      ],
      "execution_count": 0,
      "outputs": []
    }
  ]
}