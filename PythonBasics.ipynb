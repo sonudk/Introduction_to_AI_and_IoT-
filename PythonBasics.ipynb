{
  "nbformat": 4,
  "nbformat_minor": 0,
  "metadata": {
    "colab": {
      "name": "PythonBasics.ipynb",
      "version": "0.3.2",
      "provenance": [],
      "include_colab_link": true
    },
    "language_info": {
      "codemirror_mode": {
        "name": "ipython",
        "version": 3
      },
      "file_extension": ".py",
      "mimetype": "text/x-python",
      "name": "python",
      "nbconvert_exporter": "python",
      "pygments_lexer": "ipython3",
      "version": "3.7.3"
    },
    "kernelspec": {
      "display_name": "Python 3",
      "language": "python",
      "name": "python3"
    }
  },
  "cells": [
    {
      "cell_type": "markdown",
      "metadata": {
        "id": "view-in-github",
        "colab_type": "text"
      },
      "source": [
        "<a href=\"https://colab.research.google.com/github/sonudk/Introduction_to_AI_and_IoT-/blob/master/PythonBasics.ipynb\" target=\"_parent\"><img src=\"https://colab.research.google.com/assets/colab-badge.svg\" alt=\"Open In Colab\"/></a>"
      ]
    },
    {
      "cell_type": "markdown",
      "metadata": {
        "id": "8FdsMv-NxsDM",
        "colab_type": "text"
      },
      "source": [
        "Yesterday we covered\n",
        "- values\n",
        "- variables\n",
        "- lists\n",
        "- arithmetic operations - +, -  etc\n",
        "- logical operations\n",
        "- conditionals - if/else/elif\n",
        "- loops - while/for"
      ]
    },
    {
      "cell_type": "code",
      "metadata": {
        "id": "qsS6cyKDxsDN",
        "colab_type": "code",
        "colab": {
          "base_uri": "https://localhost:8080/",
          "height": 51
        },
        "outputId": "fc8eccce-635a-48bb-f437-af49836c04fc"
      },
      "source": [
        "x = input()# how to use input function\n",
        "print('The input is ', x)"
      ],
      "execution_count": 2,
      "outputs": [
        {
          "output_type": "stream",
          "text": [
            "445\n",
            "The input is  445\n"
          ],
          "name": "stdout"
        }
      ]
    },
    {
      "cell_type": "code",
      "metadata": {
        "id": "ggxIGqUrxsDS",
        "colab_type": "code",
        "colab": {
          "base_uri": "https://localhost:8080/",
          "height": 34
        },
        "outputId": "93a485a4-4248-440d-caa7-ef3f2ae5277c"
      },
      "source": [
        "type(x) "
      ],
      "execution_count": 3,
      "outputs": [
        {
          "output_type": "execute_result",
          "data": {
            "text/plain": [
              "str"
            ]
          },
          "metadata": {
            "tags": []
          },
          "execution_count": 3
        }
      ]
    },
    {
      "cell_type": "code",
      "metadata": {
        "id": "D9YgbbEVxsDV",
        "colab_type": "code",
        "colab": {
          "base_uri": "https://localhost:8080/",
          "height": 68
        },
        "outputId": "1db13102-9c28-4692-eadb-61f2bbd140d3"
      },
      "source": [
        "number_1 = input('Please enter number 1')\n",
        "number_2 = input('Please enter number 2')\n",
        "print('Sum of the numbers is ', int(number_1) + int(number_2))"
      ],
      "execution_count": 4,
      "outputs": [
        {
          "output_type": "stream",
          "text": [
            "Please enter number 1566\n",
            "Please enter number 2655\n",
            "Sum of the numbers is  1221\n"
          ],
          "name": "stdout"
        }
      ]
    },
    {
      "cell_type": "markdown",
      "metadata": {
        "id": "UdQCM9YmxsDa",
        "colab_type": "text"
      },
      "source": [
        "### Basic calculator"
      ]
    },
    {
      "cell_type": "code",
      "metadata": {
        "id": "-jRm1G3dxsDb",
        "colab_type": "code",
        "colab": {
          "base_uri": "https://localhost:8080/",
          "height": 85
        },
        "outputId": "cbef9a69-7b93-41ff-ade6-65125c6e23a5"
      },
      "source": [
        "# n_1, operator, n_2 -> it evaluates the expression\n",
        "# n_1 =1 , operator = *, n_2 = 2 -> 1*2 -> 2\n",
        "n_1 = int(input('input number 1'))\n",
        "op = input('input the operator')\n",
        "n_2 = int(input('input number 2'))\n",
        "\n",
        "if(op == '+'):\n",
        "    result = n_1 + n_2\n",
        "elif(op == '-'):\n",
        "    result = n_1 - n_2\n",
        "    \n",
        "\n",
        "print('evaluated result is ', result)\n"
      ],
      "execution_count": 5,
      "outputs": [
        {
          "output_type": "stream",
          "text": [
            "input number 1555\n",
            "input the operator-\n",
            "input number 2656535\n",
            "evaluated result is  -655980\n"
          ],
          "name": "stdout"
        }
      ]
    },
    {
      "cell_type": "markdown",
      "metadata": {
        "id": "DzQkl5PGxsDg",
        "colab_type": "text"
      },
      "source": [
        "### Useful list functions"
      ]
    },
    {
      "cell_type": "code",
      "metadata": {
        "id": "zUInqf9YxsDg",
        "colab_type": "code",
        "colab": {
          "base_uri": "https://localhost:8080/",
          "height": 34
        },
        "outputId": "8c83d82e-ef98-4f0e-e782-396f26878cd0"
      },
      "source": [
        "l = [1, 2, 3, 4, 5]\n",
        "len(l)"
      ],
      "execution_count": 6,
      "outputs": [
        {
          "output_type": "execute_result",
          "data": {
            "text/plain": [
              "5"
            ]
          },
          "metadata": {
            "tags": []
          },
          "execution_count": 6
        }
      ]
    },
    {
      "cell_type": "code",
      "metadata": {
        "id": "dbP3Td0JxsDn",
        "colab_type": "code",
        "colab": {
          "base_uri": "https://localhost:8080/",
          "height": 34
        },
        "outputId": "5c2f42f7-da77-47c0-ae5a-c8fc7caad2a7"
      },
      "source": [
        "l.append(6) ## Do not use l = l.append(6), value of l becomes None\n",
        "print(l) "
      ],
      "execution_count": 7,
      "outputs": [
        {
          "output_type": "stream",
          "text": [
            "[1, 2, 3, 4, 5, 6]\n"
          ],
          "name": "stdout"
        }
      ]
    },
    {
      "cell_type": "code",
      "metadata": {
        "id": "g2U40uUSxsDs",
        "colab_type": "code",
        "colab": {
          "base_uri": "https://localhost:8080/",
          "height": 34
        },
        "outputId": "93ae2a69-dc46-4b8d-cc26-d462de4fdc4f"
      },
      "source": [
        "l.index(6) # Returns index of first occurence of argument if present, error otherwise"
      ],
      "execution_count": 8,
      "outputs": [
        {
          "output_type": "execute_result",
          "data": {
            "text/plain": [
              "5"
            ]
          },
          "metadata": {
            "tags": []
          },
          "execution_count": 8
        }
      ]
    },
    {
      "cell_type": "code",
      "metadata": {
        "id": "8j42VS1xhKw0",
        "colab_type": "code",
        "colab": {
          "base_uri": "https://localhost:8080/",
          "height": 34
        },
        "outputId": "1ae868fd-2c86-4641-c970-6a0044d4a553"
      },
      "source": [
        "list1 = [[21,223,23,2,3,23,2,3],[23,23,23,3,'233'],[3],[],[2,3,2,3,2,3,3,23,2,3,2,2,3,3,2332]]\n",
        "length=[]\n",
        "for i in list1:\n",
        "  length.append(len(i))\n",
        "print(length)"
      ],
      "execution_count": 9,
      "outputs": [
        {
          "output_type": "stream",
          "text": [
            "[8, 5, 1, 0, 15]\n"
          ],
          "name": "stdout"
        }
      ]
    },
    {
      "cell_type": "code",
      "metadata": {
        "id": "icbn_TzgxsD5",
        "colab_type": "code",
        "colab": {}
      },
      "source": [
        "#list_ = [[1,2 ,3], [4], [5, 6, 7]]\n",
        "#lengths = [3, 1, 3]"
      ],
      "execution_count": 0,
      "outputs": []
    },
    {
      "cell_type": "code",
      "metadata": {
        "id": "uviKjScfxsEA",
        "colab_type": "code",
        "colab": {},
        "outputId": "ba188e12-d737-4e08-edbf-04e854c4ec4e"
      },
      "source": [
        "list_ = [[1,2 ,3], [4], [5, 6, 7]]\n",
        "lengths = []\n",
        "for i in list_:\n",
        "    lengths = lengths + [len(i)]\n",
        "\n",
        "print(lengths)"
      ],
      "execution_count": 0,
      "outputs": [
        {
          "output_type": "stream",
          "text": [
            "[3, 1, 3]\n"
          ],
          "name": "stdout"
        }
      ]
    },
    {
      "cell_type": "code",
      "metadata": {
        "id": "27_KKOVUxsEM",
        "colab_type": "code",
        "colab": {},
        "outputId": "1e3bbaa4-7ba0-4ac1-ee9e-8c41f19bddc5"
      },
      "source": [
        "# Assignment question\n",
        "list_ = [[1], [1, 2], [3], [4]]\n",
        "for i in list_:\n",
        "    while(len(i)<3):\n",
        "        i.append(0)\n",
        "print(list_)\n",
        "\n",
        "\n"
      ],
      "execution_count": 0,
      "outputs": [
        {
          "output_type": "stream",
          "text": [
            "[[1, 0, 0], [1, 2, 0], [3, 0, 0], [4, 0, 0]]\n"
          ],
          "name": "stdout"
        }
      ]
    },
    {
      "cell_type": "code",
      "metadata": {
        "id": "f_Mfuvm6xsEQ",
        "colab_type": "code",
        "colab": {},
        "outputId": "3539fb43-dd74-4229-8226-edc042089160"
      },
      "source": [
        "# Tuple - non modifialbe list\n",
        "# LIsts can be modified like so\n",
        "l1 = [1, 2, 3]\n",
        "l1[2]= 4\n",
        "print(l1)"
      ],
      "execution_count": 0,
      "outputs": [
        {
          "output_type": "stream",
          "text": [
            "[1, 2, 4]\n"
          ],
          "name": "stdout"
        }
      ]
    },
    {
      "cell_type": "code",
      "metadata": {
        "id": "tc3zRjUOxsEU",
        "colab_type": "code",
        "colab": {},
        "outputId": "ce9b7889-2efe-414c-8710-c515f51275f8"
      },
      "source": [
        "t1 = (1, 2, 3)\n",
        "(1, 2, 3) + (4, ) # append to tuple and defining tuple with single element"
      ],
      "execution_count": 0,
      "outputs": [
        {
          "output_type": "execute_result",
          "data": {
            "text/plain": [
              "(1, 2, 3, 4)"
            ]
          },
          "metadata": {
            "tags": []
          },
          "execution_count": 8
        }
      ]
    },
    {
      "cell_type": "code",
      "metadata": {
        "id": "jqfiTakGxsEX",
        "colab_type": "code",
        "colab": {},
        "outputId": "b929a662-fdcc-42f2-c28c-cb33535a77d6"
      },
      "source": [
        "l = [1, 2, 3, 4]\n",
        "l[2]"
      ],
      "execution_count": 0,
      "outputs": [
        {
          "output_type": "execute_result",
          "data": {
            "text/plain": [
              "3"
            ]
          },
          "metadata": {
            "tags": []
          },
          "execution_count": 10
        }
      ]
    },
    {
      "cell_type": "markdown",
      "metadata": {
        "id": "zDZ0UEZaxsEd",
        "colab_type": "text"
      },
      "source": [
        "### Slicing operation"
      ]
    },
    {
      "cell_type": "code",
      "metadata": {
        "id": "Qg-fGUh1xsEe",
        "colab_type": "code",
        "colab": {},
        "outputId": "9cfdec3c-aef4-422a-8964-ecdbf710fa68"
      },
      "source": [
        "l = list(range(10))\n",
        "l"
      ],
      "execution_count": 0,
      "outputs": [
        {
          "output_type": "execute_result",
          "data": {
            "text/plain": [
              "[0, 1, 2, 3, 4, 5, 6, 7, 8, 9]"
            ]
          },
          "metadata": {
            "tags": []
          },
          "execution_count": 12
        }
      ]
    },
    {
      "cell_type": "code",
      "metadata": {
        "id": "QK0bZGQExsEg",
        "colab_type": "code",
        "colab": {},
        "outputId": "c20aef1e-9612-4fc3-f4ca-c8ef9fc2afed"
      },
      "source": [
        "l[0:6] ## slices the list from index 0 to 6-1"
      ],
      "execution_count": 0,
      "outputs": [
        {
          "output_type": "execute_result",
          "data": {
            "text/plain": [
              "[0, 1, 2, 3, 4, 5]"
            ]
          },
          "metadata": {
            "tags": []
          },
          "execution_count": 13
        }
      ]
    },
    {
      "cell_type": "code",
      "metadata": {
        "id": "iJ8CdLv8xsEk",
        "colab_type": "code",
        "colab": {},
        "outputId": "478804af-4e1e-4aae-9493-20e2b593b154"
      },
      "source": [
        "l[:6] # first index if 0 may be omitted"
      ],
      "execution_count": 0,
      "outputs": [
        {
          "output_type": "execute_result",
          "data": {
            "text/plain": [
              "[0, 1, 2, 3, 4, 5]"
            ]
          },
          "metadata": {
            "tags": []
          },
          "execution_count": 14
        }
      ]
    },
    {
      "cell_type": "code",
      "metadata": {
        "id": "b4lPGFhexsEp",
        "colab_type": "code",
        "colab": {},
        "outputId": "98631a99-7a06-4bba-b8f7-f1843fa864e4"
      },
      "source": [
        "l[5:10]"
      ],
      "execution_count": 0,
      "outputs": [
        {
          "output_type": "execute_result",
          "data": {
            "text/plain": [
              "[5, 6, 7, 8, 9]"
            ]
          },
          "metadata": {
            "tags": []
          },
          "execution_count": 15
        }
      ]
    },
    {
      "cell_type": "code",
      "metadata": {
        "id": "ett_bTSkxsEv",
        "colab_type": "code",
        "colab": {},
        "outputId": "2380a681-14db-478c-c8d3-b219b23b5a48"
      },
      "source": [
        "l[5:] # if right index is last index of list, it may be omitted"
      ],
      "execution_count": 0,
      "outputs": [
        {
          "output_type": "execute_result",
          "data": {
            "text/plain": [
              "[5, 6, 7, 8, 9]"
            ]
          },
          "metadata": {
            "tags": []
          },
          "execution_count": 16
        }
      ]
    },
    {
      "cell_type": "code",
      "metadata": {
        "id": "7ANEvosuxsEz",
        "colab_type": "code",
        "colab": {},
        "outputId": "47f300ef-1ea5-4ae3-9d88-5425d19cd02f"
      },
      "source": [
        "## negative indices\n",
        "l[0], l[1], l[2]"
      ],
      "execution_count": 0,
      "outputs": [
        {
          "output_type": "execute_result",
          "data": {
            "text/plain": [
              "(0, 1, 2)"
            ]
          },
          "metadata": {
            "tags": []
          },
          "execution_count": 17
        }
      ]
    },
    {
      "cell_type": "code",
      "metadata": {
        "id": "jjW9Fn9LxsE1",
        "colab_type": "code",
        "colab": {},
        "outputId": "0ad8e1cc-f148-4a6c-da70-054c159cd313"
      },
      "source": [
        "l[-1], l[-2], l[-3] \n",
        "l[len(l) -1], l[len(l - 2)] # and so on"
      ],
      "execution_count": 0,
      "outputs": [
        {
          "output_type": "execute_result",
          "data": {
            "text/plain": [
              "(9, 8, 7)"
            ]
          },
          "metadata": {
            "tags": []
          },
          "execution_count": 18
        }
      ]
    },
    {
      "cell_type": "code",
      "metadata": {
        "id": "fgHXUQ1PxsE5",
        "colab_type": "code",
        "colab": {},
        "outputId": "bfeb9b1f-e2c2-42b3-f58c-7708c4dcf97f"
      },
      "source": [
        "l[0:-2]"
      ],
      "execution_count": 0,
      "outputs": [
        {
          "output_type": "execute_result",
          "data": {
            "text/plain": [
              "[0, 1, 2, 3, 4, 5, 6, 7]"
            ]
          },
          "metadata": {
            "tags": []
          },
          "execution_count": 20
        }
      ]
    },
    {
      "cell_type": "code",
      "metadata": {
        "id": "AdIuEZZyxsE-",
        "colab_type": "code",
        "colab": {},
        "outputId": "a352843f-a59b-49f2-88ef-6734dc0d505d"
      },
      "source": [
        "list_ = [[1, 2, 3], [40, 50], [100, 101, 102, 103]]\n",
        "## last2s = [[2, 3], [40, 50], [102, 103]]\n",
        "last2s = []\n",
        "for i in list_:\n",
        "    last2_in_i = i[-2:]\n",
        "    last2s = last2s + [last2_in_i]\n",
        "print(last2s)"
      ],
      "execution_count": 0,
      "outputs": [
        {
          "output_type": "stream",
          "text": [
            "[[2, 3], [40, 50], [102, 103]]\n"
          ],
          "name": "stdout"
        }
      ]
    },
    {
      "cell_type": "code",
      "metadata": {
        "id": "qtrgnAb8xsFC",
        "colab_type": "code",
        "colab": {}
      },
      "source": [
        "l\n",
        "# without proper ssqquare brackets\n",
        "list_s = l[0:3] + [l[3:5]] + [l[5:9]]+[[l[-1]]]"
      ],
      "execution_count": 0,
      "outputs": []
    },
    {
      "cell_type": "code",
      "metadata": {
        "id": "8Wdrz8IaxsFE",
        "colab_type": "code",
        "colab": {
          "base_uri": "https://localhost:8080/",
          "height": 34
        },
        "outputId": "c9829f31-85e0-477d-bae3-70604d36a953"
      },
      "source": [
        "list_s"
      ],
      "execution_count": 11,
      "outputs": [
        {
          "output_type": "execute_result",
          "data": {
            "text/plain": [
              "[1, 2, 3, [4, 5], [6], [6]]"
            ]
          },
          "metadata": {
            "tags": []
          },
          "execution_count": 11
        }
      ]
    },
    {
      "cell_type": "code",
      "metadata": {
        "id": "Ebj4w2t3ixSc",
        "colab_type": "code",
        "colab": {}
      },
      "source": [
        "l\n",
        "# with proper ssqquare brackets\n",
        "list_s1 = [l[0:3]] + [l[3:5]] + [l[5:9]]+[[l[-1]]]"
      ],
      "execution_count": 0,
      "outputs": []
    },
    {
      "cell_type": "code",
      "metadata": {
        "id": "bbWO4Y9ui3Jg",
        "colab_type": "code",
        "colab": {
          "base_uri": "https://localhost:8080/",
          "height": 34
        },
        "outputId": "919e28a8-609e-47ae-95c4-817f3d9048ad"
      },
      "source": [
        "print(list_s1)"
      ],
      "execution_count": 15,
      "outputs": [
        {
          "output_type": "stream",
          "text": [
            "[[1, 2, 3], [4, 5], [6], [6]]\n"
          ],
          "name": "stdout"
        }
      ]
    },
    {
      "cell_type": "code",
      "metadata": {
        "id": "JT14irCcxsFL",
        "colab_type": "code",
        "colab": {
          "base_uri": "https://localhost:8080/",
          "height": 34
        },
        "outputId": "e3fca212-fdc1-4bf5-8a98-a2140d298798"
      },
      "source": [
        "l = list(range(20, 30))# FOR IN BETWEEN RANGE\n",
        "print(l)"
      ],
      "execution_count": 16,
      "outputs": [
        {
          "output_type": "stream",
          "text": [
            "[20, 21, 22, 23, 24, 25, 26, 27, 28, 29]\n"
          ],
          "name": "stdout"
        }
      ]
    },
    {
      "cell_type": "code",
      "metadata": {
        "id": "lWBVjDkOxsFR",
        "colab_type": "code",
        "colab": {},
        "outputId": "aa4994a5-c92a-4dd3-ef53-383891e07968"
      },
      "source": [
        "l[2:8]  #22 to 27; left index is the first index to include, \n",
        "        #the right index is the first index to exclude\n",
        "l[0:len(l):2] # ##$$$$$$$@@@@@@@####  >>> start, end + 1, step size"
      ],
      "execution_count": 0,
      "outputs": [
        {
          "output_type": "execute_result",
          "data": {
            "text/plain": [
              "[20, 22, 24, 26, 28]"
            ]
          },
          "metadata": {
            "tags": []
          },
          "execution_count": 6
        }
      ]
    },
    {
      "cell_type": "code",
      "metadata": {
        "id": "XKLQ8GVCxsFW",
        "colab_type": "code",
        "colab": {},
        "outputId": "f4cd3e6c-0361-401d-94d0-786de90d6ccb"
      },
      "source": [
        "l[::-1] # to reverse a list "
      ],
      "execution_count": 0,
      "outputs": [
        {
          "output_type": "execute_result",
          "data": {
            "text/plain": [
              "[29, 28, 27, 26, 25, 24, 23, 22, 21, 20]"
            ]
          },
          "metadata": {
            "tags": []
          },
          "execution_count": 7
        }
      ]
    },
    {
      "cell_type": "code",
      "metadata": {
        "id": "MTwyxQ3BjpXo",
        "colab_type": "code",
        "colab": {
          "base_uri": "https://localhost:8080/",
          "height": 34
        },
        "outputId": "37921f10-1680-4148-9b50-5bf784a7acb1"
      },
      "source": [
        "L=[2,23,23,23,2,12,56,75,5,7857,5677,57,5675,57]\n",
        "print(L[: : -2])# here -2 is step size from bsck side basically it is the difference in 2  consequetive elements"
      ],
      "execution_count": 18,
      "outputs": [
        {
          "output_type": "stream",
          "text": [
            "[57, 57, 7857, 75, 12, 23, 23]\n"
          ],
          "name": "stdout"
        }
      ]
    },
    {
      "cell_type": "code",
      "metadata": {
        "id": "8U7yEHvBkAhn",
        "colab_type": "code",
        "colab": {
          "base_uri": "https://localhost:8080/",
          "height": 34
        },
        "outputId": "965aac96-b805-4274-a3aa-75f399f5e765"
      },
      "source": [
        "'''count=0\n",
        "for i in L[-(i+1)]:\n",
        "  count = count + 1 ## how to cpunt number of elements in list'''"
      ],
      "execution_count": 21,
      "outputs": [
        {
          "output_type": "execute_result",
          "data": {
            "text/plain": [
              "'count=0\\nfor i in L[-(i+1)]:\\n  count = count + 1 ## how to cpunt number of elements in list'"
            ]
          },
          "metadata": {
            "tags": []
          },
          "execution_count": 21
        }
      ]
    },
    {
      "cell_type": "markdown",
      "metadata": {
        "id": "OsDFJ5ycxsFZ",
        "colab_type": "text"
      },
      "source": [
        "### Dictionaries"
      ]
    },
    {
      "cell_type": "code",
      "metadata": {
        "id": "rpeN6lKyxsFa",
        "colab_type": "code",
        "colab": {
          "base_uri": "https://localhost:8080/",
          "height": 68
        },
        "outputId": "e296d73f-5138-4819-e89d-cb3036fcddcc"
      },
      "source": [
        "# for lists [], for tuples (), for dictionaries {}\n",
        "d = {} # empty dictionary\n",
        "\n",
        "## Key value pairs for days of the week\n",
        "d['M'] = 'Monday'\n",
        "d['T'] = 'Tuesday'\n",
        "d['W'] = 'Wednesday'\n",
        "d['Th'] = 'Thursday'\n",
        "\n",
        "print(d['M'])\n",
        "print(d['Th'])\n",
        "print(d)"
      ],
      "execution_count": 23,
      "outputs": [
        {
          "output_type": "stream",
          "text": [
            "Monday\n",
            "Thursday\n",
            "{'M': 'Monday', 'T': 'Tuesday', 'W': 'Wednesday', 'Th': 'Thursday'}\n"
          ],
          "name": "stdout"
        }
      ]
    },
    {
      "cell_type": "code",
      "metadata": {
        "id": "60MpW-p0xsFe",
        "colab_type": "code",
        "colab": {},
        "outputId": "8da13e62-7d08-4a37-c63d-98d551f1266f"
      },
      "source": [
        "## months dictionary\n",
        "months = {1:'January', 2:'February', 3:'March', 12:'December'}\n",
        "print(months)"
      ],
      "execution_count": 0,
      "outputs": [
        {
          "output_type": "stream",
          "text": [
            "{1: 'January', 2: 'February', 3: 'March', 12: 'December'}\n"
          ],
          "name": "stdout"
        }
      ]
    },
    {
      "cell_type": "code",
      "metadata": {
        "id": "OdAnPwX9xsFq",
        "colab_type": "code",
        "colab": {}
      },
      "source": [
        "from sklearn.datasets import load_iris\n",
        "import sklearn"
      ],
      "execution_count": 0,
      "outputs": []
    },
    {
      "cell_type": "code",
      "metadata": {
        "id": "BFaV6BM4xsF0",
        "colab_type": "code",
        "colab": {},
        "outputId": "8b08e9f5-a8c5-4260-ded8-f58ff19831a6"
      },
      "source": [
        "iris = load_iris()\n",
        "type(iris)"
      ],
      "execution_count": 0,
      "outputs": [
        {
          "output_type": "execute_result",
          "data": {
            "text/plain": [
              "sklearn.utils.Bunch"
            ]
          },
          "metadata": {
            "tags": []
          },
          "execution_count": 13
        }
      ]
    },
    {
      "cell_type": "code",
      "metadata": {
        "id": "3JgdcHvmxsF4",
        "colab_type": "code",
        "colab": {},
        "outputId": "23a2b4ac-a45b-4277-f49a-e78f42477695"
      },
      "source": [
        "sklearn.utils.Bunch.__bases__"
      ],
      "execution_count": 0,
      "outputs": [
        {
          "output_type": "execute_result",
          "data": {
            "text/plain": [
              "(dict,)"
            ]
          },
          "metadata": {
            "tags": []
          },
          "execution_count": 16
        }
      ]
    },
    {
      "cell_type": "markdown",
      "metadata": {
        "id": "EOW9CViWxsF8",
        "colab_type": "text"
      },
      "source": [
        "### Functions available on dictionaries"
      ]
    },
    {
      "cell_type": "code",
      "metadata": {
        "id": "yb0BP6TYxsF9",
        "colab_type": "code",
        "colab": {},
        "outputId": "9f1ea6d4-eef3-4f95-b234-dbc748c1aeb5"
      },
      "source": [
        "iris.keys() # gives list of keys\n",
        "iris.values() # gives list of values"
      ],
      "execution_count": 0,
      "outputs": [
        {
          "output_type": "execute_result",
          "data": {
            "text/plain": [
              "dict_keys(['data', 'target', 'target_names', 'DESCR', 'feature_names', 'filename'])"
            ]
          },
          "metadata": {
            "tags": []
          },
          "execution_count": 17
        }
      ]
    },
    {
      "cell_type": "code",
      "metadata": {
        "id": "tLv8k-qexsGC",
        "colab_type": "code",
        "colab": {},
        "outputId": "5afdeb1e-ad6f-47b7-e721-45de86dbc445"
      },
      "source": [
        "for k in d.keys():\n",
        "    print('key: ', k, 'value: ', d[k])"
      ],
      "execution_count": 0,
      "outputs": [
        {
          "output_type": "stream",
          "text": [
            "key:  M value:  Monday\n",
            "key:  T value:  Tuesday\n",
            "key:  W value:  Wednesday\n",
            "key:  Th value:  Thursday\n"
          ],
          "name": "stdout"
        }
      ]
    },
    {
      "cell_type": "code",
      "metadata": {
        "id": "-ROLB6tYxsGG",
        "colab_type": "code",
        "colab": {},
        "outputId": "fed62c29-7543-45ab-8dc2-5c183b74749b"
      },
      "source": [
        "print(d.get('M', 'Key does not exist'))"
      ],
      "execution_count": 0,
      "outputs": [
        {
          "output_type": "stream",
          "text": [
            "Monday\n"
          ],
          "name": "stdout"
        }
      ]
    },
    {
      "cell_type": "markdown",
      "metadata": {
        "id": "pnZbl0fuxsGK",
        "colab_type": "text"
      },
      "source": [
        "### Functions"
      ]
    },
    {
      "cell_type": "code",
      "metadata": {
        "id": "JDyOBrykxsGK",
        "colab_type": "code",
        "colab": {}
      },
      "source": [
        "def add(x, y=1, z=2, m=3, n=4): ## if x, y are given -> add and return the sum, otherwise add 1 and return the sum\n",
        "    sum = 0\n",
        "    sum = x + y\n",
        "    return sum"
      ],
      "execution_count": 0,
      "outputs": []
    },
    {
      "cell_type": "code",
      "metadata": {
        "id": "ENxzRGm2xsGL",
        "colab_type": "code",
        "colab": {},
        "outputId": "9afe0a9c-fd44-4f70-a71b-9638aaaa0e16"
      },
      "source": [
        "add(10, n = 11, m = 5)"
      ],
      "execution_count": 0,
      "outputs": [
        {
          "output_type": "execute_result",
          "data": {
            "text/plain": [
              "11"
            ]
          },
          "metadata": {
            "tags": []
          },
          "execution_count": 74
        }
      ]
    },
    {
      "cell_type": "code",
      "metadata": {
        "id": "MN1sSrKNxsGS",
        "colab_type": "code",
        "colab": {
          "base_uri": "https://localhost:8080/",
          "height": 34
        },
        "outputId": "c33735a7-d65f-4afb-c6b1-4f688509aaf3"
      },
      "source": [
        "d = {1: 10, 2: 10, 3:20, 5:55, 6:55, 7:89}\n",
        "# unique_values = [10, 20, 55, 89]\n",
        "\n",
        "def uni(d):\n",
        "  uni = []\n",
        "  for i in d.keys():\n",
        "    if d[i] in uni:\n",
        "      pass\n",
        "    else:\n",
        "      uni.append(d[i])\n",
        "  return uni    \n",
        "print(uni)\n",
        "uni({1: 10, 2: 10, 3:20, 5:55, 6:55, 7:89})\n",
        "def unique_values(d):\n",
        "    uv = []\n",
        "    for v in d.values():\n",
        "        if(v in uv):\n",
        "            pass\n",
        "        else:\n",
        "            uv.append(v)\n",
        "    return uv\n",
        "print(unique_values(d))  "
      ],
      "execution_count": 26,
      "outputs": [
        {
          "output_type": "stream",
          "text": [
            "<function uni at 0x7f196dcc60d0>\n"
          ],
          "name": "stdout"
        }
      ]
    },
    {
      "cell_type": "code",
      "metadata": {
        "id": "xCEEiYNQxsGZ",
        "colab_type": "code",
        "colab": {},
        "outputId": "06d1f4dd-a531-4a42-db24-ec329e2b00ae"
      },
      "source": [
        "d.values()"
      ],
      "execution_count": 0,
      "outputs": [
        {
          "output_type": "execute_result",
          "data": {
            "text/plain": [
              "dict_values([10, 10, 20, 55, 55, 89])"
            ]
          },
          "metadata": {
            "tags": []
          },
          "execution_count": 53
        }
      ]
    },
    {
      "cell_type": "code",
      "metadata": {
        "id": "frsRV7G8xsGc",
        "colab_type": "code",
        "colab": {}
      },
      "source": [
        "### list_ = [1, 2, 3 ,4], value = 5\n",
        "## check_if_present(list_, value) -> True, False"
      ],
      "execution_count": 0,
      "outputs": []
    },
    {
      "cell_type": "code",
      "metadata": {
        "id": "qGkLyhm_xsGd",
        "colab_type": "code",
        "colab": {}
      },
      "source": [
        "def check_if_present(list_, value):\n",
        "    \n",
        "    for i in list_:\n",
        "        if(i==value):\n",
        "            return True\n",
        "    return False"
      ],
      "execution_count": 0,
      "outputs": []
    },
    {
      "cell_type": "code",
      "metadata": {
        "id": "dAA0uO2qxsGi",
        "colab_type": "code",
        "colab": {},
        "outputId": "e8431276-739f-4b9a-bb65-ab8f3bf87a10"
      },
      "source": [
        "check_if_present([1, 2, 3, 4], 2)"
      ],
      "execution_count": 0,
      "outputs": [
        {
          "output_type": "execute_result",
          "data": {
            "text/plain": [
              "True"
            ]
          },
          "metadata": {
            "tags": []
          },
          "execution_count": 62
        }
      ]
    },
    {
      "cell_type": "code",
      "metadata": {
        "id": "XUlSJogfxsGk",
        "colab_type": "code",
        "colab": {}
      },
      "source": [
        ""
      ],
      "execution_count": 0,
      "outputs": []
    }
  ]
}