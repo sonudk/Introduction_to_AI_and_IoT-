{
  "nbformat": 4,
  "nbformat_minor": 0,
  "metadata": {
    "colab": {
      "name": "Dealing_With_Data.ipynb",
      "version": "0.3.2",
      "provenance": [],
      "collapsed_sections": [],
      "include_colab_link": true
    },
    "language_info": {
      "codemirror_mode": {
        "name": "ipython",
        "version": 3
      },
      "file_extension": ".py",
      "mimetype": "text/x-python",
      "name": "python",
      "nbconvert_exporter": "python",
      "pygments_lexer": "ipython3",
      "version": "3.6.8"
    },
    "kernelspec": {
      "display_name": "Python 3",
      "language": "python",
      "name": "python3"
    }
  },
  "cells": [
    {
      "cell_type": "markdown",
      "metadata": {
        "id": "view-in-github",
        "colab_type": "text"
      },
      "source": [
        "<a href=\"https://colab.research.google.com/github/sonudk/Introduction_to_AI_and_IoT-/blob/master/Dealing_With_Data.ipynb\" target=\"_parent\"><img src=\"https://colab.research.google.com/assets/colab-badge.svg\" alt=\"Open In Colab\"/></a>"
      ]
    },
    {
      "cell_type": "markdown",
      "metadata": {
        "id": "V4gdCJtOu6YO",
        "colab_type": "text"
      },
      "source": [
        "# <center> Dealing With Data </center>\n",
        "## <center> Linear Separatrix </center>\n",
        "### <center> Prof. Laxmidhar Behera </center>\n",
        "### <center> IIT Kanpur </center>"
      ]
    },
    {
      "cell_type": "markdown",
      "metadata": {
        "id": "qMGilWEwu6YQ",
        "colab_type": "text"
      },
      "source": [
        "## <center> Obstacle Avoidance </center>\n",
        "<table><tr>\n",
        "    <td><figure><img src=https://static.generation-robots.com/12044-large_default/robot-mobile-pioneer-3-dx.jpg alt=\"my img\"/><figcaption> <center><font size=\"+2\">Pioneer 3dx</font></center>  </figcaption></figure>\n",
        "    </td>\n",
        "    <td> <img src=\"https://drive.google.com/uc?id=1FRBvRTZTNAp8OBxInOtr9mmP0tIhmmYc\" style=\"\" ></td>\n",
        "    <td> <img src=\"https://drive.google.com/uc?id=1mP2l7nB3WLmBH3lkEUmbki-52wRqjc_w\" style=\"\" ></td>\n",
        "</tr></table>"
      ]
    },
    {
      "cell_type": "code",
      "metadata": {
        "id": "J_nRRXhzu6YR",
        "colab_type": "code",
        "outputId": "cacd1700-27ea-4e95-ec4e-f673efe75115",
        "colab": {
          "base_uri": "https://localhost:8080/",
          "height": 17
        }
      },
      "source": [
        "%%HTML\n",
        "<style>\n",
        "td {\n",
        "  font-size: 30px\n",
        "}\n",
        "th {\n",
        "  font-size: 30px\n",
        "}\n",
        ".rendered_html {\n",
        "      font-size:30px;\n",
        "}\n",
        ".row {\n",
        "  display: flex;\n",
        "}\n",
        "\n",
        ".column {\n",
        "  flex: 50%;\n",
        "  font-size : 20px\n",
        "}\n",
        "\n",
        "</style>"
      ],
      "execution_count": 0,
      "outputs": [
        {
          "output_type": "display_data",
          "data": {
            "text/html": [
              "<style>\n",
              "td {\n",
              "  font-size: 30px\n",
              "}\n",
              "th {\n",
              "  font-size: 30px\n",
              "}\n",
              ".rendered_html {\n",
              "      font-size:30px;\n",
              "}\n",
              ".row {\n",
              "  display: flex;\n",
              "}\n",
              "\n",
              ".column {\n",
              "  flex: 50%;\n",
              "  font-size : 20px\n",
              "}\n",
              "\n",
              "</style>"
            ],
            "text/plain": [
              "<IPython.core.display.HTML object>"
            ]
          },
          "metadata": {
            "tags": []
          }
        }
      ]
    },
    {
      "cell_type": "markdown",
      "metadata": {
        "id": "XugY3Jrou6YY",
        "colab_type": "text"
      },
      "source": [
        "## <center>What is data?</center>\n",
        "| Sonar S | $v_l$   |$v_r$|\n",
        "|---------|---------|-----|\n",
        "|60cm |10cm/sec |10cm/sec |\n",
        "| 50cm |9cm/sec| 9cm/sec |\n",
        "| 30cm | 7cm/sec | 4cm/sec |\n",
        "|20cm | 4cm/sec | 0cm/sec|\n",
        "\n",
        "Model I : $v_l = a_1S + a_0 $ <br>\n",
        "Model II : $v_l = a_2S^2 + a_1S + a_0 $ <br>\n",
        "\n",
        "**These models are linear in terms of unknown parameters.**\n",
        "\n",
        "\n"
      ]
    },
    {
      "cell_type": "markdown",
      "metadata": {
        "id": "TSY35hPLu6YZ",
        "colab_type": "text"
      },
      "source": [
        "### <center>Finding the linear separatrix</center>\n",
        "Given data and linear model, data can be represented in terms of the following expression - <br>\n",
        "$Aw = y$ &nbsp; $A \\in R^{nxm}$ &nbsp; $w \\in R^m$ &nbsp; $y \\in R^n$ <br><br>\n",
        "There are three possibilities:\n",
        "1. $n = m$ &nbsp; Exact Solution\n",
        "2. $n>m$ &nbsp;   No Exact Solution; Least Square solution exists\n",
        "3. $n<m$ &nbsp;   Many solutions exist"
      ]
    },
    {
      "cell_type": "markdown",
      "metadata": {
        "id": "DtppEGZOu6Ya",
        "colab_type": "text"
      },
      "source": [
        "### <center>Least Square Solution </center> <br>\n",
        "<center>\n",
        "$Aw = y$ &nbsp; $A \\in R^{nxm}$ &nbsp; $w \\in R^m$ &nbsp; $y \\in R^n$ <br><br>\n",
        "$E = \\frac{1}{2}\\tilde{y}^T\\tilde{y}$ &nbsp; &nbsp; &nbsp; $\\tilde{y} = Aw - y$ <br><br>\n",
        "$\\frac{\\partial{E}}{\\partial{w}} = 0$ &nbsp; &nbsp; &nbsp; $(Aw - y)^TA = 0$ <br><br>\n",
        "$w = (A^TA)^{-1}A^Ty$\n",
        "</center>"
      ]
    },
    {
      "cell_type": "markdown",
      "metadata": {
        "id": "WckTzH3vu6Yb",
        "colab_type": "text"
      },
      "source": [
        "| Sonar S | $v_l$   |$v_r$|\n",
        "|---------|---------|-----|\n",
        "|60cm |10cm/sec |10cm/sec |\n",
        "| 50cm |9cm/sec| 9cm/sec |\n",
        "| 30cm | 7cm/sec | 4cm/sec |\n",
        "|20cm | 4cm/sec | 0cm/sec|\n",
        "\n",
        "<br>\n",
        "<div class=\"row\">\n",
        "  <div class=\"column\" align = \"center\">Model I <br>\n",
        "$0.6a_1 + a_0 = 10$<br>\n",
        "$0.5a_1 + a_0 = 9$<br>\n",
        "$03a_1 + a_0 = 7$<br><br>\n",
        "      </div>\n",
        "    \n",
        "  <div class=\"column\" align = \"center\">Model II<br>\n",
        "$0.36a_2 + 0.6a_1 + a_0 = 10$ <br>\n",
        "$0.25a_2 + 0.5a_1 + a_0 = 9$ <br>\n",
        "$0.09a_2 + 0.3a_1 + a_0 = 7$ <br>\n",
        "</div>\n",
        "</div>\n",
        "<br>\n",
        "<center><font size=\"5\">$w = (A^TA)^{-1}A^Ty$</font></center>\n",
        "<br>\n",
        "\n",
        "<div class=\"row\">\n",
        "<div class=\"column\">\n",
        "    <div class=\"column\">\n",
        "      \\begin{align}\n",
        "      w &= \\begin{bmatrix}\n",
        "          14\\\\\n",
        "          1.9\n",
        "         \\end{bmatrix}\n",
        "      \\end{align}\n",
        "    </div>\n",
        "    <div class=\"column\">\n",
        "      \\begin{align}\n",
        "      y &= \\begin{bmatrix}\n",
        "          10.3\\\\\n",
        "          8.9 \\\\\n",
        "          6.1 \\\\\n",
        "          4.7\n",
        "         \\end{bmatrix}\\\\\n",
        "      E = 1.4\n",
        "         \\end{align}\n",
        "\n",
        "  </div>\n",
        "  </div>\n",
        "  <div class=\"column\">\n",
        "    <div class = \"column\">\n",
        "      \\begin{align}\n",
        "      w &= \\begin{bmatrix}\n",
        "          -33.33\\\\\n",
        "          40\\\\\n",
        "          -2.6\n",
        "         \\end{bmatrix}\n",
        "    \\end{align}\n",
        "    </div>\n",
        "   <div class=\"column\">\n",
        "    \\begin{align}\n",
        "      y &= \\begin{bmatrix}\n",
        "          9.8\\\\\n",
        "          9.4\\\\\n",
        "          6.6\\\\\n",
        "          4.2\n",
        "         \\end{bmatrix} \\\\\n",
        "      E = 0.4\n",
        "    \\end{align}\n",
        "    </div>\n",
        "  </div>\n",
        "</div>\n"
      ]
    },
    {
      "cell_type": "markdown",
      "metadata": {
        "id": "oOk7MPQ6-SiA",
        "colab_type": "text"
      },
      "source": [
        "<img src=\"https://drive.google.com/uc?id=1bqZwiOleqtC0wfOdLK1ZDlJcPoiGpEtu\">\n"
      ]
    },
    {
      "cell_type": "markdown",
      "metadata": {
        "id": "FoHbzkMLu6Yc",
        "colab_type": "text"
      },
      "source": [
        "### IRIS flower dataset\n",
        "<table><tr>\n",
        "    <td><img src=\"https://drive.google.com/uc?id=1iItH7Ptc0uu2HcgJunEOnlDyOiJjpYgH\" alt=\"iris_1\"/></td>\n",
        "    <td><img src=\"https://drive.google.com/uc?id=19TkNSuqGrSLWesTEKs1YHnYAWGRGTSBr\" style=\"\" ></td>\n",
        "    <td><img src=\"https://drive.google.com/uc?id=1eh9bylEYc8dCZvalfcf-oNUePhScs4Sf\" style=\"\" ></td>\n",
        "    <td><img src=\"https://drive.google.com/uc?id=1zwIWTyocOhlNUZ2-q6NZs9jLs8ucFAKY\" style=\"\" ></td>\n",
        "</tr></table>\n",
        "The data set consists of 50 samples from each of three species of Iris (Iris setosa, Iris virginica and Iris versicolor). <br>\n",
        "Four features were measured from each sample: the length and the width of the sepals and petals, in centimeters.<br>\n",
        "Based on the combination of these four features, Fisher developed a linear discriminant model to distinguish the species from each other. "
      ]
    },
    {
      "cell_type": "markdown",
      "metadata": {
        "id": "tNNk3ysmu6Yd",
        "colab_type": "text"
      },
      "source": [
        "<img src=\"https://drive.google.com/uc?id=10ddnnmNyWNEu8V956LnGo5YA5FN39Hed\" >"
      ]
    },
    {
      "cell_type": "markdown",
      "metadata": {
        "id": "caehZjUvu6Ye",
        "colab_type": "text"
      },
      "source": [
        "### <center>Loading Data in python</center>\n",
        "Sklearn.datasets  is a library of many standard datasets including iris data <br>\n",
        "Numpy is a numerical processing library in python <br>\n",
        "Keras is a python library for building deep neural networks\n",
        "\n"
      ]
    },
    {
      "cell_type": "code",
      "metadata": {
        "id": "4y3YgvRYu6Yf",
        "colab_type": "code",
        "outputId": "44ca3f58-9f18-4e36-bca6-da611c8578fb",
        "colab": {
          "base_uri": "https://localhost:8080/",
          "height": 34
        }
      },
      "source": [
        "# Import and load iris dataset from sklearn\n",
        "from sklearn.datasets import load_iris\n",
        "import numpy as np\n",
        "import keras\n",
        "np.random.seed(10)\n",
        "\n",
        "iris = load_iris() # iris is a python dictionary with key-value pairs"
      ],
      "execution_count": 0,
      "outputs": [
        {
          "output_type": "stream",
          "text": [
            "Using TensorFlow backend.\n"
          ],
          "name": "stderr"
        }
      ]
    },
    {
      "cell_type": "markdown",
      "metadata": {
        "id": "igQ6_9oku6Yj",
        "colab_type": "text"
      },
      "source": [
        "##### Data Exploration"
      ]
    },
    {
      "cell_type": "code",
      "metadata": {
        "id": "LPKIgOg9u6Yk",
        "colab_type": "code",
        "outputId": "d5c00978-2d8e-4a34-e941-b9084b27731e",
        "colab": {
          "base_uri": "https://localhost:8080/",
          "height": 208
        }
      },
      "source": [
        "print('keys in iris dictionary: ', iris.keys())\n",
        "\n",
        "X = iris['data']\n",
        "print('First 3 entries of X:', '\\n', X[:3])\n",
        "\n",
        "Y = iris['target']\n",
        "print('First 3 entries of Y:', '\\n', Y[:3])\n",
        "\n",
        "names = iris['target_names']\n",
        "print('names:', names)\n",
        "feature_names = iris['feature_names']\n",
        "print('feature_names:', feature_names)\n",
        "\n",
        "# Track a few sample points\n",
        "isamples = np.random.randint(len(Y), size = (5))\n",
        "print(isamples)"
      ],
      "execution_count": 0,
      "outputs": [
        {
          "output_type": "stream",
          "text": [
            "keys in iris dictionary:  dict_keys(['data', 'target', 'target_names', 'DESCR', 'feature_names', 'filename'])\n",
            "First 3 entries of X: \n",
            " [[5.1 3.5 1.4 0.2]\n",
            " [4.9 3.  1.4 0.2]\n",
            " [4.7 3.2 1.3 0.2]]\n",
            "First 3 entries of Y: \n",
            " [0 0 0]\n",
            "names: ['setosa' 'versicolor' 'virginica']\n",
            "feature_names: ['sepal length (cm)', 'sepal width (cm)', 'petal length (cm)', 'petal width (cm)']\n",
            "[  9 125  15  64 113]\n"
          ],
          "name": "stdout"
        }
      ]
    },
    {
      "cell_type": "code",
      "metadata": {
        "id": "-dcJPvNIu6Yn",
        "colab_type": "code",
        "outputId": "2b3a7cb6-8d3a-4a10-92e3-499ecb2bd714",
        "colab": {
          "base_uri": "https://localhost:8080/",
          "height": 154
        }
      },
      "source": [
        "# Shape of Data\n",
        "print('Shape of X:', X.shape)\n",
        "print('Shape of Y:', Y.shape)\n",
        "print('X - samples:', X[isamples])\n",
        "print('Y- samples:', Y[isamples])"
      ],
      "execution_count": 0,
      "outputs": [
        {
          "output_type": "stream",
          "text": [
            "Shape of X: (150, 4)\n",
            "Shape of Y: (150,)\n",
            "X - samples: [[4.9 3.1 1.5 0.1]\n",
            " [7.2 3.2 6.  1.8]\n",
            " [5.7 4.4 1.5 0.4]\n",
            " [5.6 2.9 3.6 1.3]\n",
            " [5.7 2.5 5.  2. ]]\n",
            "Y- samples: [0 2 0 1 2]\n"
          ],
          "name": "stdout"
        }
      ]
    },
    {
      "cell_type": "markdown",
      "metadata": {
        "id": "ktKPQZ9ru6Yr",
        "colab_type": "text"
      },
      "source": [
        "#### Pre-process Data\n",
        "Convert labels to categorical - One-hot encoding"
      ]
    },
    {
      "cell_type": "code",
      "metadata": {
        "id": "h045BHxDu6Yt",
        "colab_type": "code",
        "outputId": "38ece8e9-ae1f-444a-b7d3-b7e53a9a0e40",
        "colab": {
          "base_uri": "https://localhost:8080/",
          "height": 206
        }
      },
      "source": [
        "from keras.utils import to_categorical\n",
        "\n",
        "Ny = len(np.unique(Y)) # Ny is number of categories/classes\n",
        "print('Ny: ', Ny)\n",
        "\n",
        "Y = to_categorical(Y[:], num_classes = Ny) # converted to 1-hot\n",
        "\n",
        "print('X - samples:', X[isamples])\n",
        "print('Y- samples:', Y[isamples])"
      ],
      "execution_count": 0,
      "outputs": [
        {
          "output_type": "stream",
          "text": [
            "Ny:  3\n",
            "X - samples: [[4.9 3.1 1.5 0.1]\n",
            " [7.2 3.2 6.  1.8]\n",
            " [5.7 4.4 1.5 0.4]\n",
            " [5.6 2.9 3.6 1.3]\n",
            " [5.7 2.5 5.  2. ]]\n",
            "Y- samples: [[1. 0. 0.]\n",
            " [0. 0. 1.]\n",
            " [1. 0. 0.]\n",
            " [0. 1. 0.]\n",
            " [0. 0. 1.]]\n"
          ],
          "name": "stdout"
        }
      ]
    },
    {
      "cell_type": "markdown",
      "metadata": {
        "id": "PiqBRMM0u6Yy",
        "colab_type": "text"
      },
      "source": [
        "#### Train - Test split\n"
      ]
    },
    {
      "cell_type": "code",
      "metadata": {
        "id": "4B-oxrj7u6Yz",
        "colab_type": "code",
        "outputId": "e3697d0c-1200-48bb-be67-fee0a2221f5a",
        "colab": {
          "base_uri": "https://localhost:8080/",
          "height": 51
        }
      },
      "source": [
        "from sklearn.model_selection import train_test_split\n",
        "from sklearn.metrics import confusion_matrix\n",
        "\n",
        "X_train, X_test, Y_train, Y_test = train_test_split(X, Y, test_size = 0.20, random_state = 1)\n",
        "print('X_train shape:', X_train.shape)\n",
        "print('X_test.shape:', X_test.shape)"
      ],
      "execution_count": 0,
      "outputs": [
        {
          "output_type": "stream",
          "text": [
            "X_train shape: (120, 4)\n",
            "X_test.shape: (30, 4)\n"
          ],
          "name": "stdout"
        }
      ]
    },
    {
      "cell_type": "markdown",
      "metadata": {
        "id": "SmAlC-JLu6Y2",
        "colab_type": "text"
      },
      "source": [
        "#### Data Normalization/Scaling\n",
        "Normalize data to be of zero mean and unit variance\n"
      ]
    },
    {
      "cell_type": "code",
      "metadata": {
        "id": "0rTUjDnpu6Y3",
        "colab_type": "code",
        "outputId": "28bd5a99-d67d-4f57-9d6a-8a69751ca359",
        "colab": {
          "base_uri": "https://localhost:8080/",
          "height": 223
        }
      },
      "source": [
        "from sklearn.preprocessing import StandardScaler\n",
        "\n",
        "scaler = StandardScaler()\n",
        "scaler.fit(X_train) # Computes the mean and standard deviation\n",
        "\n",
        "X_train = scaler.transform(X_train) # Perform transformation: x = (x-mean)/std\n",
        "X_test = scaler.transform(X_test)\n",
        "print('X_train: \\n', X_train[:5]) # first 5 samples of X_train\n",
        "print('Y_train: \\n', Y_train[:5])"
      ],
      "execution_count": 0,
      "outputs": [
        {
          "output_type": "stream",
          "text": [
            "X_train: \n",
            " [[ 0.31553662 -0.04578885  0.44767531  0.23380268]\n",
            " [ 2.2449325  -0.04578885  1.29769171  1.39742892]\n",
            " [-0.2873996  -1.24028061  0.05100098 -0.15407273]\n",
            " [ 0.67729835 -0.52358555  1.01435291  1.13884531]\n",
            " [-0.04622511 -0.52358555  0.73101411  1.52672073]]\n",
            "Y_train: \n",
            " [[0. 1. 0.]\n",
            " [0. 0. 1.]\n",
            " [0. 1. 0.]\n",
            " [0. 0. 1.]\n",
            " [0. 0. 1.]]\n"
          ],
          "name": "stdout"
        }
      ]
    },
    {
      "cell_type": "markdown",
      "metadata": {
        "id": "JIbiZx1su6Y6",
        "colab_type": "text"
      },
      "source": [
        "<table>\n",
        "  <tr>\n",
        "    <th colspan=\"0\">X</th>\n",
        "      <th colspan=\"4\">Y</th>\n",
        "      <th colspan=\"6\"></th>\n",
        "      </tr> \n",
        "  <tr>\n",
        "      <td>0.31</td><td>-0.04</td><td>0.45</td><td>0.23</td><td>0</td><td>1</td><td>0</td>\n",
        "    </tr>\n",
        "    <tr>\n",
        "      <td>2.24</td><td>-0.46</td><td>1.30</td><td>1.40</td><td>0</td><td>0</td><td>1</td>\n",
        "      </tr>\n",
        "</table>\n",
        "<br>\n",
        "\\begin{align}\n",
        "l_sw_{00} + b_sw_{10} + l_pw_{20} + b_pw_{30} + w_{40} = y_0 \\\\\n",
        "l_sw_{01} + b_sw_{11} + l_pw_{21} + b_pw_{31} + w_{41} = y_1 \\\\\n",
        "l_sw_{02} + b_sw_{12} + l_pw_{22} + b_pw_{32} + w_{42} = y_2\n",
        "\\end{align}\n",
        "<br>\n",
        "\\begin{align}\n",
        "[l_s\\: b_s\\: l_p\\: b_p\\: 1] \\begin{bmatrix}\n",
        "          w_{00} &w_{01} &w_{02}\\\\\n",
        "          w_{10} &w_{11} &w_{12}\\\\\n",
        "          \\vdots &\\vdots &\\vdots \\\\\n",
        "          w_{40} &w_{41} &w_{42}\n",
        "         \\end{bmatrix} = [y_0\\: y_1\\: y_2]\n",
        "\\end{align}\n",
        "<br><br>\n",
        "$$\n",
        "Aw = y\\\\\n",
        "\\implies w = (A_TA)^{-1}A^Ty\n",
        "$$\n"
      ]
    },
    {
      "cell_type": "markdown",
      "metadata": {
        "id": "k45N_Gvku6Y7",
        "colab_type": "text"
      },
      "source": [
        "#### Training with $Aw = Y$"
      ]
    },
    {
      "cell_type": "code",
      "metadata": {
        "id": "qEBF2PO2u6Y8",
        "colab_type": "code",
        "outputId": "f96768d8-f62d-4ae0-f42d-e3ca0ecdd31d",
        "colab": {
          "base_uri": "https://localhost:8080/",
          "height": 68
        }
      },
      "source": [
        "# define function to add column of 1's\n",
        "addlcol = lambda x: np.concatenate((x, np.ones((x.shape[0], 1))), axis = 1)\n",
        "\n",
        "Ns, Nx = X_train.shape\n",
        "print('Ns: ', Ns, 'Nx: ', Nx)\n",
        "\n",
        "def find_weights(A, Y):\n",
        "    print(A.shape)\n",
        "    \n",
        "    print(Y.shape)\n",
        "\n",
        "    w = np.linalg.inv(A.T.dot(A)).dot(A.T.dot(Y))\n",
        "    return w\n",
        "\n",
        "A = addlcol(X_train)\n",
        "Y = Y_train\n",
        "w = find_weights(A, Y)\n"
      ],
      "execution_count": 0,
      "outputs": [
        {
          "output_type": "stream",
          "text": [
            "Ns:  120 Nx:  4\n",
            "(120, 5)\n",
            "(120, 3)\n"
          ],
          "name": "stdout"
        }
      ]
    },
    {
      "cell_type": "code",
      "metadata": {
        "id": "dkEYKrL3u6ZA",
        "colab_type": "code",
        "outputId": "1fe24ddf-a4e5-4d75-d38f-9732cdaf8b2e",
        "colab": {
          "base_uri": "https://localhost:8080/",
          "height": 154
        }
      },
      "source": [
        "def evaluate(X, W, Yd, transform_X_a):\n",
        "  a = transform_X_a(X)\n",
        "  yd = np.argmax(Yd, axis = 1)\n",
        "  y = np.argmax(a.dot(W), axis = 1)\n",
        "  print('Confusion Matrix:')\n",
        "  print(confusion_matrix(yd, y))\n",
        "\n",
        "\n",
        "evaluate(X_train, w, Y_train, addlcol)\n",
        "evaluate(X_test, w, Y_test, addlcol)"
      ],
      "execution_count": 0,
      "outputs": [
        {
          "output_type": "stream",
          "text": [
            "Confusion Matrix:\n",
            "[[39  0  0]\n",
            " [ 0 22 15]\n",
            " [ 0  4 40]]\n",
            "Confusion Matrix:\n",
            "[[11  0  0]\n",
            " [ 0  6  7]\n",
            " [ 0  0  6]]\n"
          ],
          "name": "stdout"
        }
      ]
    },
    {
      "cell_type": "markdown",
      "metadata": {
        "id": "I0T9W4Vpu6ZE",
        "colab_type": "text"
      },
      "source": [
        "<table>\n",
        "  <tr>\n",
        "    <th colspan=\"0\">X</th>\n",
        "      <th colspan=\"4\">Y</th>\n",
        "      <th colspan=\"6\"></th>\n",
        "      </tr> \n",
        "  <tr>\n",
        "      <td>0.31</td><td>-0.04</td><td>0.45</td><td>0.23</td><td>0</td><td>1</td><td>0</td>\n",
        "    </tr>\n",
        "    <tr>\n",
        "      <td>2.24</td><td>-0.46</td><td>1.30</td><td>1.40</td><td>0</td><td>0</td><td>1</td>\n",
        "      </tr>\n",
        "</table>\n",
        "\\begin{align}\n",
        "[l_s\\: b_s\\: l_p\\: b_p\\: l_s^2\\: b_s^2\\: l_p^2\\: b_p^2\\: 1] \\begin{bmatrix}\n",
        "          w_{00} &w_{01} &w_{02}\\\\\n",
        "          w_{10} &w_{11} &w_{12}\\\\\n",
        "          \\vdots &\\vdots &\\vdots \\\\\n",
        "          w_{80} &w_{81} &w_{82}\n",
        "         \\end{bmatrix} = [y_0\\: y_1\\: y_2]\n",
        "\\end{align}\n",
        "<br><br>\n",
        "$$\n",
        "Aw = y\\\\\n",
        "\\implies w = (A_TA)^{-1}A^Ty\n",
        "$$"
      ]
    },
    {
      "cell_type": "code",
      "metadata": {
        "id": "HW6Al_2Zu6ZF",
        "colab_type": "code",
        "outputId": "82a1eb3c-612d-488d-8a66-86282423a80e",
        "colab": {
          "base_uri": "https://localhost:8080/",
          "height": 188
        }
      },
      "source": [
        "addSqlcol = lambda x: np.concatenate((x, x**2, np.ones((x.shape[0], 1))), axis = 1)\n",
        "\n",
        "A = addSqlcol(X_train)\n",
        "Y = Y_train\n",
        "w = find_weights(A, Y)\n",
        "evaluate(X_train, w, Y_train, addSqlcol)\n",
        "evaluate(X_test, w, Y_test, addSqlcol)"
      ],
      "execution_count": 0,
      "outputs": [
        {
          "output_type": "stream",
          "text": [
            "(120, 9)\n",
            "(120, 3)\n",
            "Confusion Matrix:\n",
            "[[39  0  0]\n",
            " [ 0 35  2]\n",
            " [ 0  2 42]]\n",
            "Confusion Matrix:\n",
            "[[11  0  0]\n",
            " [ 0 13  0]\n",
            " [ 0  0  6]]\n"
          ],
          "name": "stdout"
        }
      ]
    }
  ]
}