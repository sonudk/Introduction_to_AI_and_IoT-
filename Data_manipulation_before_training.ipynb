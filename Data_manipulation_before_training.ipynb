{
  "nbformat": 4,
  "nbformat_minor": 0,
  "metadata": {
    "colab": {
      "name": "Data_manipulation_before_training",
      "version": "0.3.2",
      "provenance": [],
      "private_outputs": true,
      "collapsed_sections": [],
      "include_colab_link": true
    },
    "language_info": {
      "codemirror_mode": {
        "name": "ipython",
        "version": 3
      },
      "file_extension": ".py",
      "mimetype": "text/x-python",
      "name": "python",
      "nbconvert_exporter": "python",
      "pygments_lexer": "ipython3",
      "version": "3.6.8"
    },
    "kernelspec": {
      "name": "python3",
      "display_name": "Python 3"
    },
    "accelerator": "GPU"
  },
  "cells": [
    {
      "cell_type": "markdown",
      "metadata": {
        "id": "view-in-github",
        "colab_type": "text"
      },
      "source": [
        "<a href=\"https://colab.research.google.com/github/sonudk/Introduction_to_AI_and_IoT-/blob/master/Data_manipulation_before_training.ipynb\" target=\"_parent\"><img src=\"https://colab.research.google.com/assets/colab-badge.svg\" alt=\"Open In Colab\"/></a>"
      ]
    },
    {
      "cell_type": "markdown",
      "metadata": {
        "colab_type": "text",
        "id": "GLx5eV15CWnl"
      },
      "source": [
        "### Generate Random array\n",
        "Generate a numpy array of shape x with random values as its elements.\n",
        "\n",
        "\n",
        "\n"
      ]
    },
    {
      "cell_type": "code",
      "metadata": {
        "colab_type": "code",
        "id": "TubUF2DVYN96",
        "colab": {}
      },
      "source": [
        "import numpy as np"
      ],
      "execution_count": 0,
      "outputs": []
    },
    {
      "cell_type": "code",
      "metadata": {
        "colab_type": "code",
        "deletable": false,
        "id": "N2QKp5gJHLlu",
        "nbgrader": {
          "checksum": "625bcc1adb5aa2c0e91b4855d37042e7",
          "grade": false,
          "grade_id": "cell-6c2481fe9b74106f",
          "locked": false,
          "schema_version": 1,
          "solution": true
        },
        "colab": {}
      },
      "source": [
        "def generate_array(x):\n",
        "  '''\n",
        "  input:\n",
        "    x: tuple defining shape; Eg., (5, 2, 3)\n",
        "  output:\n",
        "    y: numpy array of shape x generated using numpy.random library\n",
        "        and its elements as random values between [0,1).\n",
        "  '''\n",
        "  # YOUR CODE HERE\n",
        "  return np.random.random((x))\n"
      ],
      "execution_count": 0,
      "outputs": []
    },
    {
      "cell_type": "code",
      "metadata": {
        "colab_type": "code",
        "deletable": false,
        "editable": false,
        "id": "mo1j4xcMR8Uj",
        "nbgrader": {
          "checksum": "c570c2e2bdf169f54f5c705654d628b3",
          "grade": true,
          "grade_id": "cell-a69e31f80ecccc9d",
          "locked": true,
          "points": 4,
          "schema_version": 1,
          "solution": false
        },
        "colab": {}
      },
      "source": [
        "'''test for generate_array'''\n",
        "def test_generate_array():\n",
        "  x = (2,4,5,6)\n",
        "  y = generate_array(x)\n",
        "  assert y.shape==x\n",
        "  assert np.all(y<1)\n",
        "  assert np.all(y>=0)\n",
        "  print('Test passed', '\\U0001F44D')\n",
        "test_generate_array()"
      ],
      "execution_count": 0,
      "outputs": []
    },
    {
      "cell_type": "markdown",
      "metadata": {
        "colab_type": "text",
        "id": "LtCCbVxyaUV0"
      },
      "source": [
        "### Shape\n",
        "Write a python function to calculate shape of a given array."
      ]
    },
    {
      "cell_type": "code",
      "metadata": {
        "colab_type": "code",
        "deletable": false,
        "id": "kc1mmCFoad6b",
        "nbgrader": {
          "checksum": "5436ab93951f89d24a97cd1016736c62",
          "grade": false,
          "grade_id": "cell-384a33e1069301ec",
          "locked": false,
          "schema_version": 1,
          "solution": true
        },
        "colab": {}
      },
      "source": [
        "def return_shape(x):\n",
        "  '''\n",
        "  input:\n",
        "    x: a numpy array of any dimension\n",
        "  output:\n",
        "    y: shape of input array as a tuple.\n",
        "  '''\n",
        "  # YOUR CODE HERE\n",
        "  return x.shape\n"
      ],
      "execution_count": 0,
      "outputs": []
    },
    {
      "cell_type": "code",
      "metadata": {
        "colab_type": "code",
        "deletable": false,
        "editable": false,
        "id": "Vf-Yyzuob6yd",
        "nbgrader": {
          "checksum": "bee7c3b467e6ca09cb860a0d41d7b886",
          "grade": true,
          "grade_id": "cell-bfa0a66fc882c4bd",
          "locked": true,
          "points": 4,
          "schema_version": 1,
          "solution": false
        },
        "colab": {}
      },
      "source": [
        "'''test for return_shape'''\n",
        "def test_return_shape():\n",
        "  x = np.array([1,2])\n",
        "  y = return_shape(x)\n",
        "  assert y == (2,)\n",
        "  print('Test passed', '\\U0001F44D')\n",
        "test_return_shape()"
      ],
      "execution_count": 0,
      "outputs": []
    },
    {
      "cell_type": "markdown",
      "metadata": {
        "colab_type": "text",
        "id": "E2xpu9Gwc9yT"
      },
      "source": [
        "### Mean and STD\n",
        "Given a data tensor X,  with axis=0 indexing the samples, find mean and standard deviation of the samples ."
      ]
    },
    {
      "cell_type": "code",
      "metadata": {
        "colab_type": "code",
        "deletable": false,
        "id": "Fpz6-7Sgd0WX",
        "nbgrader": {
          "checksum": "6b0f7226a6fecb672e675fdb03bf09e2",
          "grade": false,
          "grade_id": "cell-d9578642617a24f1",
          "locked": false,
          "schema_version": 1,
          "solution": true
        },
        "colab": {}
      },
      "source": [
        "def CalculateMeanStddev(x):\n",
        "  '''\n",
        "  input:\n",
        "    x: a numpy array of any dimension\n",
        "  output:\n",
        "    mean: Numpy array with mean of input samples\n",
        "    stddev: Numpy array with standard deviation of input samples\n",
        "  \n",
        "  HINT: Shape of Input is (samples, feature1, feature2, ...)\n",
        "  \n",
        "  Return mean,stddev\n",
        "  '''\n",
        "  # YOUR CODE HERE\n",
        "  mean=np.sum(x,axis=0)/x.shape[0]\n",
        "  x1=x-mean\n",
        "  std=np.sqrt(np.sum(x1*x1,axis=0)/x.shape[0])\n",
        "  return mean,std\n",
        "  "
      ],
      "execution_count": 0,
      "outputs": []
    },
    {
      "cell_type": "code",
      "metadata": {
        "colab_type": "code",
        "deletable": false,
        "editable": false,
        "id": "eEl8vkDYf2M2",
        "nbgrader": {
          "checksum": "8fcc85a9a8aedda2125c99ec6634c994",
          "grade": true,
          "grade_id": "cell-c79e831f7d49c625",
          "locked": true,
          "points": 4,
          "schema_version": 1,
          "solution": false
        },
        "colab": {}
      },
      "source": [
        "'''test for CalculateMeanStddev'''\n",
        "def test_CalculateMeanStddev():\n",
        "  X = np.array([[1,2,3],\n",
        "                [5,3,1],\n",
        "                [3,7,9],\n",
        "                [3,5,6]])\n",
        "  mean, stddev = CalculateMeanStddev(X)\n",
        "  print(mean)\n",
        "  print(stddev)\n",
        "  assert np.all(np.isclose(mean, np.array([3.  , 4.25, 4.75])))\n",
        "  assert np.all(np.isclose(stddev, np.array([1.41421356, 1.92028644, 3.03108891]) ))\n",
        "\n",
        "  print('Test passed', '\\U0001F44D')\n",
        "test_CalculateMeanStddev()"
      ],
      "execution_count": 0,
      "outputs": []
    },
    {
      "cell_type": "markdown",
      "metadata": {
        "colab_type": "text",
        "id": "iP1afH7EtTmc"
      },
      "source": [
        "### Index\n",
        "Given a matrix of size (m,n) find the element at index position i = a, j =b (start indexing from 0)\n",
        "(Note: If m<a+1 or n<b+1, then return 'None') \n"
      ]
    },
    {
      "cell_type": "code",
      "metadata": {
        "colab_type": "code",
        "deletable": false,
        "id": "2qjwlRkjpreX",
        "nbgrader": {
          "checksum": "0472cd926cd285ca6493d60a87024b4e",
          "grade": false,
          "grade_id": "cell-fe98bacc1889d4a1",
          "locked": false,
          "schema_version": 1,
          "solution": true
        },
        "colab": {}
      },
      "source": [
        "def element_at_given_index_position(x,a,b):\n",
        "  '''\n",
        "  input:\n",
        "    x: numpy array of shape (m,n)\n",
        "    a: integer value (row)\n",
        "    b: integer value (column)\n",
        "  output:\n",
        "    y: element at index position (a,b)\n",
        "  '''\n",
        "  # YOUR CODE HERE\n",
        "  return x[a][b]\n"
      ],
      "execution_count": 0,
      "outputs": []
    },
    {
      "cell_type": "code",
      "metadata": {
        "colab_type": "code",
        "deletable": false,
        "editable": false,
        "id": "hCoXWi12si5k",
        "nbgrader": {
          "checksum": "616b93fa44f23d0af668948807be5f3c",
          "grade": true,
          "grade_id": "cell-e80a9dacd0a68e56",
          "locked": true,
          "points": 4,
          "schema_version": 1,
          "solution": false
        },
        "colab": {}
      },
      "source": [
        "'''test for  element_at_given_index_position'''\n",
        "def test_element_at_given_index_position():\n",
        "  \n",
        "  \n",
        "  x = np.array([[1,2,3],\n",
        "                [5,3,1],\n",
        "                [3,7,9],\n",
        "                [3,5,6],\n",
        "                [1,2,3],\n",
        "                [5,7,8]])\n",
        "  z =  element_at_given_index_position(x,5,2)\n",
        "  assert z ==8\n",
        "  print('Test passed', '\\U0001F44D')\n",
        "  \n",
        "test_element_at_given_index_position()"
      ],
      "execution_count": 0,
      "outputs": []
    },
    {
      "cell_type": "markdown",
      "metadata": {
        "colab_type": "text",
        "id": "q7jwnnURux0Q"
      },
      "source": [
        "### Batch splitting\n",
        "Given a data matrix X with axis = 0 for samples, split X into batches of 'm' samples each.\n",
        "Note: last batch can have  less than 'm' samples.\n",
        "Output should be list of numpy arrays."
      ]
    },
    {
      "cell_type": "code",
      "metadata": {
        "colab_type": "code",
        "deletable": false,
        "id": "FY9AUcF7vv8K",
        "nbgrader": {
          "checksum": "e02105897e53e2a67e1442025ca2dc35",
          "grade": false,
          "grade_id": "cell-59ffcd177dbb9bc9",
          "locked": false,
          "schema_version": 1,
          "solution": true
        },
        "colab": {}
      },
      "source": [
        "import math\n",
        "def split_data(x,m):\n",
        "  '''\n",
        "  input:\n",
        "    x: 2d numpy array of any shape (with axis = 0 indicating samples)\n",
        "    m: integer (sample size iin each batch)\n",
        "  output:\n",
        "    y: a list containing numpy arrays with 'm' samples in each array and \n",
        "    can be less than m only in last array\n",
        "  '''\n",
        "  # YOUR CODE HERE\n",
        "  batch_list=[]\n",
        "  b=math.floor(x.shape[0]/m)\n",
        "  for i in range(b+1):\n",
        "    batch_list.append(x[m*i:m*(i+1),:])\n",
        "  return batch_list"
      ],
      "execution_count": 0,
      "outputs": []
    },
    {
      "cell_type": "code",
      "metadata": {
        "colab_type": "code",
        "deletable": false,
        "editable": false,
        "id": "rEVXiRoQ6Yq9",
        "nbgrader": {
          "checksum": "e085119ef4b7f98e26cfe4567d4de2f4",
          "grade": true,
          "grade_id": "cell-7198a438982a4595",
          "locked": true,
          "points": 4,
          "schema_version": 1,
          "solution": false
        },
        "colab": {}
      },
      "source": [
        "'''test for  element_at_given_index_position'''\n",
        "def test_split_data():\n",
        "  \n",
        "  \n",
        "  x = np.array([[1,2,3],\n",
        "                [5,3,1],\n",
        "                [3,7,9],\n",
        "                [3,5,6],\n",
        "                [11,12,13],\n",
        "                [5,7,8],\n",
        "                [1,2,3],\n",
        "                [5,3,1],\n",
        "                [3,7,9],\n",
        "                [3,5,6],\n",
        "                [11,12,13],\n",
        "                [5,7,8]])\n",
        "  z = split_data(x,5)\n",
        "  assert np.all(z[0]==np.array([[ 1,  2,  3],\n",
        "       [ 5,  3,  1],\n",
        "       [ 3,  7,  9],\n",
        "       [ 3,  5,  6],\n",
        "       [11, 12, 13]]))\n",
        "  \n",
        "  assert np.all(z[1]==np.array([[5, 7, 8],\n",
        "       [1, 2, 3],\n",
        "       [5, 3, 1],\n",
        "       [3, 7, 9],\n",
        "       [3, 5, 6]]))\n",
        "  \n",
        "  assert np.all(z[2]==np.array([[11, 12, 13],\n",
        "       [ 5,  7,  8]]))\n",
        "\n",
        "  print('Test passed', '\\U0001F44D')\n",
        "  \n",
        "test_split_data()"
      ],
      "execution_count": 0,
      "outputs": []
    },
    {
      "cell_type": "markdown",
      "metadata": {
        "colab_type": "text",
        "id": "6EgYhY1ezkSL"
      },
      "source": [
        "### Shuffle\n",
        "Given a data tensor X with axis = 0 indexing the sample, randomly shuffle the samples."
      ]
    },
    {
      "cell_type": "code",
      "metadata": {
        "colab_type": "code",
        "deletable": false,
        "id": "H_UBjwb6zFz6",
        "nbgrader": {
          "checksum": "6ee6590a535e11cc2c1e3033cd74142a",
          "grade": false,
          "grade_id": "cell-1a25ff05d00a08cd",
          "locked": false,
          "schema_version": 1,
          "solution": true
        },
        "colab": {}
      },
      "source": [
        "def shuffle_samples(x):\n",
        "  '''\n",
        "  input:\n",
        "    x: any general numpy array of dimension (m,n)\n",
        "  output:\n",
        "    y: a numpy array with dimension same as of input array but \n",
        "    samples are shuffled randomly.\n",
        "  '''\n",
        "  # YOUR CODE HERE\n",
        "  return np.random.shuffle(x)"
      ],
      "execution_count": 0,
      "outputs": []
    },
    {
      "cell_type": "code",
      "metadata": {
        "colab_type": "code",
        "deletable": false,
        "editable": false,
        "id": "fAbxBbT0e0wS",
        "nbgrader": {
          "checksum": "041d0e5ba07b47634e51f30de0691ccd",
          "grade": true,
          "grade_id": "cell-2f99f7a0a4672738",
          "locked": true,
          "points": 4,
          "schema_version": 1,
          "solution": false
        },
        "colab": {}
      },
      "source": [
        "def test_shuffle_samples():\n",
        "  x = np.array([[1,2,3],\n",
        "                [5,3,1],[6,8,0]])\n",
        "  shuffle_samples(x)\n",
        "  assert x.shape == (3,3)\n",
        "  print('Test passed', '\\U0001F44D')\n",
        "  \n",
        "test_shuffle_samples()"
      ],
      "execution_count": 0,
      "outputs": []
    },
    {
      "cell_type": "markdown",
      "metadata": {
        "colab_type": "text",
        "id": "D8m1yfSWo5Ms"
      },
      "source": [
        "### 1-hot encoding\n",
        "Given three classes, encode them as one hot encoded vectors. For example, if\n",
        "y = [0, 1, 2] then one hot encoded y = [ [1, 0, 0] , [0, 1, 0] , [0, 0, 1] ]"
      ]
    },
    {
      "cell_type": "code",
      "metadata": {
        "colab_type": "code",
        "deletable": false,
        "id": "82VN07KHoa2Y",
        "nbgrader": {
          "checksum": "cbe5386441ca764efa030a0cb9f5f87b",
          "grade": false,
          "grade_id": "cell-3f341761f142d102",
          "locked": false,
          "schema_version": 1,
          "solution": true
        },
        "colab": {}
      },
      "source": [
        "def oneHot(y, Ny):\n",
        "  import numpy as np\n",
        "  \n",
        "  '''\n",
        "  Input:\n",
        "      y: an int in {0, 1, 2}\n",
        "      Ny: Number of classes, e.g., 3 here.\n",
        "  Output:\n",
        "      Y: a vector of Ny (=3) tuples\n",
        "    '''\n",
        "  # YOUR CODE HERE\n",
        "  # here i am making one identity matrix of order Ny (i.e. the number of total classes) and then according to index(class number) extract one raw\n",
        "  Y_train=np.eye(Ny)\n",
        "  return Y_train[y]"
      ],
      "execution_count": 0,
      "outputs": []
    },
    {
      "cell_type": "code",
      "metadata": {
        "colab_type": "code",
        "deletable": false,
        "editable": false,
        "id": "C2c8iLBm3hqr",
        "nbgrader": {
          "checksum": "c93f8cc158062602ae2d2b8a69130e18",
          "grade": true,
          "grade_id": "cell-5b1e3b5f6b6e1740",
          "locked": true,
          "points": 4,
          "schema_version": 1,
          "solution": false
        },
        "colab": {}
      },
      "source": [
        "def test_oneHot():\n",
        "    assert np.all(oneHot(0,3)==np.array([1,0,0]))\n",
        "    assert np.all(oneHot(1,3)==np.array([0,1,0]))\n",
        "    assert np.all(oneHot(2,3)==np.array([0,0,1]))\n",
        "    #assert Y_train.shape[1]==3\n",
        "    print(\"Test passed', '\\U0001F44D\")\n",
        "test_oneHot()"
      ],
      "execution_count": 0,
      "outputs": []
    },
    {
      "cell_type": "markdown",
      "metadata": {
        "colab_type": "text",
        "id": "cOW4XRK7qZM4"
      },
      "source": [
        "Given desired output in a list, convert output into one hot encoded vectors."
      ]
    },
    {
      "cell_type": "code",
      "metadata": {
        "colab_type": "code",
        "deletable": false,
        "id": "Y_jN8EwNqZ5H",
        "nbgrader": {
          "checksum": "a58a8845fe82e402288c51c0c667b0c5",
          "grade": false,
          "grade_id": "cell-99c6e0b52fd80b1e",
          "locked": false,
          "schema_version": 1,
          "solution": true
        },
        "colab": {}
      },
      "source": [
        "def one_hot_encoding_output(x):\n",
        "  '''\n",
        "  input:\n",
        "    x: a list containing desired output, for exmple x = ['cat', 'dog', 'mouse']\n",
        "  output:\n",
        "    y: numpy array with one hot encoded vectors as its elements.\n",
        "  '''\n",
        "  # YOUR CODE HERE\n",
        "  int_list=[]\n",
        "  for i in range(len(x)):\n",
        "    int_list.append(i)\n",
        "  #print(int_list)\n",
        "  matrix=[]\n",
        "  for i in int_list:\n",
        "    matrix.extend(oneHot(i,len(x)))\n",
        "  return np.reshape(matrix,(len(x),len(x)))\n",
        "    \n",
        "    \n",
        "          "
      ],
      "execution_count": 0,
      "outputs": []
    },
    {
      "cell_type": "code",
      "metadata": {
        "colab_type": "code",
        "deletable": false,
        "editable": false,
        "id": "onYbT-lk9WhB",
        "nbgrader": {
          "checksum": "154e635b31b89c10fd4194619f5f3b72",
          "grade": true,
          "grade_id": "cell-1d91cca0bc4c58c0",
          "locked": true,
          "points": 4,
          "schema_version": 1,
          "solution": false
        },
        "colab": {}
      },
      "source": [
        "def test_one_hot_encoding_output():\n",
        "    x = ['cat', 'dog', 'mouse']\n",
        "    one_hot_encoding_output(x)[0]\n",
        "    assert np.all(one_hot_encoding_output(x)[2]==np.array([0., 0., 1.]))\n",
        "    assert np.all(one_hot_encoding_output(x)[1]==np.array([0., 1., 0.]))\n",
        "    assert np.all(one_hot_encoding_output(x)[0]==np.array([1., 0., 0.]))\n",
        "    print(\"Test passed', '\\U0001F44D\")\n",
        "test_one_hot_encoding_output()"
      ],
      "execution_count": 0,
      "outputs": []
    },
    {
      "cell_type": "markdown",
      "metadata": {
        "colab_type": "text",
        "id": "WO0q9zNerrRL"
      },
      "source": [
        "Given a data tensor X, with axis = 0 indexing the samples, randomly pick 10 samples and return as a numpy tensor.\n",
        "If there are less than 10 samples, pad the output tensor with samples having all values as zero(hint. - padded samples will have same dimension as of input samples)\n"
      ]
    },
    {
      "cell_type": "code",
      "metadata": {
        "colab_type": "code",
        "deletable": false,
        "nbgrader": {
          "checksum": "08e9e4d318e48d76b1d81bb14d6db025",
          "grade": false,
          "grade_id": "cell-56c3ff271d6e1713",
          "locked": false,
          "schema_version": 1,
          "solution": true
        },
        "id": "9ERwU9I3R0Cd",
        "colab": {}
      },
      "source": [
        "def pick_samples(x):\n",
        "  '''\n",
        "  input:\n",
        "    x: a numpy array of shape (m,n) (Note: it may have less than 10 samples also. Your code should be fit for \n",
        "    both conditions i.e. m<10 or m>10 )\n",
        "  output:\n",
        "    y: numpy array containing 10 samples selected by randomly shuffling input array and padding samples with all \n",
        "    elements as zeros if input array has less than 10 samples.\n",
        "    .\n",
        "  '''\n",
        "  # YOUR CODE HERE\n",
        "  # i learned how to add elements to tuple\n",
        "  if x.shape[0]>=10:\n",
        "    np.random.shuffle(x)\n",
        "    return x[0:10,:]\n",
        "  elif x.shape[0]<10:\n",
        "    \n",
        "    \n",
        "    shape_tuple=(1,)\n",
        "    for i in range(len(x.shape)-1):\n",
        "      shape_tuple+=(x.shape[i+1],)\n",
        "    #print(np.zeros(shape_tuple))\n",
        "    for j in range(10-x.shape[0]):\n",
        "      x=np.concatenate((x,np.zeros(shape_tuple)),axis=0)\n",
        "  #print(x)\n",
        "  return x    "
      ],
      "execution_count": 0,
      "outputs": []
    },
    {
      "cell_type": "code",
      "metadata": {
        "colab_type": "code",
        "deletable": false,
        "editable": false,
        "id": "UaIyTdpyDw6z",
        "nbgrader": {
          "checksum": "78ce1550901e6c4eab733a8b02ff6a7e",
          "grade": true,
          "grade_id": "cell-cfa220cc907612f3",
          "locked": true,
          "points": 2,
          "schema_version": 1,
          "solution": false
        },
        "colab": {}
      },
      "source": [
        "# so i learned here that we have to update the tgensor when we concatenate\n",
        "def test_pick_sample():\n",
        "    x = np.array([[[1,2,3],\n",
        "                 [4,5,6],\n",
        "                 [7,8,9]],\n",
        "                 [[1,2,3],\n",
        "                 [4,5,6],\n",
        "                 [7,8,9]],\n",
        "                 [[1,2,3],\n",
        "                 [4,5,6],\n",
        "                 [7,8,9]]])\n",
        "    z = pick_samples(x)\n",
        "    #print(z.shape)\n",
        "    assert z.shape==(10,x.shape[1],x.shape[2])\n",
        "    print(\"Test passed', '\\U0001F44D\")\n",
        "test_pick_sample()"
      ],
      "execution_count": 0,
      "outputs": []
    },
    {
      "cell_type": "code",
      "metadata": {
        "colab_type": "code",
        "deletable": false,
        "editable": false,
        "id": "1atks8tcCXgk",
        "nbgrader": {
          "checksum": "bd7f06c05daf0fb9c70b1ade01432c91",
          "grade": true,
          "grade_id": "cell-3929fecffdb63091",
          "locked": true,
          "points": 2,
          "schema_version": 1,
          "solution": false
        },
        "colab": {}
      },
      "source": [
        "def test_pick_sample():\n",
        "   \n",
        "  x = np.array([[1,2,3],\n",
        "                [5,3,1]])\n",
        "  Z = np.array\n",
        "  assert np.all(one_hot_encoding_output(x)[2]==np.array([0., 0., 1.]))\n",
        "  assert np.all(one_hot_encoding_output(x)[1]==np.array([0., 1., 0.]))\n",
        "  assert np.all(one_hot_encoding_output(x)[0]==np.array([1., 0., 0.]))\n",
        "  print(\"Test passed', '\\U0001F44D\")\n",
        "test_one_hot_encoding_output()\n",
        "  "
      ],
      "execution_count": 0,
      "outputs": []
    },
    {
      "cell_type": "markdown",
      "metadata": {
        "colab_type": "text",
        "id": "EvgbmX--wS2K"
      },
      "source": [
        "### Confusion Matrix\n",
        "Given the true output values of a classification task is a numpy vector Ytrue\n",
        "and the estimated output values is  a numpy vector Yest , your function should return\n",
        "the confusion matrix. Do not use any standard library."
      ]
    },
    {
      "cell_type": "code",
      "metadata": {
        "id": "mmI2Jh2DaAov",
        "colab_type": "code",
        "colab": {}
      },
      "source": [
        "from sklearn.metrics import confusion_matrix\n",
        "from sklearn.metrics import roc_curve\n",
        "import numpy as np"
      ],
      "execution_count": 0,
      "outputs": []
    },
    {
      "cell_type": "code",
      "metadata": {
        "colab_type": "code",
        "deletable": false,
        "id": "6cs9BtklwTJy",
        "nbgrader": {
          "checksum": "09b4c6deff24755f6199f7e8bd6ccbe3",
          "grade": false,
          "grade_id": "cell-caafc3be9b586839",
          "locked": false,
          "schema_version": 1,
          "solution": true
        },
        "colab": {}
      },
      "source": [
        "def draw_confusion_matrix(yest,ytrue):\n",
        "  '''\n",
        "  input:\n",
        "    yest: one dimensional numy array consisting of predicted output values(for example  yest = [ 1, 0, 0, 1, 0, 0, 1, 1, 1, 0 ] )\n",
        "    ytrue: one dimensional numy array consisting of actual output values)( for example, ytrue = [ 1, 1, 0, 1, 0, 0, 1, 0, 0, 0 ] )\n",
        "  output:\n",
        "    y: confusion matrix as a numpy array \n",
        "    .\n",
        "  '''\n",
        "  # YOUR CODE HERE\n",
        "  m=np.zeros((2,2),dtype=int)\n",
        "  #print(m[0][0])\n",
        "  TN=m[0][0]\n",
        "  FP=m[0][1]\n",
        "  FN=m[1][0]\n",
        "  TP=m[1][1]\n",
        "  \n",
        "  for i in range(len(ytrue)):\n",
        "    if ytrue[i]==0:\n",
        "      if ytrue[i]==yest[i]:\n",
        "        TN=TN+1\n",
        "      else:\n",
        "        FP=FP+1\n",
        "    else:\n",
        "      if ytrue[i]==yest[i]:\n",
        "        TP=TP+1\n",
        "      else:\n",
        "        FN=FN+1\n",
        "  #print(confusion_matrix(ytrue,yest))\n",
        "  \n",
        "  return [[TN,FP],[FN,TP]]"
      ],
      "execution_count": 0,
      "outputs": []
    },
    {
      "cell_type": "code",
      "metadata": {
        "colab_type": "code",
        "deletable": false,
        "editable": false,
        "id": "WWICrMfpM4nw",
        "nbgrader": {
          "checksum": "54087a701f43684d83ae7f1260879159",
          "grade": true,
          "grade_id": "cell-e856a2de88bc457a",
          "locked": true,
          "points": 4,
          "schema_version": 1,
          "solution": false
        },
        "colab": {}
      },
      "source": [
        "\n",
        "\n",
        "''' check for draw confusion matrix'''\n",
        "\n",
        "from sklearn.metrics import confusion_matrix\n",
        "from sklearn.metrics import roc_curve\n",
        "import numpy as np\n",
        "\n",
        "\n",
        "expected = [ 1, 0, 0, 1, 0, 0, 1, 1, 1, 0 ]\n",
        "predicted = [ 1, 1, 0, 1, 0, 0, 1, 0, 0, 0 ]\n",
        "results = confusion_matrix(expected,predicted)\n",
        "#print(results)\n",
        "assert np.all(draw_confusion_matrix(predicted,expected) == results)\n",
        "print(\"Test passed', '\\U0001F44D\")\n"
      ],
      "execution_count": 0,
      "outputs": []
    },
    {
      "cell_type": "markdown",
      "metadata": {
        "colab_type": "text",
        "id": "pHfhLM81KxfC"
      },
      "source": [
        "Given the confusion matrix CM = np.array([[40 20 10],\n",
        "                                                                          [10 30 5],\n",
        "                                                                          [2 1 50]])\n",
        " \n",
        "\n",
        "1.   What is the accuracy? Save it as 'acc.'.\n",
        "2.   What is precision? Save it as 'prec' in a numpy array.\n",
        "3.   What is recall? Save it as 'recall' in a numpy array\n",
        "4.   What is F-1 score? Save it as 'F_1' in a numpy array\n",
        "\n",
        "\n",
        "\n"
      ]
    },
    {
      "cell_type": "code",
      "metadata": {
        "colab_type": "code",
        "deletable": false,
        "id": "QTIxLK-rG5rW",
        "nbgrader": {
          "checksum": "d73a1708f3b65b0afc229fa63525ede5",
          "grade": false,
          "grade_id": "cell-7b1c1beedf29edc2",
          "locked": false,
          "schema_version": 1,
          "solution": true
        },
        "colab": {}
      },
      "source": [
        "def confusion_matrix_metrics(CM):\n",
        "  \n",
        "  '''\n",
        "    input:\n",
        "      CM: confusion matrix\n",
        "    output:\n",
        "      accuracy: Accuracy across all classes\n",
        "      precision: Numpy array with precision for each class\n",
        "      recall: Numpy array with recall for each class\n",
        "      F_1 : Numpy array with f_1 score for each class\n",
        "      \n",
        "      Return the results as a tuple (accuracy, precision, recall, f_1)\n",
        "  '''\n",
        "  # YOUR CODE HERE\n",
        "  m=np.sum(CM,axis=0)                      \n",
        "  m1=np.sum(CM,axis=1)\n",
        "  accuracy=np.trace(CM)/(np.sum(m))\n",
        "  \n",
        "  precision=[]\n",
        "  for i in range(x.shape[1]):\n",
        "    precision.extend(float(CM[i][i]/m[i]))\n",
        "  recall=[]\n",
        "  for i in range(x.shape[0]):\n",
        "    recall.extend(CM[i][i]/m1[i])\n",
        "  F_1=2*((recall)*(precision)/(recall+precision))\n",
        "  return accuracy,precision,recall,F_1\n",
        "  \n",
        "  "
      ],
      "execution_count": 0,
      "outputs": []
    },
    {
      "cell_type": "code",
      "metadata": {
        "colab_type": "code",
        "deletable": false,
        "editable": false,
        "id": "ge5_AuWsPySh",
        "nbgrader": {
          "checksum": "7084dd9869140ef103c7e763a36d377b",
          "grade": true,
          "grade_id": "cell-bdf1a16a48bdf3a7",
          "locked": true,
          "points": 4,
          "schema_version": 1,
          "solution": false
        },
        "colab": {}
      },
      "source": [
        "''' check for confusion matrix'''\n",
        "\n",
        "def test_confusion_matrix_metrics():\n",
        "  CM = np.array([[40,20,10], [10,30,5], [2,1,50]])\n",
        "  accuracy, precision, recall, F_1 = confusion_matrix_metrics(CM) \n",
        "  \n",
        "  assert np.isclose(accuracy, 0.7142857142857143)\n",
        "  assert np.all(np.isclose(precision, np.array([0.7692307692307693, 0.5882352941176471, 0.7692307692307693])))\n",
        "  assert np.all(np.isclose(recall, np.array([0.5714285714285714, 0.6666666666666666, 0.9433962264150944])))\n",
        "  assert np.all(np.isclose(F_1, np.array([0.6557377049180327, 0.625, 0.847457627118644])))\n",
        "  print(\"Test passed', '\\U0001F44D\")\n",
        "  \n",
        "test_confusion_matrix_metrics()"
      ],
      "execution_count": 0,
      "outputs": []
    },
    {
      "cell_type": "code",
      "metadata": {
        "id": "qxhmjLO6xysp",
        "colab_type": "code",
        "colab": {}
      },
      "source": [
        ""
      ],
      "execution_count": 0,
      "outputs": []
    }
  ]
}