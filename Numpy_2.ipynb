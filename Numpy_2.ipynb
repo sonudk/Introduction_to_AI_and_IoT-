{
  "nbformat": 4,
  "nbformat_minor": 0,
  "metadata": {
    "colab": {
      "name": "Numpy_2.ipynb",
      "version": "0.3.2",
      "provenance": [],
      "include_colab_link": true
    },
    "language_info": {
      "codemirror_mode": {
        "name": "ipython",
        "version": 3
      },
      "file_extension": ".py",
      "mimetype": "text/x-python",
      "name": "python",
      "nbconvert_exporter": "python",
      "pygments_lexer": "ipython3",
      "version": "3.7.3"
    },
    "kernelspec": {
      "display_name": "Python 3",
      "language": "python",
      "name": "python3"
    }
  },
  "cells": [
    {
      "cell_type": "markdown",
      "metadata": {
        "id": "view-in-github",
        "colab_type": "text"
      },
      "source": [
        "<a href=\"https://colab.research.google.com/github/sonudk/Introduction_to_AI_and_IoT-/blob/master/Numpy_2.ipynb\" target=\"_parent\"><img src=\"https://colab.research.google.com/assets/colab-badge.svg\" alt=\"Open In Colab\"/></a>"
      ]
    },
    {
      "cell_type": "code",
      "metadata": {
        "id": "mL3OlmORwWgw",
        "colab_type": "code",
        "colab": {}
      },
      "source": [
        "import numpy as np"
      ],
      "execution_count": 0,
      "outputs": []
    },
    {
      "cell_type": "markdown",
      "metadata": {
        "id": "5qnBetBAwWg8",
        "colab_type": "text"
      },
      "source": [
        "## Array Creation"
      ]
    },
    {
      "cell_type": "code",
      "metadata": {
        "id": "3wap9RDDwwHh",
        "colab_type": "code",
        "colab": {
          "base_uri": "https://localhost:8080/",
          "height": 51
        },
        "outputId": "44e9b2d3-0d9e-4abf-a162-b71e000b3963"
      },
      "source": [
        "l=[1,3,24,233223,2332323]\n",
        "print(np.array(l),type(np.array(l)))\n",
        "print(type(l))"
      ],
      "execution_count": 6,
      "outputs": [
        {
          "output_type": "stream",
          "text": [
            "[      1       3      24  233223 2332323] <class 'numpy.ndarray'>\n",
            "<class 'list'>\n"
          ],
          "name": "stdout"
        }
      ]
    },
    {
      "cell_type": "code",
      "metadata": {
        "id": "-hnM63ciwWhB",
        "colab_type": "code",
        "colab": {
          "base_uri": "https://localhost:8080/",
          "height": 34
        },
        "outputId": "b64b3283-1b7d-4686-9c97-1773f1e30c55"
      },
      "source": [
        "# Create an array from list\n",
        "l = [1, 2, 3 ,4 , 5]\n",
        "l_a = np.array(l)\n",
        "print(l_a, type(l_a))"
      ],
      "execution_count": 8,
      "outputs": [
        {
          "output_type": "stream",
          "text": [
            "[1 2 3 4 5] <class 'numpy.ndarray'>\n"
          ],
          "name": "stdout"
        }
      ]
    },
    {
      "cell_type": "code",
      "metadata": {
        "id": "c-VG7ICAxGdk",
        "colab_type": "code",
        "colab": {
          "base_uri": "https://localhost:8080/",
          "height": 51
        },
        "outputId": "541c6e76-df7f-4a0f-aa36-56221fbd45c0"
      },
      "source": [
        "l=[[1,233,23,32300],[2,3,23,23]]\n",
        "print(np.array(l))"
      ],
      "execution_count": 9,
      "outputs": [
        {
          "output_type": "stream",
          "text": [
            "[[    1   233    23 32300]\n",
            " [    2     3    23    23]]\n"
          ],
          "name": "stdout"
        }
      ]
    },
    {
      "cell_type": "code",
      "metadata": {
        "id": "FF7o-jlWwWhT",
        "colab_type": "code",
        "colab": {
          "base_uri": "https://localhost:8080/",
          "height": 51
        },
        "outputId": "be61f178-a462-4211-cf15-4dcbbd96afc3"
      },
      "source": [
        "l2 = [[1, 2, 3], [4, 5, 6]]\n",
        "l2_a = np.array(l2)\n",
        "print(l2_a, type(l2_a))"
      ],
      "execution_count": 10,
      "outputs": [
        {
          "output_type": "stream",
          "text": [
            "[[1 2 3]\n",
            " [4 5 6]] <class 'numpy.ndarray'>\n"
          ],
          "name": "stdout"
        }
      ]
    },
    {
      "cell_type": "code",
      "metadata": {
        "id": "a5B2mjvHwWhs",
        "colab_type": "code",
        "colab": {},
        "outputId": "50d5e1a4-e1d9-41c0-cc79-ebf18a58b174"
      },
      "source": [
        "## initialize an array with zeros\n",
        "l3_a = np.zeros((3, 3))\n",
        "print(l3_a)"
      ],
      "execution_count": 0,
      "outputs": [
        {
          "output_type": "stream",
          "text": [
            "[[0. 0. 0.]\n",
            " [0. 0. 0.]\n",
            " [0. 0. 0.]]\n"
          ],
          "name": "stdout"
        }
      ]
    },
    {
      "cell_type": "code",
      "metadata": {
        "id": "Q6Kk0__pwWiN",
        "colab_type": "code",
        "colab": {},
        "outputId": "eec788da-2df7-4969-bd7b-695e4d50009f"
      },
      "source": [
        "## initialize with ones\n",
        "l4_a = np.ones((3, 3))\n",
        "print(l4_a)"
      ],
      "execution_count": 0,
      "outputs": [
        {
          "output_type": "stream",
          "text": [
            "[[1. 1. 1.]\n",
            " [1. 1. 1.]\n",
            " [1. 1. 1.]]\n"
          ],
          "name": "stdout"
        }
      ]
    },
    {
      "cell_type": "code",
      "metadata": {
        "id": "J65XzGQFxahh",
        "colab_type": "code",
        "colab": {
          "base_uri": "https://localhost:8080/",
          "height": 34
        },
        "outputId": "72cc52c4-2807-4db7-cbf3-2a3f53f924ad"
      },
      "source": [
        "print(np.array(()))"
      ],
      "execution_count": 11,
      "outputs": [
        {
          "output_type": "stream",
          "text": [
            "[]\n"
          ],
          "name": "stdout"
        }
      ]
    },
    {
      "cell_type": "code",
      "metadata": {
        "id": "sw1QqxRlx8m7",
        "colab_type": "code",
        "colab": {
          "base_uri": "https://localhost:8080/",
          "height": 51
        },
        "outputId": "9fba151d-747e-411e-d2e2-6b33a82789c4"
      },
      "source": [
        "print(np.empty((2,3),dtype=np.float64))"
      ],
      "execution_count": 16,
      "outputs": [
        {
          "output_type": "stream",
          "text": [
            "[[3.43025904e-316 0.00000000e+000 0.00000000e+000]\n",
            " [0.00000000e+000 0.00000000e+000 0.00000000e+000]]\n"
          ],
          "name": "stdout"
        }
      ]
    },
    {
      "cell_type": "code",
      "metadata": {
        "id": "wCvq2oc8wWim",
        "colab_type": "code",
        "colab": {
          "base_uri": "https://localhost:8080/",
          "height": 51
        },
        "outputId": "3829fce8-aeca-4b06-a3c5-cc44fd61fb28"
      },
      "source": [
        "### empty array\n",
        "## see both the empty matrices are samein float64 data type# it doesn't depend on how much time we run cells\n",
        "l5_a = np.empty((2, 3))\n",
        "print(l5_a)"
      ],
      "execution_count": 18,
      "outputs": [
        {
          "output_type": "stream",
          "text": [
            "[[3.43025904e-316 0.00000000e+000 0.00000000e+000]\n",
            " [0.00000000e+000 0.00000000e+000 0.00000000e+000]]\n"
          ],
          "name": "stdout"
        }
      ]
    },
    {
      "cell_type": "code",
      "metadata": {
        "id": "g2J75tVzwWi8",
        "colab_type": "code",
        "colab": {
          "base_uri": "https://localhost:8080/",
          "height": 51
        },
        "outputId": "54fe2742-0a0e-476f-c108-b4b433b22182"
      },
      "source": [
        "l_0_to10 = list(range(21)) # last pointdoes not considerd\n",
        "print(l_0_to10)\n",
        "print(np.random.shuffle(np.array(l_0_to10))) #why it shows none"
      ],
      "execution_count": 22,
      "outputs": [
        {
          "output_type": "stream",
          "text": [
            "[0, 1, 2, 3, 4, 5, 6, 7, 8, 9, 10, 11, 12, 13, 14, 15, 16, 17, 18, 19, 20]\n",
            "None\n"
          ],
          "name": "stdout"
        }
      ]
    },
    {
      "cell_type": "code",
      "metadata": {
        "id": "CMP-Ju8IwWjG",
        "colab_type": "code",
        "colab": {
          "base_uri": "https://localhost:8080/",
          "height": 34
        },
        "outputId": "74755808-4069-4061-8ad0-0583e0e120ee"
      },
      "source": [
        "l7_a = np.arange(10, 20, 2) # start, end, step size# can be used to generate evenly sepoerated random datas #######$$$$$$$$$$$last point 20 doesn't come ##################\n",
        "print(l7_a)"
      ],
      "execution_count": 23,
      "outputs": [
        {
          "output_type": "stream",
          "text": [
            "[10 12 14 16 18]\n"
          ],
          "name": "stdout"
        }
      ]
    },
    {
      "cell_type": "markdown",
      "metadata": {
        "id": "4iya-E75wWjL",
        "colab_type": "text"
      },
      "source": [
        "### Basic Operations"
      ]
    },
    {
      "cell_type": "code",
      "metadata": {
        "id": "lC7ecfUDwWjM",
        "colab_type": "code",
        "colab": {},
        "outputId": "a690a740-76d4-4113-c508-ce950e57f197"
      },
      "source": [
        "l6_a = l4_a + 2\n",
        "print(l6_a)"
      ],
      "execution_count": 0,
      "outputs": [
        {
          "output_type": "stream",
          "text": [
            "[[3. 3. 3.]\n",
            " [3. 3. 3.]\n",
            " [3. 3. 3.]]\n"
          ],
          "name": "stdout"
        }
      ]
    },
    {
      "cell_type": "code",
      "metadata": {
        "id": "zDsHiGTPwWjR",
        "colab_type": "code",
        "colab": {},
        "outputId": "cb6f7740-a76e-4ba5-93e2-5162976c3a69"
      },
      "source": [
        "## ** is used for exponentiation\n",
        "print(2**2)\n",
        "print(l6_a**2)"
      ],
      "execution_count": 0,
      "outputs": [
        {
          "output_type": "stream",
          "text": [
            "4\n",
            "[[9. 9. 9.]\n",
            " [9. 9. 9.]\n",
            " [9. 9. 9.]]\n"
          ],
          "name": "stdout"
        }
      ]
    },
    {
      "cell_type": "code",
      "metadata": {
        "id": "RIupTvgLwWjU",
        "colab_type": "code",
        "colab": {},
        "outputId": "14b8e9c3-6b63-4ca1-d26e-e9d1e3df4ae2"
      },
      "source": [
        "np.sin(l6_a)"
      ],
      "execution_count": 0,
      "outputs": [
        {
          "output_type": "execute_result",
          "data": {
            "text/plain": [
              "array([[0.14112001, 0.14112001, 0.14112001],\n",
              "       [0.14112001, 0.14112001, 0.14112001],\n",
              "       [0.14112001, 0.14112001, 0.14112001]])"
            ]
          },
          "metadata": {
            "tags": []
          },
          "execution_count": 17
        }
      ]
    },
    {
      "cell_type": "code",
      "metadata": {
        "id": "oH9mxTavwWjZ",
        "colab_type": "code",
        "colab": {},
        "outputId": "390c6eaa-8bd7-4ab8-c5b7-ef72d45e93cb"
      },
      "source": [
        "l8_a = np.arange(1, 10).reshape(3, 3)\n",
        "print(l8_a)"
      ],
      "execution_count": 0,
      "outputs": [
        {
          "output_type": "stream",
          "text": [
            "[[1 2 3]\n",
            " [4 5 6]\n",
            " [7 8 9]]\n"
          ],
          "name": "stdout"
        }
      ]
    },
    {
      "cell_type": "code",
      "metadata": {
        "id": "X39wreIkwWjf",
        "colab_type": "code",
        "colab": {},
        "outputId": "d071d7cd-4456-45a3-bfb2-5be986ae3ad5"
      },
      "source": [
        "print(l8_a > 5)"
      ],
      "execution_count": 0,
      "outputs": [
        {
          "output_type": "stream",
          "text": [
            "[[False False False]\n",
            " [False False  True]\n",
            " [ True  True  True]]\n"
          ],
          "name": "stdout"
        }
      ]
    },
    {
      "cell_type": "code",
      "metadata": {
        "id": "v5scEvzHwWjk",
        "colab_type": "code",
        "colab": {},
        "outputId": "e35e226f-a012-4b4b-a7f9-e4fd9a95d31c"
      },
      "source": [
        "l2s = np.ones((3, 3))*2\n",
        "print(l2s)\n",
        "l3s = np.ones((3, 3))*3\n",
        "print(l3s)\n",
        "print(l2s*l3s) ## @@@$$$element wise multiplication of both arrays\n"
      ],
      "execution_count": 0,
      "outputs": [
        {
          "output_type": "stream",
          "text": [
            "[[2. 2. 2.]\n",
            " [2. 2. 2.]\n",
            " [2. 2. 2.]]\n",
            "[[3. 3. 3.]\n",
            " [3. 3. 3.]\n",
            " [3. 3. 3.]]\n",
            "[[6. 6. 6.]\n",
            " [6. 6. 6.]\n",
            " [6. 6. 6.]]\n"
          ],
          "name": "stdout"
        }
      ]
    },
    {
      "cell_type": "code",
      "metadata": {
        "id": "ZRZLpww9wWjm",
        "colab_type": "code",
        "colab": {},
        "outputId": "cd397b4d-445e-49e5-9fd5-d4d9cc419c8e"
      },
      "source": [
        "print(l2s.dot(l3s)) ## dot product"
      ],
      "execution_count": 0,
      "outputs": [
        {
          "output_type": "stream",
          "text": [
            "[[18. 18. 18.]\n",
            " [18. 18. 18.]\n",
            " [18. 18. 18.]]\n"
          ],
          "name": "stdout"
        }
      ]
    },
    {
      "cell_type": "code",
      "metadata": {
        "id": "wLtaAsnDwWjp",
        "colab_type": "code",
        "colab": {},
        "outputId": "02916b19-2d13-45d1-e74e-35b91c857017"
      },
      "source": [
        "print(l2s@l3s) # another way to do dot product of matrices### #this is awesome"
      ],
      "execution_count": 0,
      "outputs": [
        {
          "output_type": "stream",
          "text": [
            "[[18. 18. 18.]\n",
            " [18. 18. 18.]\n",
            " [18. 18. 18.]]\n"
          ],
          "name": "stdout"
        }
      ]
    },
    {
      "cell_type": "code",
      "metadata": {
        "id": "WnlvkEMhoWTc",
        "colab_type": "code",
        "colab": {}
      },
      "source": [
        "for i in range(5):\n",
        "    "
      ],
      "execution_count": 0,
      "outputs": []
    },
    {
      "cell_type": "code",
      "metadata": {
        "id": "sbOELbvzwWjt",
        "colab_type": "code",
        "colab": {},
        "outputId": "5521c89d-0000-4194-9149-82ad54df65d7"
      },
      "source": [
        "### create 3x3 matrices with all 1s, all 2s, so on , all 5s. Square them and add them\n",
        "\n",
        "## simple list of ints\n",
        "list_ints = []\n",
        "for i in range(1, 6):\n",
        "    list_ints.append(i)\n",
        "\n",
        "l_matrices = []\n",
        "for i in range(1, 6):\n",
        "    three_by_three = np.ones((3, 3))*i\n",
        "    l_matrices.append(three_by_three)\n",
        "print(l_matrices)\n",
        "\n",
        "sum_squares = np.zeros((3, 3))\n",
        "for i in l_matrices:\n",
        "    sum_squares = sum_squares + i*i\n",
        "\n",
        "print(sum_squares)"
      ],
      "execution_count": 0,
      "outputs": [
        {
          "output_type": "stream",
          "text": [
            "[array([[1., 1., 1.],\n",
            "       [1., 1., 1.],\n",
            "       [1., 1., 1.]]), array([[2., 2., 2.],\n",
            "       [2., 2., 2.],\n",
            "       [2., 2., 2.]]), array([[3., 3., 3.],\n",
            "       [3., 3., 3.],\n",
            "       [3., 3., 3.]]), array([[4., 4., 4.],\n",
            "       [4., 4., 4.],\n",
            "       [4., 4., 4.]]), array([[5., 5., 5.],\n",
            "       [5., 5., 5.],\n",
            "       [5., 5., 5.]])]\n",
            "[[55. 55. 55.]\n",
            " [55. 55. 55.]\n",
            " [55. 55. 55.]]\n"
          ],
          "name": "stdout"
        }
      ]
    },
    {
      "cell_type": "code",
      "metadata": {
        "id": "pgI-QIFbwWjx",
        "colab_type": "code",
        "colab": {},
        "outputId": "12a04cb3-0f61-4eac-d37d-0261d6890288"
      },
      "source": [
        "l1s = np.ones((3, 3))\n",
        "l1s.sum()"
      ],
      "execution_count": 0,
      "outputs": [
        {
          "output_type": "execute_result",
          "data": {
            "text/plain": [
              "9.0"
            ]
          },
          "metadata": {
            "tags": []
          },
          "execution_count": 36
        }
      ]
    },
    {
      "cell_type": "code",
      "metadata": {
        "id": "n8UVikApwWj0",
        "colab_type": "code",
        "colab": {},
        "outputId": "f1a4af5f-3365-4752-e2a9-02aed1544c5f"
      },
      "source": [
        "l_1 = np.arange(1, 13).reshape(4, 3)\n",
        "print(l_1)\n",
        "l_1.max()"
      ],
      "execution_count": 0,
      "outputs": [
        {
          "output_type": "stream",
          "text": [
            "[[ 1  2  3]\n",
            " [ 4  5  6]\n",
            " [ 7  8  9]\n",
            " [10 11 12]]\n"
          ],
          "name": "stdout"
        },
        {
          "output_type": "execute_result",
          "data": {
            "text/plain": [
              "12"
            ]
          },
          "metadata": {
            "tags": []
          },
          "execution_count": 44
        }
      ]
    },
    {
      "cell_type": "markdown",
      "metadata": {
        "id": "k23PeQS7wWj2",
        "colab_type": "text"
      },
      "source": [
        "### Axis"
      ]
    },
    {
      "cell_type": "code",
      "metadata": {
        "id": "SGeiifAEwWj3",
        "colab_type": "code",
        "colab": {
          "base_uri": "https://localhost:8080/",
          "height": 34
        },
        "outputId": "e63cda84-9259-4289-e7e9-01e17934577b"
      },
      "source": [
        "import numpy as np\n",
        "l_6 = np.array([[ 1 , 2 , 3],\n",
        "                [ 4 , 5 , 6],\n",
        "                [ 7 , 89,  9],\n",
        "                [10 , 11, 12]])\n",
        "l_6.max(axis = 0)"
      ],
      "execution_count": 6,
      "outputs": [
        {
          "output_type": "execute_result",
          "data": {
            "text/plain": [
              "array([10, 89, 12])"
            ]
          },
          "metadata": {
            "tags": []
          },
          "execution_count": 6
        }
      ]
    },
    {
      "cell_type": "code",
      "metadata": {
        "id": "M1gG9n-awWj6",
        "colab_type": "code",
        "colab": {
          "base_uri": "https://localhost:8080/",
          "height": 34
        },
        "outputId": "e40152ee-4ad8-4d24-ea8f-250d6f2965b2"
      },
      "source": [
        "l_6.max(axis = 1)"
      ],
      "execution_count": 7,
      "outputs": [
        {
          "output_type": "execute_result",
          "data": {
            "text/plain": [
              "array([ 3,  6, 89, 12])"
            ]
          },
          "metadata": {
            "tags": []
          },
          "execution_count": 7
        }
      ]
    },
    {
      "cell_type": "code",
      "metadata": {
        "id": "jsnLBs31wWkC",
        "colab_type": "code",
        "colab": {
          "base_uri": "https://localhost:8080/",
          "height": 34
        },
        "outputId": "bd6fd55c-5e1e-46ee-fb55-a7ff6cbdb5fd"
      },
      "source": [
        "l_6.sum(axis = 0)"
      ],
      "execution_count": 8,
      "outputs": [
        {
          "output_type": "execute_result",
          "data": {
            "text/plain": [
              "array([ 22, 107,  30])"
            ]
          },
          "metadata": {
            "tags": []
          },
          "execution_count": 8
        }
      ]
    },
    {
      "cell_type": "code",
      "metadata": {
        "id": "mC4Nt2wQwWkJ",
        "colab_type": "code",
        "colab": {},
        "outputId": "418d6d9a-d111-4ae3-a811-8abb19d9d380"
      },
      "source": [
        "l_1.sum(axis = 1)"
      ],
      "execution_count": 0,
      "outputs": [
        {
          "output_type": "execute_result",
          "data": {
            "text/plain": [
              "array([ 6, 15, 24, 33])"
            ]
          },
          "metadata": {
            "tags": []
          },
          "execution_count": 48
        }
      ]
    },
    {
      "cell_type": "code",
      "metadata": {
        "id": "PntHMWlOwWkN",
        "colab_type": "code",
        "colab": {},
        "outputId": "c4426ac4-f64f-453d-8056-9c4bcb374aa4"
      },
      "source": [
        "l_2 = np.arange(24).reshape(2, 3, 4)\n",
        "print(l_2)"
      ],
      "execution_count": 0,
      "outputs": [
        {
          "output_type": "stream",
          "text": [
            "[[[ 0  1  2  3]\n",
            "  [ 4  5  6  7]\n",
            "  [ 8  9 10 11]]\n",
            "\n",
            " [[12 13 14 15]\n",
            "  [16 17 18 19]\n",
            "  [20 21 22 23]]]\n"
          ],
          "name": "stdout"
        }
      ]
    },
    {
      "cell_type": "code",
      "metadata": {
        "id": "yB3kvOj6wWkU",
        "colab_type": "code",
        "colab": {},
        "outputId": "dedd6b7a-446b-43b6-a25a-bc9662b7aff3"
      },
      "source": [
        "l_2.max(axis = 1).shape # don't show the shape wrt which axis we are taking shape"
      ],
      "execution_count": 0,
      "outputs": [
        {
          "output_type": "execute_result",
          "data": {
            "text/plain": [
              "(2, 4)"
            ]
          },
          "metadata": {
            "tags": []
          },
          "execution_count": 54
        }
      ]
    },
    {
      "cell_type": "code",
      "metadata": {
        "id": "BtUf_LP9wWkZ",
        "colab_type": "code",
        "colab": {},
        "outputId": "5d66e81a-9c2c-4789-e42a-1c6b33bc2742"
      },
      "source": [
        "l_2.max(axis = 1)"
      ],
      "execution_count": 0,
      "outputs": [
        {
          "output_type": "execute_result",
          "data": {
            "text/plain": [
              "array([[ 8,  9, 10, 11],\n",
              "       [20, 21, 22, 23]])"
            ]
          },
          "metadata": {
            "tags": []
          },
          "execution_count": 56
        }
      ]
    },
    {
      "cell_type": "code",
      "metadata": {
        "id": "2_bR8q9PwWkf",
        "colab_type": "code",
        "colab": {},
        "outputId": "e99035c0-06de-4b2a-f3c7-b10120466767"
      },
      "source": [
        "l_2.max(axis = 2)"
      ],
      "execution_count": 0,
      "outputs": [
        {
          "output_type": "execute_result",
          "data": {
            "text/plain": [
              "array([[ 3,  7, 11],\n",
              "       [15, 19, 23]])"
            ]
          },
          "metadata": {
            "tags": []
          },
          "execution_count": 59
        }
      ]
    },
    {
      "cell_type": "code",
      "metadata": {
        "id": "Cb4xU2gGwWki",
        "colab_type": "code",
        "colab": {},
        "outputId": "53c7896d-ef76-4752-d16b-d54562a0e8a6"
      },
      "source": [
        "l_3 = np.arange(16).reshape(4, 2, 2)\n",
        "print(l_3)\n",
        "print('\\n')\n",
        "for i in l_3:\n",
        "    print(i)"
      ],
      "execution_count": 0,
      "outputs": [
        {
          "output_type": "stream",
          "text": [
            "[[[ 0  1]\n",
            "  [ 2  3]]\n",
            "\n",
            " [[ 4  5]\n",
            "  [ 6  7]]\n",
            "\n",
            " [[ 8  9]\n",
            "  [10 11]]\n",
            "\n",
            " [[12 13]\n",
            "  [14 15]]]\n",
            "\n",
            "\n",
            "[[0 1]\n",
            " [2 3]]\n",
            "[[4 5]\n",
            " [6 7]]\n",
            "[[ 8  9]\n",
            " [10 11]]\n",
            "[[12 13]\n",
            " [14 15]]\n"
          ],
          "name": "stdout"
        }
      ]
    },
    {
      "cell_type": "code",
      "metadata": {
        "id": "B-Z4JyD6wWkl",
        "colab_type": "code",
        "colab": {},
        "outputId": "027ee9d6-21bc-4488-e1fb-d225de99ae96"
      },
      "source": [
        "for i in l_3.flat:\n",
        "    print(i)"
      ],
      "execution_count": 0,
      "outputs": [
        {
          "output_type": "stream",
          "text": [
            "0\n",
            "1\n",
            "2\n",
            "3\n",
            "4\n",
            "5\n",
            "6\n",
            "7\n",
            "8\n"
          ],
          "name": "stdout"
        }
      ]
    },
    {
      "cell_type": "code",
      "metadata": {
        "scrolled": true,
        "id": "TiEGLKTSwWkt",
        "colab_type": "code",
        "colab": {},
        "outputId": "83f2e83f-c3b8-488a-ed9a-30b8aca67bcd"
      },
      "source": [
        "l_10 = np.arange(24)\n",
        "print(l_10.reshape(2, 3, 4))"
      ],
      "execution_count": 0,
      "outputs": [
        {
          "output_type": "stream",
          "text": [
            "[[[ 0  1  2  3]\n",
            "  [ 4  5  6  7]\n",
            "  [ 8  9 10 11]]\n",
            "\n",
            " [[12 13 14 15]\n",
            "  [16 17 18 19]\n",
            "  [20 21 22 23]]]\n"
          ],
          "name": "stdout"
        }
      ]
    },
    {
      "cell_type": "markdown",
      "metadata": {
        "id": "VDMHbolWwWkx",
        "colab_type": "text"
      },
      "source": [
        "### Stacking"
      ]
    },
    {
      "cell_type": "code",
      "metadata": {
        "id": "tMvt3_O_wWkx",
        "colab_type": "code",
        "colab": {},
        "outputId": "93812f7b-586d-43e3-ad31-211517dd7ed2"
      },
      "source": [
        "l1 = np.arange(3)\n",
        "l2 = np.arange(3, 6)\n",
        "print(l1, l2)"
      ],
      "execution_count": 0,
      "outputs": [
        {
          "output_type": "stream",
          "text": [
            "[0 1 2] [3 4 5]\n"
          ],
          "name": "stdout"
        }
      ]
    },
    {
      "cell_type": "code",
      "metadata": {
        "id": "TR4T_eh7wWk1",
        "colab_type": "code",
        "colab": {},
        "outputId": "d09594c0-0b31-4452-c6ea-bb2f9dadca11"
      },
      "source": [
        "np.vstack([l1, l2])"
      ],
      "execution_count": 0,
      "outputs": [
        {
          "output_type": "execute_result",
          "data": {
            "text/plain": [
              "array([[0, 1, 2],\n",
              "       [3, 4, 5]])"
            ]
          },
          "metadata": {
            "tags": []
          },
          "execution_count": 83
        }
      ]
    },
    {
      "cell_type": "code",
      "metadata": {
        "id": "UyEfJsrCwWk9",
        "colab_type": "code",
        "colab": {},
        "outputId": "9668d643-eeab-4122-9e41-3e363b0106ae"
      },
      "source": [
        "y = np.array([0, 1, 0, 1, 1, 1, 1, 0, 0, 1])\n",
        "print(y.shape)\n",
        "x = np.arange(20).reshape(10, 2)\n",
        "print('x', x)\n",
        "print('y', y)"
      ],
      "execution_count": 0,
      "outputs": [
        {
          "output_type": "stream",
          "text": [
            "(10,)\n",
            "x [[ 0  1]\n",
            " [ 2  3]\n",
            " [ 4  5]\n",
            " [ 6  7]\n",
            " [ 8  9]\n",
            " [10 11]\n",
            " [12 13]\n",
            " [14 15]\n",
            " [16 17]\n",
            " [18 19]]\n",
            "y [0 1 0 1 1 1 1 0 0 1]\n"
          ],
          "name": "stdout"
        }
      ]
    },
    {
      "cell_type": "code",
      "metadata": {
        "id": "4OjjOUiowWlD",
        "colab_type": "code",
        "colab": {},
        "outputId": "c64319f8-d3e3-43de-91e9-804ffeb5ae0f"
      },
      "source": [
        "x_0 = []\n",
        "x_1 = []\n",
        "index = 0\n",
        "for i in x:\n",
        "    if(y[index] == 0):\n",
        "        x_0.append(i)\n",
        "    else:\n",
        "        x_1.append(i)\n",
        "    index = index + 1\n",
        "\n",
        "print('before stacking', x_0)\n",
        "v_x_0 = np.vstack(x_0)\n",
        "v_x_1 = np.vstack(x_1)\n",
        "    \n",
        "print(v_x_0,'\\n\\n\\n', v_x_1)    "
      ],
      "execution_count": 0,
      "outputs": [
        {
          "output_type": "stream",
          "text": [
            "before stacking [array([0, 1]), array([4, 5]), array([14, 15]), array([16, 17])]\n",
            "[[ 0  1]\n",
            " [ 4  5]\n",
            " [14 15]\n",
            " [16 17]] \n",
            "\n",
            "\n",
            " [[ 2  3]\n",
            " [ 6  7]\n",
            " [ 8  9]\n",
            " [10 11]\n",
            " [12 13]\n",
            " [18 19]]\n"
          ],
          "name": "stdout"
        }
      ]
    },
    {
      "cell_type": "code",
      "metadata": {
        "id": "5XMJxuw3wWlJ",
        "colab_type": "code",
        "colab": {},
        "outputId": "19abc0b4-07c4-4a79-aeeb-d7a53a8ad0be"
      },
      "source": [
        "h_x_0 = np.hstack([i.reshape(2, 1) for i in x_0])\n",
        "print(h_x_0)"
      ],
      "execution_count": 0,
      "outputs": [
        {
          "output_type": "stream",
          "text": [
            "[[ 0  4 14 16]\n",
            " [ 1  5 15 17]]\n"
          ],
          "name": "stdout"
        }
      ]
    },
    {
      "cell_type": "code",
      "metadata": {
        "id": "NtfhiGE6wWlN",
        "colab_type": "code",
        "colab": {},
        "outputId": "c5975585-7649-4991-a171-a2720d2931b5"
      },
      "source": [
        "t1 = np.arange(6).reshape(2, 3)\n",
        "print(t1)\n",
        "t2 = np.arange(10, 12).reshape(2, 1)\n",
        "print(t2)\n",
        "np.hstack([t1, t2])"
      ],
      "execution_count": 0,
      "outputs": [
        {
          "output_type": "stream",
          "text": [
            "[[0 1 2]\n",
            " [3 4 5]]\n",
            "[[10]\n",
            " [11]]\n"
          ],
          "name": "stdout"
        },
        {
          "output_type": "execute_result",
          "data": {
            "text/plain": [
              "array([[ 0,  1,  2, 10],\n",
              "       [ 3,  4,  5, 11]])"
            ]
          },
          "metadata": {
            "tags": []
          },
          "execution_count": 105
        }
      ]
    },
    {
      "cell_type": "code",
      "metadata": {
        "id": "AwoIZBBSwWlR",
        "colab_type": "code",
        "colab": {},
        "outputId": "55b0afd1-e779-4383-d79f-73e92a13cf08"
      },
      "source": [
        "np.concatenate([t1, t2], axis = 1)"
      ],
      "execution_count": 0,
      "outputs": [
        {
          "output_type": "execute_result",
          "data": {
            "text/plain": [
              "array([[ 0,  1,  2, 10],\n",
              "       [ 3,  4,  5, 11]])"
            ]
          },
          "metadata": {
            "tags": []
          },
          "execution_count": 108
        }
      ]
    },
    {
      "cell_type": "code",
      "metadata": {
        "id": "TorW8PYSwWlV",
        "colab_type": "code",
        "colab": {}
      },
      "source": [
        ""
      ],
      "execution_count": 0,
      "outputs": []
    }
  ]
}