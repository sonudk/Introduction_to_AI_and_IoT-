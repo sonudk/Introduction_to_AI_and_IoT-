{
  "nbformat": 4,
  "nbformat_minor": 0,
  "metadata": {
    "colab": {
      "name": "week2_data_visualization.ipynb",
      "version": "0.3.2",
      "provenance": [],
      "include_colab_link": true
    },
    "kernelspec": {
      "name": "python3",
      "display_name": "Python 3"
    },
    "accelerator": "GPU"
  },
  "cells": [
    {
      "cell_type": "markdown",
      "metadata": {
        "id": "view-in-github",
        "colab_type": "text"
      },
      "source": [
        "<a href=\"https://colab.research.google.com/github/sonudk/Introduction_to_AI_and_IoT-/blob/master/week2_data_visualization.ipynb\" target=\"_parent\"><img src=\"https://colab.research.google.com/assets/colab-badge.svg\" alt=\"Open In Colab\"/></a>"
      ]
    },
    {
      "cell_type": "code",
      "metadata": {
        "id": "3LReCqY6I6IW",
        "colab_type": "code",
        "colab": {}
      },
      "source": [
        "import numpy as np\n",
        "import pandas as pd\n",
        "import matplotlib.pyplot as plt"
      ],
      "execution_count": 0,
      "outputs": []
    },
    {
      "cell_type": "code",
      "metadata": {
        "id": "v0B7kYJuLrkT",
        "colab_type": "code",
        "colab": {}
      },
      "source": [
        "data = pd.read_excel('Germany.xlsx',skiprows = range(20))"
      ],
      "execution_count": 0,
      "outputs": []
    },
    {
      "cell_type": "code",
      "metadata": {
        "id": "UqlqQVtsMAsy",
        "colab_type": "code",
        "colab": {
          "base_uri": "https://localhost:8080/",
          "height": 317
        },
        "outputId": "d0cbe91b-5288-4823-cadc-59fa0803ff3d"
      },
      "source": [
        "data.describe()"
      ],
      "execution_count": 7,
      "outputs": [
        {
          "output_type": "execute_result",
          "data": {
            "text/html": [
              "<div>\n",
              "<style scoped>\n",
              "    .dataframe tbody tr th:only-of-type {\n",
              "        vertical-align: middle;\n",
              "    }\n",
              "\n",
              "    .dataframe tbody tr th {\n",
              "        vertical-align: top;\n",
              "    }\n",
              "\n",
              "    .dataframe thead th {\n",
              "        text-align: right;\n",
              "    }\n",
              "</style>\n",
              "<table border=\"1\" class=\"dataframe\">\n",
              "  <thead>\n",
              "    <tr style=\"text-align: right;\">\n",
              "      <th></th>\n",
              "      <th>1998</th>\n",
              "      <th>2000</th>\n",
              "      <th>2002</th>\n",
              "      <th>2004</th>\n",
              "      <th>2005</th>\n",
              "      <th>2006</th>\n",
              "      <th>2007</th>\n",
              "      <th>2008</th>\n",
              "      <th>2013</th>\n",
              "    </tr>\n",
              "  </thead>\n",
              "  <tbody>\n",
              "    <tr>\n",
              "      <th>count</th>\n",
              "      <td>56.000000</td>\n",
              "      <td>56.000000</td>\n",
              "      <td>56.000000</td>\n",
              "      <td>56.000000</td>\n",
              "      <td>56.000000</td>\n",
              "      <td>56.000000</td>\n",
              "      <td>56.000000</td>\n",
              "      <td>56.000000</td>\n",
              "      <td>0.0</td>\n",
              "    </tr>\n",
              "    <tr>\n",
              "      <th>mean</th>\n",
              "      <td>50920.696429</td>\n",
              "      <td>49390.142857</td>\n",
              "      <td>48754.660714</td>\n",
              "      <td>48759.303571</td>\n",
              "      <td>44763.017857</td>\n",
              "      <td>43647.357143</td>\n",
              "      <td>45028.910714</td>\n",
              "      <td>48913.392857</td>\n",
              "      <td>NaN</td>\n",
              "    </tr>\n",
              "    <tr>\n",
              "      <th>std</th>\n",
              "      <td>92547.836018</td>\n",
              "      <td>90806.738718</td>\n",
              "      <td>92218.165055</td>\n",
              "      <td>93263.844181</td>\n",
              "      <td>88871.705787</td>\n",
              "      <td>86822.022579</td>\n",
              "      <td>93311.903291</td>\n",
              "      <td>100595.180727</td>\n",
              "      <td>NaN</td>\n",
              "    </tr>\n",
              "    <tr>\n",
              "      <th>min</th>\n",
              "      <td>31.000000</td>\n",
              "      <td>21.000000</td>\n",
              "      <td>15.000000</td>\n",
              "      <td>8.000000</td>\n",
              "      <td>12.000000</td>\n",
              "      <td>8.000000</td>\n",
              "      <td>14.000000</td>\n",
              "      <td>19.000000</td>\n",
              "      <td>NaN</td>\n",
              "    </tr>\n",
              "    <tr>\n",
              "      <th>25%</th>\n",
              "      <td>3746.750000</td>\n",
              "      <td>3489.000000</td>\n",
              "      <td>3824.750000</td>\n",
              "      <td>3556.750000</td>\n",
              "      <td>3223.500000</td>\n",
              "      <td>3231.750000</td>\n",
              "      <td>3255.500000</td>\n",
              "      <td>4037.750000</td>\n",
              "      <td>NaN</td>\n",
              "    </tr>\n",
              "    <tr>\n",
              "      <th>50%</th>\n",
              "      <td>12929.000000</td>\n",
              "      <td>13212.000000</td>\n",
              "      <td>12453.000000</td>\n",
              "      <td>14670.500000</td>\n",
              "      <td>14963.000000</td>\n",
              "      <td>13676.500000</td>\n",
              "      <td>13324.500000</td>\n",
              "      <td>13645.000000</td>\n",
              "      <td>NaN</td>\n",
              "    </tr>\n",
              "    <tr>\n",
              "      <th>75%</th>\n",
              "      <td>59698.000000</td>\n",
              "      <td>55107.250000</td>\n",
              "      <td>52129.000000</td>\n",
              "      <td>42373.000000</td>\n",
              "      <td>35415.500000</td>\n",
              "      <td>35564.500000</td>\n",
              "      <td>33032.000000</td>\n",
              "      <td>36454.250000</td>\n",
              "      <td>NaN</td>\n",
              "    </tr>\n",
              "    <tr>\n",
              "      <th>max</th>\n",
              "      <td>460850.000000</td>\n",
              "      <td>482213.000000</td>\n",
              "      <td>482279.000000</td>\n",
              "      <td>466783.000000</td>\n",
              "      <td>456692.000000</td>\n",
              "      <td>436944.000000</td>\n",
              "      <td>470430.000000</td>\n",
              "      <td>504432.000000</td>\n",
              "      <td>NaN</td>\n",
              "    </tr>\n",
              "  </tbody>\n",
              "</table>\n",
              "</div>"
            ],
            "text/plain": [
              "                1998           2000  ...           2008  2013\n",
              "count      56.000000      56.000000  ...      56.000000   0.0\n",
              "mean    50920.696429   49390.142857  ...   48913.392857   NaN\n",
              "std     92547.836018   90806.738718  ...  100595.180727   NaN\n",
              "min        31.000000      21.000000  ...      19.000000   NaN\n",
              "25%      3746.750000    3489.000000  ...    4037.750000   NaN\n",
              "50%     12929.000000   13212.000000  ...   13645.000000   NaN\n",
              "75%     59698.000000   55107.250000  ...   36454.250000   NaN\n",
              "max    460850.000000  482213.000000  ...  504432.000000   NaN\n",
              "\n",
              "[8 rows x 9 columns]"
            ]
          },
          "metadata": {
            "tags": []
          },
          "execution_count": 7
        }
      ]
    },
    {
      "cell_type": "code",
      "metadata": {
        "id": "UATm4cMOMB9_",
        "colab_type": "code",
        "colab": {}
      },
      "source": [
        "data.shape"
      ],
      "execution_count": 0,
      "outputs": []
    },
    {
      "cell_type": "code",
      "metadata": {
        "id": "fR2WTlWrMxO_",
        "colab_type": "code",
        "colab": {}
      },
      "source": [
        "data"
      ],
      "execution_count": 0,
      "outputs": []
    },
    {
      "cell_type": "code",
      "metadata": {
        "id": "MrFe5usgNPk-",
        "colab_type": "code",
        "colab": {}
      },
      "source": [
        "data.index"
      ],
      "execution_count": 0,
      "outputs": []
    },
    {
      "cell_type": "code",
      "metadata": {
        "id": "nM_HAbtaNTt2",
        "colab_type": "code",
        "colab": {}
      },
      "source": [
        "data.columns"
      ],
      "execution_count": 0,
      "outputs": []
    },
    {
      "cell_type": "code",
      "metadata": {
        "id": "ve_Ot_4cNV_m",
        "colab_type": "code",
        "colab": {}
      },
      "source": [
        "data.drop(['Type','Coverage',2013],axis =1,inplace= True)"
      ],
      "execution_count": 0,
      "outputs": []
    },
    {
      "cell_type": "code",
      "metadata": {
        "id": "spHVtJ-WNmG-",
        "colab_type": "code",
        "colab": {}
      },
      "source": [
        "data.shape"
      ],
      "execution_count": 0,
      "outputs": []
    },
    {
      "cell_type": "code",
      "metadata": {
        "id": "fdqgtdDiN0Rt",
        "colab_type": "code",
        "colab": {}
      },
      "source": [
        "years = list(map(str,range(1980,2013)))"
      ],
      "execution_count": 0,
      "outputs": []
    },
    {
      "cell_type": "code",
      "metadata": {
        "id": "EkT4GU1-OCI2",
        "colab_type": "code",
        "colab": {}
      },
      "source": [
        "years"
      ],
      "execution_count": 0,
      "outputs": []
    },
    {
      "cell_type": "code",
      "metadata": {
        "id": "Q3Y0roNzODWm",
        "colab_type": "code",
        "colab": {}
      },
      "source": [
        "'''India = data['Southern Asia',years]\n",
        "India.plot()'''"
      ],
      "execution_count": 0,
      "outputs": []
    },
    {
      "cell_type": "code",
      "metadata": {
        "id": "IR_FZ5dyO6Ri",
        "colab_type": "code",
        "colab": {}
      },
      "source": [
        "data.columns"
      ],
      "execution_count": 0,
      "outputs": []
    },
    {
      "cell_type": "code",
      "metadata": {
        "id": "93jqq67XPCVe",
        "colab_type": "code",
        "colab": {}
      },
      "source": [
        "data.rename(columns={'AreaName':'Continent','RegName':'Region'},inplace = True)"
      ],
      "execution_count": 0,
      "outputs": []
    },
    {
      "cell_type": "code",
      "metadata": {
        "id": "MtzSGZdGPRh-",
        "colab_type": "code",
        "colab": {}
      },
      "source": [
        "data.columns"
      ],
      "execution_count": 0,
      "outputs": []
    },
    {
      "cell_type": "code",
      "metadata": {
        "id": "AUixi7UMPcim",
        "colab_type": "code",
        "colab": {}
      },
      "source": [
        "data.columns = list(map(str,data.columns))"
      ],
      "execution_count": 0,
      "outputs": []
    },
    {
      "cell_type": "code",
      "metadata": {
        "id": "MnkzQVcqQAyf",
        "colab_type": "code",
        "colab": {}
      },
      "source": [
        "data1 = data.set_index('Region')"
      ],
      "execution_count": 0,
      "outputs": []
    },
    {
      "cell_type": "code",
      "metadata": {
        "id": "J9LGhGxIQ3j-",
        "colab_type": "code",
        "colab": {}
      },
      "source": [
        "data1"
      ],
      "execution_count": 0,
      "outputs": []
    },
    {
      "cell_type": "code",
      "metadata": {
        "id": "tlXGNYSIQ9ji",
        "colab_type": "code",
        "colab": {}
      },
      "source": [
        "data['Total'] = data.sum(axis =1)"
      ],
      "execution_count": 0,
      "outputs": []
    },
    {
      "cell_type": "code",
      "metadata": {
        "id": "RhBy2StWRJk2",
        "colab_type": "code",
        "colab": {}
      },
      "source": [
        "data['Total']"
      ],
      "execution_count": 0,
      "outputs": []
    },
    {
      "cell_type": "code",
      "metadata": {
        "id": "7mf6_U-lRQtm",
        "colab_type": "code",
        "colab": {}
      },
      "source": [
        "data.shape"
      ],
      "execution_count": 0,
      "outputs": []
    },
    {
      "cell_type": "code",
      "metadata": {
        "id": "7sIhyEwyRSj2",
        "colab_type": "code",
        "colab": {}
      },
      "source": [
        "#Area Plot\n",
        "ax =data.loc['Polynesia',years]\n",
        "ax.plot()"
      ],
      "execution_count": 0,
      "outputs": []
    },
    {
      "cell_type": "code",
      "metadata": {
        "id": "QT5GeMW2Snjg",
        "colab_type": "code",
        "colab": {}
      },
      "source": [
        ""
      ],
      "execution_count": 0,
      "outputs": []
    }
  ]
}