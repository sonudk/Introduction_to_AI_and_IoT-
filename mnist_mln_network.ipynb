{
  "nbformat": 4,
  "nbformat_minor": 0,
  "metadata": {
    "colab": {
      "name": "mnist_mln_network.ipynb",
      "version": "0.3.2",
      "provenance": [],
      "collapsed_sections": [],
      "include_colab_link": true
    },
    "language_info": {
      "codemirror_mode": {
        "name": "ipython",
        "version": 3
      },
      "file_extension": ".py",
      "mimetype": "text/x-python",
      "name": "python",
      "nbconvert_exporter": "python",
      "pygments_lexer": "ipython3",
      "version": "3.7.1"
    },
    "kernelspec": {
      "display_name": "Python 3",
      "language": "python",
      "name": "python3"
    }
  },
  "cells": [
    {
      "cell_type": "markdown",
      "metadata": {
        "id": "view-in-github",
        "colab_type": "text"
      },
      "source": [
        "<a href=\"https://colab.research.google.com/github/sonudk/Introduction_to_AI_and_IoT-/blob/master/mnist_mln_network.ipynb\" target=\"_parent\"><img src=\"https://colab.research.google.com/assets/colab-badge.svg\" alt=\"Open In Colab\"/></a>"
      ]
    },
    {
      "cell_type": "markdown",
      "metadata": {
        "id": "MvErumT0n0_-",
        "colab_type": "text"
      },
      "source": [
        "# Classification of handwritten digits using MLN\n",
        "## Prof. Laxmidhar Behera\n",
        "### IIT Kanpur"
      ]
    },
    {
      "cell_type": "markdown",
      "metadata": {
        "id": "zh0uH8bDn1AE",
        "colab_type": "text"
      },
      "source": [
        "# MNIST Dataset\n",
        "\n",
        "<img src=\"https://upload.wikimedia.org/wikipedia/commons/2/27/MnistExamples.png\" title=\"MNIST dataset\" align=\"center\"/>\n",
        "\n"
      ]
    },
    {
      "cell_type": "markdown",
      "metadata": {
        "id": "1K6Im4RYn1AK",
        "colab_type": "text"
      },
      "source": [
        "# Problem\n",
        "Classify handwritten digits from 0 - 9. <br>\n",
        "Each image is 28x28 pixels\n",
        "\n",
        "<img src=\"https://corochann.com/wp-content/uploads/2017/02/mnist_plot.png\" title=\"\" align=\"center\"/>\n"
      ]
    },
    {
      "cell_type": "markdown",
      "metadata": {
        "id": "EVex4puqn1AO",
        "colab_type": "text"
      },
      "source": [
        "# Understanding the data"
      ]
    },
    {
      "cell_type": "code",
      "metadata": {
        "id": "alqmfbOIn1AR",
        "colab_type": "code",
        "colab": {}
      },
      "source": [
        "# MNIST data is present in the keras library. You may load it from there\n",
        "import tensorflow as tf\n",
        "from tensorflow.keras.datasets import mnist\n",
        "(train_samples, train_labels), (test_samples, test_labels) = mnist.load_data()\n",
        "# Training samples "
      ],
      "execution_count": 0,
      "outputs": []
    },
    {
      "cell_type": "markdown",
      "metadata": {
        "id": "3CNRCPbrn1Ae",
        "colab_type": "text"
      },
      "source": [
        "### Shape of Data"
      ]
    },
    {
      "cell_type": "code",
      "metadata": {
        "id": "_pAn6o3Vn1Ag",
        "colab_type": "code",
        "outputId": "9829a707-911d-4ff5-aeb4-df2317818b4a",
        "colab": {}
      },
      "source": [
        "print(train_samples.shape)\n",
        "print(train_labels.shape)\n",
        "print(test_samples.shape)\n",
        "print(test_labels.shape)"
      ],
      "execution_count": 0,
      "outputs": [
        {
          "output_type": "stream",
          "text": [
            "(60000, 28, 28)\n",
            "(60000,)\n",
            "(10000, 28, 28)\n",
            "(10000,)\n"
          ],
          "name": "stdout"
        }
      ]
    },
    {
      "cell_type": "markdown",
      "metadata": {
        "id": "ubf7aJPIn1Ax",
        "colab_type": "text"
      },
      "source": [
        "### Range of Values"
      ]
    },
    {
      "cell_type": "code",
      "metadata": {
        "id": "-jiF1J8Jn1A0",
        "colab_type": "code",
        "outputId": "7bc0aa9e-a2e0-448d-fbc2-5af6c4b26947",
        "colab": {}
      },
      "source": [
        "import numpy as np\n",
        "np.amax(train_samples) # Max value"
      ],
      "execution_count": 0,
      "outputs": [
        {
          "output_type": "execute_result",
          "data": {
            "text/plain": [
              "255"
            ]
          },
          "metadata": {
            "tags": []
          },
          "execution_count": 21
        }
      ]
    },
    {
      "cell_type": "code",
      "metadata": {
        "id": "Mu18byDmn1A-",
        "colab_type": "code",
        "outputId": "e1c3a70e-fd7c-4af2-db98-e18090baa65d",
        "colab": {}
      },
      "source": [
        "np.amin(train_samples) # Min Value"
      ],
      "execution_count": 0,
      "outputs": [
        {
          "output_type": "execute_result",
          "data": {
            "text/plain": [
              "0"
            ]
          },
          "metadata": {
            "tags": []
          },
          "execution_count": 22
        }
      ]
    },
    {
      "cell_type": "code",
      "metadata": {
        "id": "_OkrzUFQn1BI",
        "colab_type": "code",
        "outputId": "cc8ba97b-33d5-4b7a-8d7d-486f6f8ab144",
        "colab": {}
      },
      "source": [
        "%matplotlib inline\n",
        "import matplotlib.pyplot as plt\n",
        "\n",
        "pixels = train_samples[0] # Shape (28, 28)\n",
        "plt.imshow(pixels, cmap='gray')\n",
        "plt.show()\n",
        "print('Label of image is', train_labels[0])"
      ],
      "execution_count": 0,
      "outputs": [
        {
          "output_type": "display_data",
          "data": {
            "image/png": "[encoded data removed]",
            "text/plain": [
              "<Figure size 432x288 with 1 Axes>"
            ]
          },
          "metadata": {
            "tags": [],
            "needs_background": "light"
          }
        },
        {
          "output_type": "stream",
          "text": [
            "Label of image is 5\n"
          ],
          "name": "stdout"
        }
      ]
    },
    {
      "cell_type": "markdown",
      "metadata": {
        "id": "N6JiZgztn1BP",
        "colab_type": "text"
      },
      "source": [
        "# Data Preparation"
      ]
    },
    {
      "cell_type": "markdown",
      "metadata": {
        "id": "7hUHie4_n1BQ",
        "colab_type": "text"
      },
      "source": [
        "### Normalize inputs to (0, 1)"
      ]
    },
    {
      "cell_type": "code",
      "metadata": {
        "id": "iGKZASBBn1BS",
        "colab_type": "code",
        "colab": {}
      },
      "source": [
        "# Convert data type from uint8 to float32\n",
        "train_samples = train_samples.astype('float32')\n",
        "test_samples = test_samples.astype('float32')"
      ],
      "execution_count": 0,
      "outputs": []
    },
    {
      "cell_type": "code",
      "metadata": {
        "id": "gbaIejYPn1BX",
        "colab_type": "code",
        "outputId": "73edcc0c-f518-402b-d2da-d794bd65ba09",
        "colab": {}
      },
      "source": [
        "# Normalize inputs to (0,1)\n",
        "train_samples = train_samples/255.\n",
        "test_samples = test_samples/255.\n",
        "np.amax(train_samples) # max value has become 1.0"
      ],
      "execution_count": 0,
      "outputs": [
        {
          "output_type": "execute_result",
          "data": {
            "text/plain": [
              "1.0"
            ]
          },
          "metadata": {
            "tags": []
          },
          "execution_count": 25
        }
      ]
    },
    {
      "cell_type": "code",
      "metadata": {
        "id": "0klvh6HMn1Be",
        "colab_type": "code",
        "colab": {}
      },
      "source": [
        "## Reshape input to be a column vector\n",
        "train_samples = train_samples.reshape(train_samples.shape[0], 28*28)\n",
        "test_samples = test_samples.reshape(test_samples.shape[0], 28*28)"
      ],
      "execution_count": 0,
      "outputs": []
    },
    {
      "cell_type": "markdown",
      "metadata": {
        "id": "jzvfaeh9n1Bj",
        "colab_type": "text"
      },
      "source": [
        "### Convert outputs to 1-hot vectors\n",
        "\\begin{equation*}\n",
        "Eg: 5 \\rightarrow [0, 0, 0, 0, 0, 1, 0, 0, 0, 0]\n",
        "\\end{equation*}"
      ]
    },
    {
      "cell_type": "code",
      "metadata": {
        "id": "kCxrh0-nn1Bl",
        "colab_type": "code",
        "outputId": "e6f8128e-03f5-462d-9e37-f381fb3ed88e",
        "colab": {}
      },
      "source": [
        "# keras has a utility function for this\n",
        "from tensorflow.keras.utils import to_categorical\n",
        "train_labels = to_categorical(train_labels)\n",
        "test_labels = to_categorical(test_labels)\n",
        "# example\n",
        "train_labels[0] # label = 5"
      ],
      "execution_count": 0,
      "outputs": [
        {
          "output_type": "execute_result",
          "data": {
            "text/plain": [
              "array([0., 0., 0., 0., 0., 1., 0., 0., 0., 0.], dtype=float32)"
            ]
          },
          "metadata": {
            "tags": []
          },
          "execution_count": 27
        }
      ]
    },
    {
      "cell_type": "markdown",
      "metadata": {
        "id": "2_Pt8JB8n1Bq",
        "colab_type": "text"
      },
      "source": [
        "# Network Architecture\n",
        "\n",
        "<img src=\"https://drive.google.com/uc?id=1m2jgscTgKlvtzj757I9YMJE2sqNXmMMy\" title=\"\" align=\"center\" width=\"50%\" height=\"50%\"/>"
      ]
    },
    {
      "cell_type": "markdown",
      "metadata": {
        "id": "aceZEJRzn1Bs",
        "colab_type": "text"
      },
      "source": [
        "### Softmax Activation Function\n",
        "In the Dense (Fully Connected) layer, we use a softmax activation function\n",
        "\\begin{align}\n",
        "\\sigma(x_j) = \\frac{e^{x_j}}{\\sum_{i}e^{x_i}}\n",
        "\\end{align}\n",
        "\n",
        " The softmax function is a function that takes as input a vector of K real numbers, and normalizes it into a probability distribution consisting of K probabilities"
      ]
    },
    {
      "cell_type": "code",
      "metadata": {
        "id": "amqRJpZun1Bt",
        "colab_type": "code",
        "colab": {}
      },
      "source": [
        "# Layer definitions\n",
        "from tensorflow.keras.layers import Input, Dense\n",
        "\n",
        "input_layer = Input(shape = train_samples.shape[1:])\n",
        "hidden_layer = Dense(512, activation = 'sigmoid',)(input_layer)\n",
        "output_layer = Dense(10, activation = 'softmax')(hidden_layer)\n",
        "\n"
      ],
      "execution_count": 0,
      "outputs": []
    },
    {
      "cell_type": "markdown",
      "metadata": {
        "id": "VBVFR5ran1By",
        "colab_type": "text"
      },
      "source": [
        "Loss is Categorical Crossentropy\n",
        "\n",
        "\\begin{align}\n",
        "L(t,p) = -\\sum_{x}t(x)log(p(x))\n",
        "\\end{align}\n",
        "\n",
        "where  𝑥  ranges over the elements of the output vector\n",
        "\n",
        "\\begin{align}\n",
        "t \\rightarrow \\text{true probability distribution} \\\\\n",
        "p \\rightarrow \\text{predicted probability distribution}\n",
        "\\end{align}\n",
        "In our case, $t$ is always a delta function. \n",
        "For eg., for label = 5,<br>\n",
        "$t(x) = 1$ if $x = 5$ and 0 otherwise"
      ]
    },
    {
      "cell_type": "markdown",
      "metadata": {
        "id": "PiZKWdx5n1B0",
        "colab_type": "text"
      },
      "source": [
        "Weight update Rule\n",
        "\n",
        "\\begin{align}\n",
        "W' \\leftarrow W - \\eta\\frac{\\partial L}{\\partial W}\n",
        "\\end{align}"
      ]
    },
    {
      "cell_type": "code",
      "metadata": {
        "scrolled": true,
        "id": "iN6BITwtn1B1",
        "colab_type": "code",
        "outputId": "04a5b845-335d-459d-e3d2-2c70d6129f47",
        "colab": {}
      },
      "source": [
        "# Model definition\n",
        "from tensorflow.keras.models import Model\n",
        "from tensorflow.keras import optimizers\n",
        "model = Model(inputs=[input_layer], outputs=[output_layer])\n",
        "model.compile(optimizer=optimizers.Adam(lr=0.001), loss='categorical_crossentropy', metrics=['accuracy'])\n",
        "model.summary()"
      ],
      "execution_count": 0,
      "outputs": [
        {
          "output_type": "stream",
          "text": [
            "_________________________________________________________________\n",
            "Layer (type)                 Output Shape              Param #   \n",
            "=================================================================\n",
            "input_2 (InputLayer)         (None, 784)               0         \n",
            "_________________________________________________________________\n",
            "dense_2 (Dense)              (None, 512)               401920    \n",
            "_________________________________________________________________\n",
            "dense_3 (Dense)              (None, 10)                5130      \n",
            "=================================================================\n",
            "Total params: 407,050\n",
            "Trainable params: 407,050\n",
            "Non-trainable params: 0\n",
            "_________________________________________________________________\n"
          ],
          "name": "stdout"
        }
      ]
    },
    {
      "cell_type": "code",
      "metadata": {
        "scrolled": true,
        "id": "u-2Sfsxtn1B7",
        "colab_type": "code",
        "outputId": "02c22eb1-c941-40f3-b079-5ae60edd263a",
        "colab": {}
      },
      "source": [
        "history = model.fit(train_samples, train_labels, validation_split = 0.1, epochs=3, batch_size=200)\n",
        "# Use 10% of samples for validation, validation_split is the relevant parameter\n"
      ],
      "execution_count": 0,
      "outputs": [
        {
          "output_type": "stream",
          "text": [
            "Train on 54000 samples, validate on 6000 samples\n",
            "Epoch 1/3\n",
            "54000/54000 [==============================] - 3s 56us/sample - loss: 0.5356 - acc: 0.8618 - val_loss: 0.2593 - val_acc: 0.9267\n",
            "Epoch 2/3\n",
            "54000/54000 [==============================] - 2s 44us/sample - loss: 0.2842 - acc: 0.9190 - val_loss: 0.2048 - val_acc: 0.9408\n",
            "Epoch 3/3\n",
            "54000/54000 [==============================] - 2s 45us/sample - loss: 0.2362 - acc: 0.9325 - val_loss: 0.1743 - val_acc: 0.9530\n"
          ],
          "name": "stdout"
        }
      ]
    },
    {
      "cell_type": "code",
      "metadata": {
        "id": "B12vN44Ln1CF",
        "colab_type": "code",
        "outputId": "d4ca7fa2-b248-4fc4-9083-74d46807165e",
        "colab": {}
      },
      "source": [
        "from sklearn.metrics import confusion_matrix\n",
        "loss, accuracy = model.evaluate(test_samples, test_labels,verbose=0)  # Evaluate the model\n",
        "print('Accuracy :%0.3f'%accuracy)\n",
        "\n",
        "pred_labels = model.predict(test_samples)\n",
        "cm = confusion_matrix(test_labels.argmax(axis=1), pred_labels.argmax(axis=1))\n",
        "print(cm )\n",
        "\n"
      ],
      "execution_count": 0,
      "outputs": [
        {
          "output_type": "stream",
          "text": [
            "Accuracy :0.940\n",
            "[[ 968    0    2    2    0    3    2    2    1    0]\n",
            " [   0 1112    3    2    1    1    4    2   10    0]\n",
            " [   9    1  966   12    8    0    7    8   19    2]\n",
            " [   2    1   17  943    0    9    1   11   17    9]\n",
            " [   2    2   10    0  918    0    6    5    5   34]\n",
            " [   9    2    4   34    5  793    8    5   25    7]\n",
            " [  14    3   12    1    6   13  903    3    3    0]\n",
            " [   1    7   22    6    3    1    0  962    2   24]\n",
            " [   6    4    7   16    8   11    9    8  901    4]\n",
            " [  11    6    1   12   18    4    0   13    6  938]]\n"
          ],
          "name": "stdout"
        }
      ]
    },
    {
      "cell_type": "code",
      "metadata": {
        "id": "DySmpDX7n1CY",
        "colab_type": "code",
        "colab": {}
      },
      "source": [
        ""
      ],
      "execution_count": 0,
      "outputs": []
    }
  ]
}