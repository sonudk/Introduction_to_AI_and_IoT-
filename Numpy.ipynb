{
  "nbformat": 4,
  "nbformat_minor": 0,
  "metadata": {
    "colab": {
      "name": "Numpy.ipynb",
      "version": "0.3.2",
      "provenance": [],
      "include_colab_link": true
    },
    "language_info": {
      "codemirror_mode": {
        "name": "ipython",
        "version": 3
      },
      "file_extension": ".py",
      "mimetype": "text/x-python",
      "name": "python",
      "nbconvert_exporter": "python",
      "pygments_lexer": "ipython3",
      "version": "3.7.3"
    },
    "kernelspec": {
      "display_name": "Python 3",
      "language": "python",
      "name": "python3"
    }
  },
  "cells": [
    {
      "cell_type": "markdown",
      "metadata": {
        "id": "view-in-github",
        "colab_type": "text"
      },
      "source": [
        "<a href=\"https://colab.research.google.com/github/sonudk/Introduction_to_AI_and_IoT-/blob/master/Numpy.ipynb\" target=\"_parent\"><img src=\"https://colab.research.google.com/assets/colab-badge.svg\" alt=\"Open In Colab\"/></a>"
      ]
    },
    {
      "cell_type": "code",
      "metadata": {
        "id": "J8_MWVAuxxlG",
        "colab_type": "code",
        "colab": {}
      },
      "source": [
        "import numpy as np"
      ],
      "execution_count": 0,
      "outputs": []
    },
    {
      "cell_type": "markdown",
      "metadata": {
        "id": "59mRDHbkxxlK",
        "colab_type": "text"
      },
      "source": [
        "### Numpy arrays"
      ]
    },
    {
      "cell_type": "code",
      "metadata": {
        "id": "6QesueeYxxlL",
        "colab_type": "code",
        "colab": {},
        "outputId": "19976da7-65a5-4296-ca95-59cb48d4086c"
      },
      "source": [
        "l = [1, 2, 3, 4, 5]\n",
        "print(type(l))\n",
        "l_a = np.array(l)\n",
        "print(l_a, 'Type of l_a is ', type(l_a))"
      ],
      "execution_count": 0,
      "outputs": [
        {
          "output_type": "stream",
          "text": [
            "<class 'list'>\n",
            "[1 2 3 4 5] Type of l_a is  <class 'numpy.ndarray'>\n"
          ],
          "name": "stdout"
        }
      ]
    },
    {
      "cell_type": "code",
      "metadata": {
        "id": "_HRD6otbxxlQ",
        "colab_type": "code",
        "colab": {},
        "outputId": "69333a27-a4ef-4282-b110-3d860a76f800"
      },
      "source": [
        "l_a = l_a + 10\n",
        "print(l_a)"
      ],
      "execution_count": 0,
      "outputs": [
        {
          "output_type": "stream",
          "text": [
            "[11 12 13 14 15]\n"
          ],
          "name": "stdout"
        }
      ]
    },
    {
      "cell_type": "code",
      "metadata": {
        "id": "TYADBIDCxxlU",
        "colab_type": "code",
        "colab": {},
        "outputId": "b27c43cc-6f2e-44db-d600-18f921a61260"
      },
      "source": [
        "l = [[1, 2, 3], [4, 5, 6]]\n",
        "l_a = np.array(l)\n",
        "print(l_a)"
      ],
      "execution_count": 0,
      "outputs": [
        {
          "output_type": "stream",
          "text": [
            "[[1 2 3]\n",
            " [4 5 6]]\n"
          ],
          "name": "stdout"
        }
      ]
    },
    {
      "cell_type": "code",
      "metadata": {
        "id": "vZdKU2l0xxlX",
        "colab_type": "code",
        "colab": {}
      },
      "source": [
        "## 2x2x2"
      ],
      "execution_count": 0,
      "outputs": []
    },
    {
      "cell_type": "code",
      "metadata": {
        "scrolled": true,
        "id": "UadV0BC_xxlZ",
        "colab_type": "code",
        "colab": {},
        "outputId": "12b72297-87af-4007-e215-38a022545574"
      },
      "source": [
        "l_a.shape"
      ],
      "execution_count": 0,
      "outputs": [
        {
          "output_type": "execute_result",
          "data": {
            "text/plain": [
              "(2, 3)"
            ]
          },
          "metadata": {
            "tags": []
          },
          "execution_count": 11
        }
      ]
    },
    {
      "cell_type": "code",
      "metadata": {
        "id": "hF8W2Sroxxle",
        "colab_type": "code",
        "colab": {}
      },
      "source": [
        "l = [[[1, 2, 3], [5, 6, 7], [9, 10, 11]], [[1, 2, 3], [5, 6, 7], [9, 10, 11]]]"
      ],
      "execution_count": 0,
      "outputs": []
    },
    {
      "cell_type": "code",
      "metadata": {
        "id": "TxtAXpMRxxlh",
        "colab_type": "code",
        "colab": {}
      },
      "source": [
        "l_a = np.array(l)"
      ],
      "execution_count": 0,
      "outputs": []
    },
    {
      "cell_type": "code",
      "metadata": {
        "id": "mVgkv3mhxxlq",
        "colab_type": "code",
        "colab": {},
        "outputId": "3333c8c2-5ea4-4bd3-933d-88ae8d0626cd"
      },
      "source": [
        "l_a.shape  #(2, 3, 3) # (2, ) #"
      ],
      "execution_count": 0,
      "outputs": [
        {
          "output_type": "execute_result",
          "data": {
            "text/plain": [
              "(2, 3, 3)"
            ]
          },
          "metadata": {
            "tags": []
          },
          "execution_count": 21
        }
      ]
    },
    {
      "cell_type": "code",
      "metadata": {
        "id": "zZrvia6pxxly",
        "colab_type": "code",
        "colab": {},
        "outputId": "ef88ad45-0569-4d13-df9d-73f048fe4c3f"
      },
      "source": [
        "print(l_a)"
      ],
      "execution_count": 0,
      "outputs": [
        {
          "output_type": "stream",
          "text": [
            "[[[ 1  2  3]\n",
            "  [ 5  6  7]\n",
            "  [ 9 10 11]]\n",
            "\n",
            " [[ 1  2  3]\n",
            "  [ 5  6  7]\n",
            "  [ 9 10 11]]]\n"
          ],
          "name": "stdout"
        }
      ]
    },
    {
      "cell_type": "code",
      "metadata": {
        "id": "UGjNBcYwxxl3",
        "colab_type": "code",
        "colab": {},
        "outputId": "f034fe2b-31ed-4942-f3d4-b89bf843ce40"
      },
      "source": [
        "l_a.shape"
      ],
      "execution_count": 0,
      "outputs": [
        {
          "output_type": "execute_result",
          "data": {
            "text/plain": [
              "(2, 3, 3)"
            ]
          },
          "metadata": {
            "tags": []
          },
          "execution_count": 22
        }
      ]
    },
    {
      "cell_type": "code",
      "metadata": {
        "id": "sbK1tXP_xxmC",
        "colab_type": "code",
        "colab": {},
        "outputId": "9641d75d-9547-4d72-a0ee-937097e39807"
      },
      "source": [
        "l_a.size"
      ],
      "execution_count": 0,
      "outputs": [
        {
          "output_type": "execute_result",
          "data": {
            "text/plain": [
              "18"
            ]
          },
          "metadata": {
            "tags": []
          },
          "execution_count": 23
        }
      ]
    },
    {
      "cell_type": "code",
      "metadata": {
        "id": "nP-XhNUCxxmI",
        "colab_type": "code",
        "colab": {},
        "outputId": "f539d73c-20a8-48db-a39a-68823b34a880"
      },
      "source": [
        "l_a.ndim"
      ],
      "execution_count": 0,
      "outputs": [
        {
          "output_type": "execute_result",
          "data": {
            "text/plain": [
              "3"
            ]
          },
          "metadata": {
            "tags": []
          },
          "execution_count": 24
        }
      ]
    },
    {
      "cell_type": "code",
      "metadata": {
        "id": "F4Yd35RFxxmR",
        "colab_type": "code",
        "colab": {},
        "outputId": "d5e0f4b2-3b83-4a5f-b7a1-febaf5f55db4"
      },
      "source": [
        "l_a.max()"
      ],
      "execution_count": 0,
      "outputs": [
        {
          "output_type": "execute_result",
          "data": {
            "text/plain": [
              "11"
            ]
          },
          "metadata": {
            "tags": []
          },
          "execution_count": 25
        }
      ]
    },
    {
      "cell_type": "code",
      "metadata": {
        "id": "CH5OUF6xxxmi",
        "colab_type": "code",
        "colab": {},
        "outputId": "fc379250-e11c-4eb2-8e3b-bc62937ac01e"
      },
      "source": [
        "l_a.min()"
      ],
      "execution_count": 0,
      "outputs": [
        {
          "output_type": "execute_result",
          "data": {
            "text/plain": [
              "1"
            ]
          },
          "metadata": {
            "tags": []
          },
          "execution_count": 26
        }
      ]
    },
    {
      "cell_type": "code",
      "metadata": {
        "id": "Q45SwbSQxxmn",
        "colab_type": "code",
        "colab": {},
        "outputId": "d6792ce2-3054-496c-e601-a86d277a7be4"
      },
      "source": [
        "np.mean(l_a)"
      ],
      "execution_count": 0,
      "outputs": [
        {
          "output_type": "execute_result",
          "data": {
            "text/plain": [
              "6.0"
            ]
          },
          "metadata": {
            "tags": []
          },
          "execution_count": 27
        }
      ]
    },
    {
      "cell_type": "code",
      "metadata": {
        "id": "8HIpKQaTxxmt",
        "colab_type": "code",
        "colab": {},
        "outputId": "4d8a671d-5cae-4fa4-a0d5-51fad8b8a5ed"
      },
      "source": [
        "l_a.shape"
      ],
      "execution_count": 0,
      "outputs": [
        {
          "output_type": "execute_result",
          "data": {
            "text/plain": [
              "(2, 3, 3)"
            ]
          },
          "metadata": {
            "tags": []
          },
          "execution_count": 28
        }
      ]
    },
    {
      "cell_type": "code",
      "metadata": {
        "id": "wW80vadHxxmz",
        "colab_type": "code",
        "colab": {},
        "outputId": "de3b99b4-f01e-44d5-b1e3-b744deb28042"
      },
      "source": [
        "l_a"
      ],
      "execution_count": 0,
      "outputs": [
        {
          "output_type": "execute_result",
          "data": {
            "text/plain": [
              "array([[[ 1,  2,  3],\n",
              "        [ 5,  6,  7],\n",
              "        [ 9, 10, 11]],\n",
              "\n",
              "       [[ 1,  2,  3],\n",
              "        [ 5,  6,  7],\n",
              "        [ 9, 10, 11]]])"
            ]
          },
          "metadata": {
            "tags": []
          },
          "execution_count": 35
        }
      ]
    },
    {
      "cell_type": "code",
      "metadata": {
        "id": "aKfuO61Hxxm4",
        "colab_type": "code",
        "colab": {}
      },
      "source": [
        "l = [[1, 2, 3], [1, 2, 3]]"
      ],
      "execution_count": 0,
      "outputs": []
    },
    {
      "cell_type": "code",
      "metadata": {
        "id": "Ei6hiiiNxxm7",
        "colab_type": "code",
        "colab": {},
        "outputId": "47bed606-7e6e-4645-a422-c55a57a1c638"
      },
      "source": [
        "np.array(l).astype('float').dtype"
      ],
      "execution_count": 0,
      "outputs": [
        {
          "output_type": "execute_result",
          "data": {
            "text/plain": [
              "dtype('float64')"
            ]
          },
          "metadata": {
            "tags": []
          },
          "execution_count": 46
        }
      ]
    },
    {
      "cell_type": "code",
      "metadata": {
        "id": "sUGrdbJuxxnA",
        "colab_type": "code",
        "colab": {}
      },
      "source": [
        ""
      ],
      "execution_count": 0,
      "outputs": []
    }
  ]
}