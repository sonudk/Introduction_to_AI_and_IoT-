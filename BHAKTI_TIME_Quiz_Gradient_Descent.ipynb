{
  "nbformat": 4,
  "nbformat_minor": 0,
  "metadata": {
    "colab": {
      "name": "BHAKTI TIME - Quiz_Gradient_Descent.ipynb",
      "version": "0.3.2",
      "provenance": [],
      "include_colab_link": true
    },
    "language_info": {
      "codemirror_mode": {
        "name": "ipython",
        "version": 3
      },
      "file_extension": ".py",
      "mimetype": "text/x-python",
      "name": "python",
      "nbconvert_exporter": "python",
      "pygments_lexer": "ipython3",
      "version": "3.6.8"
    },
    "kernelspec": {
      "display_name": "Python 3",
      "language": "python",
      "name": "python3"
    }
  },
  "cells": [
    {
      "cell_type": "markdown",
      "metadata": {
        "id": "view-in-github",
        "colab_type": "text"
      },
      "source": [
        "<a href=\"https://colab.research.google.com/github/sonudk/Introduction_to_AI_and_IoT-/blob/master/BHAKTI_TIME_Quiz_Gradient_Descent.ipynb\" target=\"_parent\"><img src=\"https://colab.research.google.com/assets/colab-badge.svg\" alt=\"Open In Colab\"/></a>"
      ]
    },
    {
      "cell_type": "code",
      "metadata": {
        "id": "EaMcWWUQKTwB",
        "colab_type": "code",
        "colab": {}
      },
      "source": [
        "import numpy as np"
      ],
      "execution_count": 0,
      "outputs": []
    },
    {
      "cell_type": "markdown",
      "metadata": {
        "id": "DwPsAVIxKTwF",
        "colab_type": "text"
      },
      "source": [
        "# Function Approximation with a Linear Model\n",
        "$y=f(x)=\\cos 2x$ <br>\n",
        "This function is approximated with a linear function of the form <br>\n",
        "$yhat= w_0 + w_1 sin^2x + w_2 cos^2x$ <br>\n",
        "$E = (y-yhat)^2 $ <br>\n",
        "in the range $x\\in(0,2\\pi)$ <br>\n",
        "Q. Weight Update rule for $w_1$ will be <br>\n",
        "1. $w_1 = w_1 + eta*2*(y-yhat)$ <br>\n",
        "2. $w_1 = w_1 + eta*2*(y-yhat)*sin^2x$ <br>\n",
        "3. $w_1 = w_1 + eta*2*(y-yhat)*2*sinx*cosx$ <br>\n",
        "4. $w_1 = w_1 + eta*2*(y-yhat)*A^T$ <br>\n",
        "5. $w_1 = w_1 + eta*2*(y-yhat)*x$  <br>\n",
        "Write only the option number in the solution box in the varible named ANS <br>\n",
        "For example ANS = 1\n",
        "\n"
      ]
    },
    {
      "cell_type": "code",
      "metadata": {
        "deletable": false,
        "nbgrader": {
          "checksum": "aef2f5b91bbb51381e53d64606e509c6",
          "grade": false,
          "grade_id": "cell-6f7f1a7f8a2725e3",
          "locked": false,
          "schema_version": 1,
          "solution": true
        },
        "id": "YlDDaFiXKTwG",
        "colab_type": "code",
        "colab": {}
      },
      "source": [
        "# YOUR CODE HERE"
      ],
      "execution_count": 0,
      "outputs": []
    },
    {
      "cell_type": "code",
      "metadata": {
        "deletable": false,
        "editable": false,
        "nbgrader": {
          "checksum": "fe0e77603abb69533d8027260c696920",
          "grade": true,
          "grade_id": "cell-ac86b4aa72c7ccdf",
          "locked": true,
          "points": 8,
          "schema_version": 1,
          "solution": false
        },
        "id": "zo411iH3KTwI",
        "colab_type": "code",
        "colab": {}
      },
      "source": [
        "ANS=3"
      ],
      "execution_count": 0,
      "outputs": []
    },
    {
      "cell_type": "markdown",
      "metadata": {
        "id": "k_dklDcDKTwL",
        "colab_type": "text"
      },
      "source": [
        "$y=f(x)=\\sin x$ <br>\n",
        "Approximate this function with a linear function of the form <br>\n",
        "$yhat = w_0 + w_1 x + w_2 x^2$ <br>\n",
        "in the range $x\\in(0,2\\pi)$ <br>\n",
        "$E = (y-yhat)^2 + w_0^2+ w_1^2+ w_2^2$ <br>\n",
        "Q. Weight Update rule for $w_0$ will be <br>\n",
        "1. $w_0 = w_0 + eta*2*(y-yhat)*2*w_0$ <br>\n",
        "2. $w_0 = w_ 0+ eta*2*(y-yhat)$ <br>\n",
        "3. $w_0 = w_0 + eta*2*(y-yhat)*(-1)$ <br>\n",
        "4. $ w_0 = w_0 + eta*2*(y-yhat) +2*w_0$ <br>\n",
        "5. $w_0 = w_0 + eta*2*(y-yhat)*A^T$  <br>\n",
        "Write only the option number in the solution box in the varible named ANS <br>\n",
        "For example ANS = 1\n"
      ]
    },
    {
      "cell_type": "code",
      "metadata": {
        "deletable": false,
        "nbgrader": {
          "checksum": "91bf88c4dd1b31ed2740e77dbce0bdd9",
          "grade": false,
          "grade_id": "cell-b6ac5035d2574254",
          "locked": false,
          "schema_version": 1,
          "solution": true
        },
        "id": "sL0R9C7dKTwM",
        "colab_type": "code",
        "colab": {}
      },
      "source": [
        "# YOUR CODE HERE"
      ],
      "execution_count": 0,
      "outputs": []
    },
    {
      "cell_type": "code",
      "metadata": {
        "deletable": false,
        "editable": false,
        "nbgrader": {
          "checksum": "9e146853eea0f5c04a4b81760d5610b9",
          "grade": true,
          "grade_id": "cell-c8f96e3f6bc3f0a3",
          "locked": true,
          "points": 16,
          "schema_version": 1,
          "solution": false
        },
        "id": "M9ElFIX5KTwO",
        "colab_type": "code",
        "colab": {}
      },
      "source": [
        "ANS=2"
      ],
      "execution_count": 0,
      "outputs": []
    },
    {
      "cell_type": "markdown",
      "metadata": {
        "id": "9SkSvYFLKTwP",
        "colab_type": "text"
      },
      "source": [
        "### Subtract Min\n",
        "Given a list X of ints, create a list Y where\n",
        "\\begin{align}\n",
        "    Y[i] = X[i] - X_{min}\n",
        "\\end{align}\n",
        "where $X_{min}$ is the minimum value in list X "
      ]
    },
    {
      "cell_type": "code",
      "metadata": {
        "deletable": false,
        "nbgrader": {
          "checksum": "d39ccf750e4925cb4b22a199f3e256f6",
          "grade": false,
          "grade_id": "cell-32ba22c0daa422b3",
          "locked": false,
          "schema_version": 1,
          "solution": true
        },
        "id": "iLJeaYfCKTwQ",
        "colab_type": "code",
        "colab": {}
      },
      "source": [
        "def subtract_min(X):\n",
        "    \"\"\"\n",
        "    Input:\n",
        "        X : list of ints\n",
        "    Output :\n",
        "        Y : list of ints, \n",
        "        each element of Y is the corresponding element of X subtracted by minimum value in list X\n",
        "    \"\"\"\n",
        "    # YOUR CODE HERE\n",
        "    Y=[]\n",
        "    X_min=np.min(X)\n",
        "    for i in range(len(X)):\n",
        "      Y.append(X[i]-X_min)\n",
        "    print(Y)  \n",
        "    return Y"
      ],
      "execution_count": 0,
      "outputs": []
    },
    {
      "cell_type": "code",
      "metadata": {
        "deletable": false,
        "editable": false,
        "nbgrader": {
          "checksum": "8975f259c82c8b06ac95846ae9a2c93f",
          "grade": true,
          "grade_id": "cell-88678da74f7f2fee",
          "locked": true,
          "points": 1,
          "schema_version": 1,
          "solution": false
        },
        "id": "AFdQjCckKTwS",
        "colab_type": "code",
        "colab": {
          "base_uri": "https://localhost:8080/",
          "height": 34
        },
        "outputId": "6d6ea81b-392d-4875-bb46-c3a91dbc2ce1"
      },
      "source": [
        "subtract_min([1,2,3,.5,43,2])"
      ],
      "execution_count": 4,
      "outputs": [
        {
          "output_type": "execute_result",
          "data": {
            "text/plain": [
              "[0.5, 1.5, 2.5, 0.0, 42.5, 1.5]"
            ]
          },
          "metadata": {
            "tags": []
          },
          "execution_count": 4
        }
      ]
    },
    {
      "cell_type": "markdown",
      "metadata": {
        "id": "lRjgy4ibKTwW",
        "colab_type": "text"
      },
      "source": [
        "### Max Pooling\n",
        "Given a list X, window size m, find the max values in the list in windows of size m. <br>\n",
        "Eg., X = [1, 10, 3, 5, 9] , m = 3. The windows are [1, 10, 3], [10, 3, 5] and [3, 5, 9]. <br>Therefore list of max Values in windows are [10, 10, 9]"
      ]
    },
    {
      "cell_type": "code",
      "metadata": {
        "deletable": false,
        "nbgrader": {
          "checksum": "3d9bd8cc7e96ccd82e5e98a809eb0bbf",
          "grade": false,
          "grade_id": "cell-649486db7effc915",
          "locked": false,
          "schema_version": 1,
          "solution": true
        },
        "id": "-JMd1j0wKTwY",
        "colab_type": "code",
        "colab": {}
      },
      "source": [
        "def max_pooling(X, m):\n",
        "    \"\"\"\n",
        "    Input:\n",
        "        X : list of ints\n",
        "        m : int, window size\n",
        "    Output:\n",
        "        Y : list of max values in each window\n",
        "    \"\"\"\n",
        "    # YOUR CODE HERE\n",
        "    Y=[]\n",
        "    Z=[]\n",
        "    if len(X)==0:\n",
        "      return\n",
        "    if len(X)<=m:\n",
        "      Z.append(X)\n",
        "    else:\n",
        "      for i in range(len(X)-m+1):\n",
        "        Z.append(X[i:i+m])\n",
        "    for i in range(len(Z)):\n",
        "      Y.append(np.max(Z[i]))\n",
        "    print(Z)\n",
        "    \n",
        "    return Y"
      ],
      "execution_count": 0,
      "outputs": []
    },
    {
      "cell_type": "code",
      "metadata": {
        "deletable": false,
        "editable": false,
        "nbgrader": {
          "checksum": "bbe09c82e9b71a5a07febc1e56f921e4",
          "grade": true,
          "grade_id": "cell-8a1b360f5b56e876",
          "locked": true,
          "points": 2,
          "schema_version": 1,
          "solution": false
        },
        "id": "CvUgTBrZKTwc",
        "colab_type": "code",
        "colab": {}
      },
      "source": [
        "max_pooling([], 3)"
      ],
      "execution_count": 0,
      "outputs": []
    },
    {
      "cell_type": "markdown",
      "metadata": {
        "id": "fFngrwPjKTwg",
        "colab_type": "text"
      },
      "source": [
        "### Classwise Average\n",
        "For any dataset with input X, of shape (N, F) and Y of shape (N, 1) which contains labels [0, 1]. Find the average of the features of each class and return it as a 2xF matrix\n"
      ]
    },
    {
      "cell_type": "code",
      "metadata": {
        "deletable": false,
        "nbgrader": {
          "checksum": "1fd8e331e0610b1025b1926fe2559192",
          "grade": false,
          "grade_id": "cell-aad8d2bf11f2e3ef",
          "locked": false,
          "schema_version": 1,
          "solution": true
        },
        "id": "0bYAenEfKTwg",
        "colab_type": "code",
        "colab": {}
      },
      "source": [
        "def classwiseAverage(X, Y):\n",
        "    '''\n",
        "    Inputs:\n",
        "        X: NxF numpy array of N samples with F features each\n",
        "        Y: Nx1 numpy array of class labels; we can have two classes [0, 1]\n",
        "    Returns:\n",
        "        Xmean: 2xF numpy array, average feature for each class\n",
        "    Example:\n",
        "        X: [[2,3],\n",
        "            [10,10],\n",
        "            [3,4],\n",
        "            [60,50]]\n",
        "        Y: [[0],\n",
        "            [1],\n",
        "            [0],\n",
        "            [1]]\n",
        "        Xmean: [[2.5, 3.5],\n",
        "                 [35, 30]]\n",
        "    '''\n",
        "    '''# YOUR CODE HERE\n",
        "    m=np.zeros((2,len(X[1])))\n",
        "    m0=[]\n",
        "    m1=[]\n",
        "    for i in range(len(Y)):\n",
        "      if Y[i]==0:\n",
        "        m0.append(i)\n",
        "      elif Y[i]==1:\n",
        "        m1.append(i)\n",
        "    #X=X/len(m0)    \n",
        "    for i in m0:\n",
        "      m[0] = m[0] + (X[i]/len(m0))\n",
        "    for i in m1:\n",
        "      m[1] = m[1] + (X[i]/len(m1))  \n",
        "    Xmean=m\n",
        "    print(Xmean)\n",
        "    return Xmean\n",
        "    '''\n",
        "    m0=[]\n",
        "    m1=[]\n",
        "    for i in range(len(Y)):\n",
        "      if Y[i]==[0]:\n",
        "        m0.append(i)\n",
        "      elif Y[i]==[1]:\n",
        "        m1.append(i)\n",
        "    print(m0,m1)    \n",
        "    Xmean0=[]\n",
        "    Xmean1=[]\n",
        "    for j in m0:\n",
        "      Xmean0.append(X[j])\n",
        "    for k in m1:\n",
        "      Xmean1.append(X[k])\n",
        "    a=[]\n",
        "    for i in range(len(X[0])):\n",
        "      t=0\n",
        "      for j in range(len(m0)):\n",
        "        t=t+Xmean0[j][i]/len(m0)\n",
        "      a.append(t)\n",
        "    a=a  \n",
        "    b=[]\n",
        "    for i in range(len(X[0])):\n",
        "      t1=0\n",
        "      for j in range(len(m1)):\n",
        "        t1=t1+Xmean1[j][i]/len(m1)\n",
        "      b.append(t1)  \n",
        "    b=b  \n",
        "    Xmean=[a,b]\n",
        "    print(a)\n",
        "    print(b)\n",
        "    #print(Xmean)\n",
        "    return Xmean\n",
        "      "
      ],
      "execution_count": 0,
      "outputs": []
    },
    {
      "cell_type": "code",
      "metadata": {
        "deletable": false,
        "editable": false,
        "nbgrader": {
          "checksum": "d869f6d7a563e4f59a7598c55ab74191",
          "grade": true,
          "grade_id": "cell-38661f068c095dce",
          "locked": true,
          "points": 4,
          "schema_version": 1,
          "solution": false
        },
        "id": "cpbIru_BKTwk",
        "colab_type": "code",
        "colab": {
          "base_uri": "https://localhost:8080/",
          "height": 85
        },
        "outputId": "40b81f4a-01ed-4ebb-dd87-3cc02750ee56"
      },
      "source": [
        "classwiseAverage([[2,3],[10,10],[3,4],[60,50]], [[0],[1],[0],[1]])        "
      ],
      "execution_count": 46,
      "outputs": [
        {
          "output_type": "stream",
          "text": [
            "[0, 2] [1, 3]\n",
            "[2.5, 3.5]\n",
            "[35.0, 30.0]\n"
          ],
          "name": "stdout"
        },
        {
          "output_type": "execute_result",
          "data": {
            "text/plain": [
              "[[2.5, 3.5], [35.0, 30.0]]"
            ]
          },
          "metadata": {
            "tags": []
          },
          "execution_count": 46
        }
      ]
    },
    {
      "cell_type": "code",
      "metadata": {
        "id": "NbBFc9G4KTwl",
        "colab_type": "code",
        "colab": {}
      },
      "source": [
        ""
      ],
      "execution_count": 0,
      "outputs": []
    }
  ]
}