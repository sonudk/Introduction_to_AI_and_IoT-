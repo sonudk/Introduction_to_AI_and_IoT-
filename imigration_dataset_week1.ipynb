{
  "nbformat": 4,
  "nbformat_minor": 0,
  "metadata": {
    "colab": {
      "name": "imigration_dataset_week1.ipynb",
      "version": "0.3.2",
      "provenance": [],
      "private_outputs": true,
      "include_colab_link": true
    },
    "kernelspec": {
      "name": "python3",
      "display_name": "Python 3"
    },
    "accelerator": "GPU"
  },
  "cells": [
    {
      "cell_type": "markdown",
      "metadata": {
        "id": "view-in-github",
        "colab_type": "text"
      },
      "source": [
        "<a href=\"https://colab.research.google.com/github/sonudk/Introduction_to_AI_and_IoT-/blob/master/imigration_dataset_week1.ipynb\" target=\"_parent\"><img src=\"https://colab.research.google.com/assets/colab-badge.svg\" alt=\"Open In Colab\"/></a>"
      ]
    },
    {
      "cell_type": "code",
      "metadata": {
        "id": "cS-kG386qZy8",
        "colab_type": "code",
        "colab": {}
      },
      "source": [
        "import matplotlib as mpl\n",
        "import matplotlib.pyplot as plt\n",
        "import pandas as pd\n",
        "import numpy as np\n",
        "!pip install xlrd"
      ],
      "execution_count": 0,
      "outputs": []
    },
    {
      "cell_type": "code",
      "metadata": {
        "id": "sHq2FDHWufxv",
        "colab_type": "code",
        "colab": {}
      },
      "source": [
        "data = pd.read_excel('Canada.xlsx',skiprows = range(20),skip_footer = 2)"
      ],
      "execution_count": 0,
      "outputs": []
    },
    {
      "cell_type": "code",
      "metadata": {
        "id": "1WaQTgmExXDO",
        "colab_type": "code",
        "colab": {}
      },
      "source": [
        "data.head()"
      ],
      "execution_count": 0,
      "outputs": []
    },
    {
      "cell_type": "code",
      "metadata": {
        "id": "4JKXBeBRxZ-P",
        "colab_type": "code",
        "colab": {}
      },
      "source": [
        "data.tail()"
      ],
      "execution_count": 0,
      "outputs": []
    },
    {
      "cell_type": "markdown",
      "metadata": {
        "id": "-fjiyUoNydSp",
        "colab_type": "text"
      },
      "source": [
        "When analyzing a dataset, it's always a good idea to start by getting basic information about your dataframe. We can do this by using the `info()` method."
      ]
    },
    {
      "cell_type": "code",
      "metadata": {
        "id": "t72hlz1PxwQo",
        "colab_type": "code",
        "colab": {}
      },
      "source": [
        "data.info()"
      ],
      "execution_count": 0,
      "outputs": []
    },
    {
      "cell_type": "code",
      "metadata": {
        "id": "FmtHm6knxy_l",
        "colab_type": "code",
        "colab": {}
      },
      "source": [
        "data.index"
      ],
      "execution_count": 0,
      "outputs": []
    },
    {
      "cell_type": "code",
      "metadata": {
        "id": "nqvtIPi5y6LY",
        "colab_type": "code",
        "colab": {}
      },
      "source": [
        "data.index.values"
      ],
      "execution_count": 0,
      "outputs": []
    },
    {
      "cell_type": "code",
      "metadata": {
        "id": "CM_xYYa9y9A3",
        "colab_type": "code",
        "colab": {}
      },
      "source": [
        "type(data.values)"
      ],
      "execution_count": 0,
      "outputs": []
    },
    {
      "cell_type": "code",
      "metadata": {
        "id": "OPJ70Jo9y_wS",
        "colab_type": "code",
        "colab": {}
      },
      "source": [
        "data.columns"
      ],
      "execution_count": 0,
      "outputs": []
    },
    {
      "cell_type": "code",
      "metadata": {
        "id": "7Q4nTx4LzCqp",
        "colab_type": "code",
        "colab": {}
      },
      "source": [
        "data.columns.values"
      ],
      "execution_count": 0,
      "outputs": []
    },
    {
      "cell_type": "code",
      "metadata": {
        "id": "lLI7c7MZzIsk",
        "colab_type": "code",
        "colab": {}
      },
      "source": [
        "type(data.columns)"
      ],
      "execution_count": 0,
      "outputs": []
    },
    {
      "cell_type": "code",
      "metadata": {
        "id": "WzrjMNUIzM-i",
        "colab_type": "code",
        "colab": {}
      },
      "source": [
        "type(data.index.tolist())"
      ],
      "execution_count": 0,
      "outputs": []
    },
    {
      "cell_type": "code",
      "metadata": {
        "id": "lUIQbHtMzS2W",
        "colab_type": "code",
        "colab": {}
      },
      "source": [
        "type(data.columns.tolist())"
      ],
      "execution_count": 0,
      "outputs": []
    },
    {
      "cell_type": "code",
      "metadata": {
        "id": "Q0BxEY_fzXJP",
        "colab_type": "code",
        "colab": {}
      },
      "source": [
        "data.shape"
      ],
      "execution_count": 0,
      "outputs": []
    },
    {
      "cell_type": "markdown",
      "metadata": {
        "id": "7BT1BYqVz6XK",
        "colab_type": "text"
      },
      "source": [
        "Let's clean the data set to remove a few unnecessary columns. We can use *pandas* `drop()` method as follows:"
      ]
    },
    {
      "cell_type": "code",
      "metadata": {
        "id": "Aw124bzpz9gB",
        "colab_type": "code",
        "colab": {}
      },
      "source": [
        "data.drop(['Type', 'Coverage', 2013], axis =1, inplace = True)"
      ],
      "execution_count": 0,
      "outputs": []
    },
    {
      "cell_type": "code",
      "metadata": {
        "id": "h6-bP-Uk1bcr",
        "colab_type": "code",
        "colab": {}
      },
      "source": [
        "data.columns"
      ],
      "execution_count": 0,
      "outputs": []
    },
    {
      "cell_type": "markdown",
      "metadata": {
        "id": "07ynQwgv2U0L",
        "colab_type": "text"
      },
      "source": [
        "Let's rename the columns so that they make sense. We can use `rename()` method by passing in a dictionary of old and new names as follows:"
      ]
    },
    {
      "cell_type": "code",
      "metadata": {
        "id": "0JtRYK0h1cXL",
        "colab_type": "code",
        "colab": {}
      },
      "source": [
        "data.rename(columns = {'AreaName':'Continent','RegName':'Region'},inplace = True)"
      ],
      "execution_count": 0,
      "outputs": []
    },
    {
      "cell_type": "code",
      "metadata": {
        "id": "-62WoHzn2Hx6",
        "colab_type": "code",
        "colab": {}
      },
      "source": [
        "data.columns"
      ],
      "execution_count": 0,
      "outputs": []
    },
    {
      "cell_type": "markdown",
      "metadata": {
        "id": "VH9HH-k05eN3",
        "colab_type": "text"
      },
      "source": [
        "We will also add a 'Total' column that sums up the total immigrants by country over the entire period 1980 - 2013, as follows:"
      ]
    },
    {
      "cell_type": "code",
      "metadata": {
        "id": "rsGbhnTt2Jym",
        "colab_type": "code",
        "colab": {}
      },
      "source": [
        "data['Total'] = data.sum(axis =1)\n",
        "data1 =data"
      ],
      "execution_count": 0,
      "outputs": []
    },
    {
      "cell_type": "code",
      "metadata": {
        "id": "XE2Jls7W2zNY",
        "colab_type": "code",
        "colab": {}
      },
      "source": [
        "data.head(3)"
      ],
      "execution_count": 0,
      "outputs": []
    },
    {
      "cell_type": "markdown",
      "metadata": {
        "id": "fgMLUf9C5fqF",
        "colab_type": "text"
      },
      "source": [
        "We can check to see how many null objects we have in the dataset as follows:"
      ]
    },
    {
      "cell_type": "code",
      "metadata": {
        "id": "eulkrCYc21PH",
        "colab_type": "code",
        "colab": {}
      },
      "source": [
        "data.isnull().sum()"
      ],
      "execution_count": 0,
      "outputs": []
    },
    {
      "cell_type": "code",
      "metadata": {
        "id": "8mV4moHU3HCj",
        "colab_type": "code",
        "colab": {}
      },
      "source": [
        "data.describe()"
      ],
      "execution_count": 0,
      "outputs": []
    },
    {
      "cell_type": "markdown",
      "metadata": {
        "id": "Ew09E0F26Tfu",
        "colab_type": "text"
      },
      "source": [
        "---\n",
        "## *pandas* Intermediate: Indexing and Selection (slicing)<a id=\"6\"></a>\n"
      ]
    },
    {
      "cell_type": "markdown",
      "metadata": {
        "id": "HKkION0u7Eq6",
        "colab_type": "text"
      },
      "source": [
        "# Columns"
      ]
    },
    {
      "cell_type": "code",
      "metadata": {
        "id": "5sueeTUh3Qmx",
        "colab_type": "code",
        "colab": {}
      },
      "source": [
        "data.Region # method one only if Column name does not countain spoace or special char."
      ],
      "execution_count": 0,
      "outputs": []
    },
    {
      "cell_type": "code",
      "metadata": {
        "id": "1ZaHyYzB6SKU",
        "colab_type": "code",
        "colab": {}
      },
      "source": [
        "data[['Region',1987,1999,2012]]# method2\n",
        "# it is dataframe\n",
        "# for consistency with string name that is Region we will change all integer years in string"
      ],
      "execution_count": 0,
      "outputs": []
    },
    {
      "cell_type": "code",
      "metadata": {
        "id": "srXWozOa7bwO",
        "colab_type": "code",
        "colab": {}
      },
      "source": [
        "data[['Region']] "
      ],
      "execution_count": 0,
      "outputs": []
    },
    {
      "cell_type": "markdown",
      "metadata": {
        "id": "mH0TMV_m8oFx",
        "colab_type": "text"
      },
      "source": [
        "### Select Row\n",
        "\n",
        "There are main 3 ways to select rows:\n",
        "\n",
        "```python\n",
        "    df.loc[label]        \n",
        "        #filters by the labels of the index/column\n",
        "    df.iloc[index]       \n",
        "        #filters by the positions of the index/column\n",
        "```"
      ]
    },
    {
      "cell_type": "code",
      "metadata": {
        "id": "Csmliadw8GPU",
        "colab_type": "code",
        "colab": {}
      },
      "source": [
        "# when index is number\n",
        "data.loc[3]\n",
        "data.iloc[3]\n",
        "# both are same"
      ],
      "execution_count": 0,
      "outputs": []
    },
    {
      "cell_type": "code",
      "metadata": {
        "id": "tQuqgrLN86Ee",
        "colab_type": "code",
        "colab": {}
      },
      "source": [
        "# replace index by country name\n",
        "data.set_index('Region',inplace = True)"
      ],
      "execution_count": 0,
      "outputs": []
    },
    {
      "cell_type": "code",
      "metadata": {
        "id": "4fxjGS-_9bcV",
        "colab_type": "code",
        "colab": {}
      },
      "source": [
        "data"
      ],
      "execution_count": 0,
      "outputs": []
    },
    {
      "cell_type": "code",
      "metadata": {
        "id": "pEykefVt-6TB",
        "colab_type": "code",
        "colab": {}
      },
      "source": [
        "data.iloc[3]"
      ],
      "execution_count": 0,
      "outputs": []
    },
    {
      "cell_type": "code",
      "metadata": {
        "id": "kVjy7d8U_TSg",
        "colab_type": "code",
        "colab": {}
      },
      "source": [
        "'''# to remove the index name (i.e. Region)\n",
        "data.index.name = None'''"
      ],
      "execution_count": 0,
      "outputs": []
    },
    {
      "cell_type": "code",
      "metadata": {
        "id": "X9vFKvH6_X6a",
        "colab_type": "code",
        "colab": {}
      },
      "source": [
        "data.iloc[3]"
      ],
      "execution_count": 0,
      "outputs": []
    },
    {
      "cell_type": "code",
      "metadata": {
        "id": "AG6S8jHe_Z1-",
        "colab_type": "code",
        "colab": {}
      },
      "source": [
        "data"
      ],
      "execution_count": 0,
      "outputs": []
    },
    {
      "cell_type": "code",
      "metadata": {
        "id": "NrZ2Yf2r_brQ",
        "colab_type": "code",
        "colab": {}
      },
      "source": [
        "data.iloc[26]"
      ],
      "execution_count": 0,
      "outputs": []
    },
    {
      "cell_type": "code",
      "metadata": {
        "id": "AhiKvuI7_uPq",
        "colab_type": "code",
        "colab": {}
      },
      "source": [
        "data.loc['Polynesia']"
      ],
      "execution_count": 0,
      "outputs": []
    },
    {
      "cell_type": "code",
      "metadata": {
        "id": "w1DeOGo_AjrR",
        "colab_type": "code",
        "colab": {}
      },
      "source": [
        "data.loc['Polynesia',[2012]]"
      ],
      "execution_count": 0,
      "outputs": []
    },
    {
      "cell_type": "code",
      "metadata": {
        "id": "9xxqKMwHBeYv",
        "colab_type": "code",
        "colab": {}
      },
      "source": [
        "data.loc['Polynesia',[2012,1985,1986,1987,1988,1989,1990]]\n"
      ],
      "execution_count": 0,
      "outputs": []
    },
    {
      "cell_type": "code",
      "metadata": {
        "id": "dlbiBmROBqWz",
        "colab_type": "code",
        "colab": {}
      },
      "source": [
        "data.iloc[26,[3,2,5,4,6]]"
      ],
      "execution_count": 0,
      "outputs": []
    },
    {
      "cell_type": "markdown",
      "metadata": {
        "id": "aHMd_nleCTAc",
        "colab_type": "text"
      },
      "source": [
        "Column names that are integers (such as the years) might introduce some confusion. For example, when we are referencing the year 2013, one might confuse that when the 2013th positional index. \n",
        "\n",
        "To avoid this ambuigity, let's convert the column names into strings: '1980' to '2013'."
      ]
    },
    {
      "cell_type": "code",
      "metadata": {
        "id": "e2XKAyXCBwvn",
        "colab_type": "code",
        "colab": {}
      },
      "source": [
        "list(map(str,data.columns))"
      ],
      "execution_count": 0,
      "outputs": []
    },
    {
      "cell_type": "code",
      "metadata": {
        "id": "vxMU1yWWCi5X",
        "colab_type": "code",
        "colab": {}
      },
      "source": [
        "years = list(map(str,range(1985,2012)))# we use map function for mapping linearly one to one functoin"
      ],
      "execution_count": 0,
      "outputs": []
    },
    {
      "cell_type": "code",
      "metadata": {
        "id": "tMJaW-HbC0Ra",
        "colab_type": "code",
        "colab": {}
      },
      "source": [
        "print(years)"
      ],
      "execution_count": 0,
      "outputs": []
    },
    {
      "cell_type": "markdown",
      "metadata": {
        "id": "-qN_97eLEFD1",
        "colab_type": "text"
      },
      "source": [
        "### Filtering based on a criteria\n",
        "To filter the dataframe based on a condition, we simply pass the condition as a boolean vector. \n",
        "\n",
        "For example, Let's filter the dataframe to show the data on Asian countries (AreaName = Asia)."
      ]
    },
    {
      "cell_type": "code",
      "metadata": {
        "id": "4nTlmcbgC22v",
        "colab_type": "code",
        "colab": {}
      },
      "source": [
        "condition = data['Continent']=='Asia'\n",
        "print(condition)"
      ],
      "execution_count": 0,
      "outputs": []
    },
    {
      "cell_type": "code",
      "metadata": {
        "id": "GqJ-RKSIEQzI",
        "colab_type": "code",
        "colab": {}
      },
      "source": [
        "data[condition]"
      ],
      "execution_count": 0,
      "outputs": []
    },
    {
      "cell_type": "code",
      "metadata": {
        "id": "Vwq_RqFqFl8B",
        "colab_type": "code",
        "colab": {}
      },
      "source": [
        "data1"
      ],
      "execution_count": 0,
      "outputs": []
    },
    {
      "cell_type": "code",
      "metadata": {
        "id": "a79QbHaKEaBZ",
        "colab_type": "code",
        "colab": {}
      },
      "source": [
        "# we can pass mutliple criteria in the same line. \n",
        "# let's filter for AreaNAme = Asia and RegName = Southern Asia\n",
        "# the below line is just for understanding\n",
        "### df_can[(df_can['Continent']=='Asia') & (df_can['Region']=='Southern Asia')]\n",
        "\n",
        "# note: When using 'and' and 'or' operators, pandas requires we use '&' and '|' instead of 'and' and 'or'\n",
        "# don't forget to enclose the two conditions in parentheses"
      ],
      "execution_count": 0,
      "outputs": []
    },
    {
      "cell_type": "markdown",
      "metadata": {
        "id": "_RdA9-uFGtty",
        "colab_type": "text"
      },
      "source": [
        "## Matplotlib: Standard Python Visualization Library<a id=\"10\"></a>\n",
        "\n",
        "The primary plotting library we will explore in the course is [Matplotlib](http://matplotlib.org/).  As mentioned on their website: \n",
        ">Matplotlib is a Python 2D plotting library which produces publication quality figures in a variety of hardcopy formats and interactive environments across platforms. Matplotlib can be used in Python scripts, the Python and IPython shell, the jupyter notebook, web application servers, and four graphical user interface toolkits.\n",
        "\n",
        "If you are aspiring to create impactful visualization with python, Matplotlib is an essential tool to have at your disposal."
      ]
    },
    {
      "cell_type": "code",
      "metadata": {
        "id": "nOSew_0JGlCw",
        "colab_type": "code",
        "colab": {}
      },
      "source": [
        "# apply a style to matplotlib >>optional\n",
        "print(plt.style.available)"
      ],
      "execution_count": 0,
      "outputs": []
    },
    {
      "cell_type": "code",
      "metadata": {
        "id": "48kKuSDwHKyR",
        "colab_type": "code",
        "colab": {}
      },
      "source": [
        "plt.style.use(['ggplot']) # here we use ggplot as styles for our plots (ostly used)"
      ],
      "execution_count": 0,
      "outputs": []
    },
    {
      "cell_type": "code",
      "metadata": {
        "id": "HJYssO5gHUcO",
        "colab_type": "code",
        "colab": {}
      },
      "source": [
        "india = data.loc['Southern Asia',years]\n",
        "india.plot()"
      ],
      "execution_count": 0,
      "outputs": []
    },
    {
      "cell_type": "code",
      "metadata": {
        "id": "mmFLR9MwIJOm",
        "colab_type": "code",
        "colab": {}
      },
      "source": [
        ""
      ],
      "execution_count": 0,
      "outputs": []
    }
  ]
}