{
  "nbformat": 4,
  "nbformat_minor": 0,
  "metadata": {
    "colab": {
      "name": "PythonBasics1.ipynb",
      "version": "0.3.2",
      "provenance": [],
      "include_colab_link": true
    },
    "language_info": {
      "codemirror_mode": {
        "name": "ipython",
        "version": 3
      },
      "file_extension": ".py",
      "mimetype": "text/x-python",
      "name": "python",
      "nbconvert_exporter": "python",
      "pygments_lexer": "ipython3",
      "version": "3.6.8"
    },
    "kernelspec": {
      "display_name": "Python 3",
      "language": "python",
      "name": "python3"
    }
  },
  "cells": [
    {
      "cell_type": "markdown",
      "metadata": {
        "id": "view-in-github",
        "colab_type": "text"
      },
      "source": [
        "<a href=\"https://colab.research.google.com/github/sonudk/Introduction_to_AI_and_IoT-/blob/master/PythonBasics1.ipynb\" target=\"_parent\"><img src=\"https://colab.research.google.com/assets/colab-badge.svg\" alt=\"Open In Colab\"/></a>"
      ]
    },
    {
      "cell_type": "markdown",
      "metadata": {
        "id": "3xKlZaxAoZn1",
        "colab_type": "text"
      },
      "source": [
        "# Introduction to Python\n",
        "* Numbers\n",
        "* Strings\n",
        "* Lists\n",
        "* Dictionaries\n",
        "* Conditionals (if-else)\n",
        "* Loops"
      ]
    },
    {
      "cell_type": "markdown",
      "metadata": {
        "id": "evC2DNiIoZn3",
        "colab_type": "text"
      },
      "source": [
        "# Integers and Floats (decimal numbers)"
      ]
    },
    {
      "cell_type": "code",
      "metadata": {
        "id": "2Dp4APiQoZn5",
        "colab_type": "code",
        "colab": {},
        "outputId": "8da381e8-490a-4f78-84fc-8b45b13199dc"
      },
      "source": [
        "a = 10\n",
        "b = 6\n",
        "print(a+b, a-b, a*b, a/b)"
      ],
      "execution_count": 0,
      "outputs": [
        {
          "output_type": "stream",
          "text": [
            "16 4 60 1.6666666666666667\n"
          ],
          "name": "stdout"
        }
      ]
    },
    {
      "cell_type": "code",
      "metadata": {
        "id": "NCTJDpdkoZoD",
        "colab_type": "code",
        "colab": {},
        "outputId": "e1f51247-7faf-4796-aa68-16c1576b3260"
      },
      "source": [
        "a = 10.1\n",
        "b = 6.4\n",
        "print(a+b, a-b, a*b, a/b)"
      ],
      "execution_count": 0,
      "outputs": [
        {
          "output_type": "stream",
          "text": [
            "16.5 3.6999999999999993 64.64 1.5781249999999998\n"
          ],
          "name": "stdout"
        }
      ]
    },
    {
      "cell_type": "code",
      "metadata": {
        "id": "KVM4r1BqoZoa",
        "colab_type": "code",
        "colab": {},
        "outputId": "ef0f9b7d-4706-43a8-bed7-8278ab0baf71"
      },
      "source": [
        "a = 2.4\n",
        "print(type(a))"
      ],
      "execution_count": 0,
      "outputs": [
        {
          "output_type": "stream",
          "text": [
            "<class 'float'>\n"
          ],
          "name": "stdout"
        }
      ]
    },
    {
      "cell_type": "markdown",
      "metadata": {
        "id": "C2w7yKfloZoo",
        "colab_type": "text"
      },
      "source": [
        "# Strings"
      ]
    },
    {
      "cell_type": "code",
      "metadata": {
        "id": "nyD4_GNsoZoq",
        "colab_type": "code",
        "colab": {},
        "outputId": "8c0b80a4-2ab9-4a1c-f5d6-1cf22edda061"
      },
      "source": [
        "a = \"Banana\"\n",
        "b = \"Shake\"\n",
        "c = a+b\n",
        "print(c)"
      ],
      "execution_count": 0,
      "outputs": [
        {
          "output_type": "stream",
          "text": [
            "BananaShake\n"
          ],
          "name": "stdout"
        }
      ]
    },
    {
      "cell_type": "code",
      "metadata": {
        "id": "FE_jD-QeoZo9",
        "colab_type": "code",
        "colab": {},
        "outputId": "1a64219a-db63-4eef-e543-26f8718af16c"
      },
      "source": [
        "c = a+\" \"+b\n",
        "print(c) # Let us add a space bar too"
      ],
      "execution_count": 0,
      "outputs": [
        {
          "output_type": "stream",
          "text": [
            "Banana Shake\n"
          ],
          "name": "stdout"
        }
      ]
    },
    {
      "cell_type": "code",
      "metadata": {
        "id": "uQpa-rr8oZpG",
        "colab_type": "code",
        "colab": {},
        "outputId": "b3bbe135-e09e-4d72-a579-f28341150834"
      },
      "source": [
        "print(c[-1])    # Indexing"
      ],
      "execution_count": 0,
      "outputs": [
        {
          "output_type": "stream",
          "text": [
            "e\n"
          ],
          "name": "stdout"
        }
      ]
    },
    {
      "cell_type": "code",
      "metadata": {
        "id": "KnX98nhvoZpZ",
        "colab_type": "code",
        "colab": {},
        "outputId": "dfa98ed3-c30c-49be-ee17-26235a57a020"
      },
      "source": [
        "print(c[2:8])   # Substring"
      ],
      "execution_count": 0,
      "outputs": [
        {
          "output_type": "stream",
          "text": [
            "nana S\n"
          ],
          "name": "stdout"
        }
      ]
    },
    {
      "cell_type": "code",
      "metadata": {
        "id": "h9C2OVWMoZp2",
        "colab_type": "code",
        "colab": {},
        "outputId": "ffa78d43-c875-47ac-fdeb-355e1b93864b"
      },
      "source": [
        "print(len(c))   # Length"
      ],
      "execution_count": 0,
      "outputs": [
        {
          "output_type": "stream",
          "text": [
            "12\n"
          ],
          "name": "stdout"
        }
      ]
    },
    {
      "cell_type": "markdown",
      "metadata": {
        "id": "v9Apc1FboZqs",
        "colab_type": "text"
      },
      "source": [
        "# Lists\n",
        "Let us create a shopping list:\n",
        "1. Milk\n",
        "2. Banana\n",
        "3. Carrots"
      ]
    },
    {
      "cell_type": "code",
      "metadata": {
        "id": "F9yJiU5QoZqv",
        "colab_type": "code",
        "colab": {},
        "outputId": "36edbba4-9dff-4044-edf0-e003ef4f6dca"
      },
      "source": [
        "a = [\"Milk\", \"Banana\", \"Carrot\"]\n",
        "print(a)\n",
        "print(len(a))"
      ],
      "execution_count": 0,
      "outputs": [
        {
          "output_type": "stream",
          "text": [
            "['Milk', 'Banana', 'Carrot']\n",
            "3\n"
          ],
          "name": "stdout"
        }
      ]
    },
    {
      "cell_type": "markdown",
      "metadata": {
        "id": "ZQBCMOfgoZrz",
        "colab_type": "text"
      },
      "source": [
        "**Indexing**: What is the 3rd item?"
      ]
    },
    {
      "cell_type": "code",
      "metadata": {
        "id": "7gt-JLlQoZr1",
        "colab_type": "code",
        "colab": {},
        "outputId": "b1321b0e-735a-4f55-c53d-afdbe58ecc60"
      },
      "source": [
        "print(a[2])"
      ],
      "execution_count": 0,
      "outputs": [
        {
          "output_type": "stream",
          "text": [
            "Carrot\n"
          ],
          "name": "stdout"
        }
      ]
    },
    {
      "cell_type": "markdown",
      "metadata": {
        "id": "6TitjlZpoZt9",
        "colab_type": "text"
      },
      "source": [
        "**Slicing**: Extract a sub-list "
      ]
    },
    {
      "cell_type": "code",
      "metadata": {
        "id": "EJVnFMw2oZt_",
        "colab_type": "code",
        "colab": {},
        "outputId": "4144c890-c189-42b8-82cf-27d758c5d8b9"
      },
      "source": [
        "print(a[1:3])"
      ],
      "execution_count": 0,
      "outputs": [
        {
          "output_type": "stream",
          "text": [
            "['Banana', 'Carrot']\n"
          ],
          "name": "stdout"
        }
      ]
    },
    {
      "cell_type": "markdown",
      "metadata": {
        "id": "YSIZ-FpsoZvO",
        "colab_type": "text"
      },
      "source": [
        "**Modification** - Change \"Carrot\" to \"Tomato\""
      ]
    },
    {
      "cell_type": "code",
      "metadata": {
        "id": "akB0UXBYoZvT",
        "colab_type": "code",
        "colab": {},
        "outputId": "e7ba4c74-9352-40c1-9bd4-26ff0d563801"
      },
      "source": [
        "a[2] = \"Tomato\" \n",
        "print(a)"
      ],
      "execution_count": 0,
      "outputs": [
        {
          "output_type": "stream",
          "text": [
            "['Milk', 'Banana', 'Tomato']\n"
          ],
          "name": "stdout"
        }
      ]
    },
    {
      "cell_type": "markdown",
      "metadata": {
        "id": "qTJ3xpLboZvo",
        "colab_type": "text"
      },
      "source": [
        "**Concatenation:** Your mother gave a list of rice, sugar and salt. Add it to your list."
      ]
    },
    {
      "cell_type": "code",
      "metadata": {
        "id": "fow3RUgroZv5",
        "colab_type": "code",
        "colab": {},
        "outputId": "4c126cde-9814-4678-d021-050fa0fa6e33"
      },
      "source": [
        "b = [\"Rice\", \"Sugar\", \"Salt\"]\n",
        "c = a+b\n",
        "print(c)"
      ],
      "execution_count": 0,
      "outputs": [
        {
          "output_type": "stream",
          "text": [
            "['Milk', 'Banana', 'Tomato', 'Rice', 'Sugar', 'Salt']\n"
          ],
          "name": "stdout"
        }
      ]
    },
    {
      "cell_type": "markdown",
      "metadata": {
        "id": "emkCpAq7oZz_",
        "colab_type": "text"
      },
      "source": [
        "**Append:** Add another item - Apple"
      ]
    },
    {
      "cell_type": "code",
      "metadata": {
        "id": "nNxaomr5oZ0C",
        "colab_type": "code",
        "colab": {},
        "outputId": "5f7db25a-9a35-43d0-c94f-57a862f52fa2"
      },
      "source": [
        "d = c + [\"Apple\"]\n",
        "print(d)"
      ],
      "execution_count": 0,
      "outputs": [
        {
          "output_type": "stream",
          "text": [
            "['Milk', 'Banana', 'Tomato', 'Rice', 'Sugar', 'Salt', 'Apple']\n"
          ],
          "name": "stdout"
        }
      ]
    },
    {
      "cell_type": "markdown",
      "metadata": {
        "id": "hZus8oC4oZ1g",
        "colab_type": "text"
      },
      "source": [
        "The same is possible with numbers too.\n",
        "A list can hold any data types."
      ]
    },
    {
      "cell_type": "code",
      "metadata": {
        "id": "LnstaMpkoZ1l",
        "colab_type": "code",
        "colab": {},
        "outputId": "ca7947fa-99b7-43e6-c0a5-a2fd6d314eb8"
      },
      "source": [
        "a = [1, 2, 3, \"Apple\"]\n",
        "b = [2.4, 4, \"Banana\", 9]\n",
        "print(a+b)             # Concatenation\n",
        "print(a[2])           # Indexing\n",
        "a[2] = 5             # Modifying\n",
        "print(a)"
      ],
      "execution_count": 0,
      "outputs": [
        {
          "output_type": "stream",
          "text": [
            "[1, 2, 3, 'Apple', 2.4, 4, 'Banana', 9]\n",
            "3\n",
            "[1, 2, 5, 'Apple']\n"
          ],
          "name": "stdout"
        }
      ]
    },
    {
      "cell_type": "markdown",
      "metadata": {
        "id": "E27QPH5DoZ1r",
        "colab_type": "text"
      },
      "source": [
        "# Dictionaries\n",
        "How to add quantities to your list:\n",
        "1. Milk: 1 litre\n",
        "2. Banana: 12\n",
        "3. Carrot: 5"
      ]
    },
    {
      "cell_type": "code",
      "metadata": {
        "id": "HsIZsN1soZ1s",
        "colab_type": "code",
        "colab": {},
        "outputId": "4454e935-8b67-449b-bbd6-4a38cf43cdb3"
      },
      "source": [
        "a = {\"Milk\":\"1 litre\", \"Banana\":12, \"Carrot\":5} # key-value pair\n",
        "print(a)\n",
        "print(len(a))"
      ],
      "execution_count": 0,
      "outputs": [
        {
          "output_type": "stream",
          "text": [
            "{'Milk': '1 litre', 'Banana': 12, 'Carrot': 5}\n",
            "3\n"
          ],
          "name": "stdout"
        }
      ]
    },
    {
      "cell_type": "markdown",
      "metadata": {
        "id": "4aSa7fGcoZ1y",
        "colab_type": "text"
      },
      "source": [
        "**Indexing:** What is the quantity of Carrot?"
      ]
    },
    {
      "cell_type": "code",
      "metadata": {
        "id": "DMhT8EkQoZ10",
        "colab_type": "code",
        "colab": {},
        "outputId": "203f836c-75fe-4b74-9e5b-c2d0c44455f3"
      },
      "source": [
        "print(a[\"Carrot\"]) # print(a[2]) will be an error"
      ],
      "execution_count": 0,
      "outputs": [
        {
          "output_type": "stream",
          "text": [
            "5\n"
          ],
          "name": "stdout"
        }
      ]
    },
    {
      "cell_type": "markdown",
      "metadata": {
        "id": "AsBZYKGXoZ16",
        "colab_type": "text"
      },
      "source": [
        "**Modification:** Please change this quantity to 8"
      ]
    },
    {
      "cell_type": "code",
      "metadata": {
        "id": "AhyNutnNoZ19",
        "colab_type": "code",
        "colab": {},
        "outputId": "be73eafd-f180-443c-be30-316081e08643"
      },
      "source": [
        "a[\"Carrot\"] = 8\n",
        "print(a)"
      ],
      "execution_count": 0,
      "outputs": [
        {
          "output_type": "stream",
          "text": [
            "{'Milk': '1 litre', 'Banana': 12, 'Carrot': 8}\n"
          ],
          "name": "stdout"
        }
      ]
    },
    {
      "cell_type": "markdown",
      "metadata": {
        "id": "DYYxdX71oZ2E",
        "colab_type": "text"
      },
      "source": [
        "**Append:** Add 1kg apples"
      ]
    },
    {
      "cell_type": "code",
      "metadata": {
        "id": "N8DyquBfoZ2G",
        "colab_type": "code",
        "colab": {},
        "outputId": "5d31d594-dbbe-4c1b-81bc-0a63c0a5c48d"
      },
      "source": [
        "a[\"Apple\"] = \"1kg\"\n",
        "print(a)"
      ],
      "execution_count": 0,
      "outputs": [
        {
          "output_type": "stream",
          "text": [
            "{'Milk': '1 litre', 'Banana': 12, 'Carrot': 8, 'Apple': '1kg'}\n"
          ],
          "name": "stdout"
        }
      ]
    },
    {
      "cell_type": "code",
      "metadata": {
        "id": "zjbJ7CZ7oZ2O",
        "colab_type": "code",
        "colab": {},
        "outputId": "a0a29ff5-0b21-495f-d663-530cb4d02a4b"
      },
      "source": [
        "print(a.keys())\n",
        "print(a.values())"
      ],
      "execution_count": 0,
      "outputs": [
        {
          "output_type": "stream",
          "text": [
            "dict_keys(['Milk', 'Banana', 'Carrot', 'Apple'])\n",
            "dict_values(['1 litre', 12, 8, '1kg'])\n"
          ],
          "name": "stdout"
        }
      ]
    },
    {
      "cell_type": "markdown",
      "metadata": {
        "id": "Q1sn53g8oZ2X",
        "colab_type": "text"
      },
      "source": [
        "# Conditionals\n",
        "if, elif, else"
      ]
    },
    {
      "cell_type": "code",
      "metadata": {
        "id": "SMie-7CUoZ2Z",
        "colab_type": "code",
        "colab": {},
        "outputId": "4ffc15cf-3d55-4805-9e9b-2e665f62c72b"
      },
      "source": [
        "i = 4\n",
        "if i<0:\n",
        "    print(\"Negative\")\n",
        "elif i>0:\n",
        "    print(\"Positive\")\n",
        "else:\n",
        "    print(\"Zero\")"
      ],
      "execution_count": 0,
      "outputs": [
        {
          "output_type": "stream",
          "text": [
            "Positive\n"
          ],
          "name": "stdout"
        }
      ]
    },
    {
      "cell_type": "markdown",
      "metadata": {
        "id": "z5SlamFZoZ2f",
        "colab_type": "text"
      },
      "source": [
        "In the shopping list, add 5 bananas"
      ]
    },
    {
      "cell_type": "code",
      "metadata": {
        "id": "UVIKC1nKoZ2g",
        "colab_type": "code",
        "colab": {},
        "outputId": "f48e976e-def5-4e2b-ec94-8d87aecc4acd"
      },
      "source": [
        "a = {\"Milk\":\"1 litre\", \"Banana\":12, \"Carrot\":5} \n",
        "# What if the bananas weren't there\n",
        "\n",
        "if \"Banana\" in a:\n",
        "    a[\"Banana\"] = a[\"Banana\"] + 5\n",
        "else:\n",
        "    a[\"Banana\"] = 5\n",
        "print(a)"
      ],
      "execution_count": 0,
      "outputs": [
        {
          "output_type": "stream",
          "text": [
            "{'Milk': '1 litre', 'Banana': 17, 'Carrot': 5}\n"
          ],
          "name": "stdout"
        }
      ]
    },
    {
      "cell_type": "markdown",
      "metadata": {
        "id": "puePFMd8oZ29",
        "colab_type": "text"
      },
      "source": [
        "# Loops\n",
        "## For loop"
      ]
    },
    {
      "cell_type": "code",
      "metadata": {
        "id": "vZfAb_AZoZ2-",
        "colab_type": "code",
        "colab": {},
        "outputId": "b5c616a5-6c5a-49f6-e836-ec839f402fd9"
      },
      "source": [
        "for i in range(5):\n",
        "    print(i)"
      ],
      "execution_count": 0,
      "outputs": [
        {
          "output_type": "stream",
          "text": [
            "0\n",
            "1\n",
            "2\n",
            "3\n",
            "4\n"
          ],
          "name": "stdout"
        }
      ]
    },
    {
      "cell_type": "markdown",
      "metadata": {
        "id": "ZDW0t0FHoZ3E",
        "colab_type": "text"
      },
      "source": [
        "Print all the items in the list along with their quantities"
      ]
    },
    {
      "cell_type": "code",
      "metadata": {
        "id": "LRhydmPsoZ3F",
        "colab_type": "code",
        "colab": {},
        "outputId": "ccf051db-1f0d-4cbb-eb4a-3056288272e3"
      },
      "source": [
        "for key in a:\n",
        "    print(key, \"-\", a[key])"
      ],
      "execution_count": 0,
      "outputs": [
        {
          "output_type": "stream",
          "text": [
            "Milk - 1 litre\n",
            "Banana - 17\n",
            "Carrot - 5\n"
          ],
          "name": "stdout"
        }
      ]
    },
    {
      "cell_type": "markdown",
      "metadata": {
        "id": "tEg8YwbEoZ3L",
        "colab_type": "text"
      },
      "source": [
        "## While loop"
      ]
    },
    {
      "cell_type": "code",
      "metadata": {
        "id": "dLb9f0dyoZ3M",
        "colab_type": "code",
        "colab": {},
        "outputId": "ec7ac47b-8559-4382-c5cf-48e9389f1e12"
      },
      "source": [
        "# List all integers starting from 0, such that the sum of \n",
        "# their squares is less than 20\n",
        "i = 0\n",
        "sumOfSquares = 0\n",
        "while sumOfSquares<20:\n",
        "    print(i)\n",
        "    i = i+1\n",
        "    sumOfSquares = sumOfSquares + i*i"
      ],
      "execution_count": 0,
      "outputs": [
        {
          "output_type": "stream",
          "text": [
            "0\n",
            "1\n",
            "2\n",
            "3\n"
          ],
          "name": "stdout"
        }
      ]
    }
  ]
}