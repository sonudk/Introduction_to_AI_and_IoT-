{
  "nbformat": 4,
  "nbformat_minor": 0,
  "metadata": {
    "colab": {
      "name": "solved-in-class_Assignment_data_rep_evalution_f.ipynb",
      "version": "0.3.2",
      "provenance": [],
      "collapsed_sections": [],
      "include_colab_link": true
    },
    "language_info": {
      "codemirror_mode": {
        "name": "ipython",
        "version": 3
      },
      "file_extension": ".py",
      "mimetype": "text/x-python",
      "name": "python",
      "nbconvert_exporter": "python",
      "pygments_lexer": "ipython3",
      "version": "3.6.8"
    },
    "kernelspec": {
      "name": "python3",
      "display_name": "Python 3"
    },
    "accelerator": "GPU"
  },
  "cells": [
    {
      "cell_type": "markdown",
      "metadata": {
        "id": "view-in-github",
        "colab_type": "text"
      },
      "source": [
        "<a href=\"https://colab.research.google.com/github/sonudk/Introduction_to_AI_and_IoT-/blob/master/solved_in_class_Assignment_data_rep_evalution_f.ipynb\" target=\"_parent\"><img src=\"https://colab.research.google.com/assets/colab-badge.svg\" alt=\"Open In Colab\"/></a>"
      ]
    },
    {
      "cell_type": "markdown",
      "metadata": {
        "colab_type": "text",
        "id": "GLx5eV15CWnl"
      },
      "source": [
        "### Generate Random array\n",
        "Generate a numpy array of shape x with random values as its elements.\n",
        "\n",
        "\n",
        "\n"
      ]
    },
    {
      "cell_type": "code",
      "metadata": {
        "colab_type": "code",
        "id": "TubUF2DVYN96",
        "colab": {}
      },
      "source": [
        "import numpy as np"
      ],
      "execution_count": 0,
      "outputs": []
    },
    {
      "cell_type": "code",
      "metadata": {
        "colab_type": "code",
        "deletable": false,
        "id": "N2QKp5gJHLlu",
        "nbgrader": {
          "checksum": "625bcc1adb5aa2c0e91b4855d37042e7",
          "grade": false,
          "grade_id": "cell-6c2481fe9b74106f",
          "locked": false,
          "schema_version": 1,
          "solution": true
        },
        "colab": {}
      },
      "source": [
        "def generate_array(x):\n",
        "  '''\n",
        "  input:\n",
        "    x: tuple defining shape; Eg., (5, 2, 3)\n",
        "  output:\n",
        "    y: numpy array of shape x generated using numpy.random library\n",
        "        and its elements as random values between [0,1).\n",
        "  '''\n",
        "  # YOUR CODE HERE\n",
        "  y = np.random.random(x)\n",
        "  return y\n"
      ],
      "execution_count": 0,
      "outputs": []
    },
    {
      "cell_type": "code",
      "metadata": {
        "colab_type": "code",
        "deletable": false,
        "editable": false,
        "id": "mo1j4xcMR8Uj",
        "nbgrader": {
          "checksum": "c570c2e2bdf169f54f5c705654d628b3",
          "grade": true,
          "grade_id": "cell-a69e31f80ecccc9d",
          "locked": true,
          "points": 4,
          "schema_version": 1,
          "solution": false
        },
        "colab": {
          "base_uri": "https://localhost:8080/",
          "height": 34
        },
        "outputId": "a1141291-915d-4322-a552-435fff5a0aca"
      },
      "source": [
        "'''test for generate_array'''\n",
        "def test_generate_array():\n",
        "  x = (2,4,5,6)\n",
        "  y = generate_array(x)\n",
        "  assert y.shape==x\n",
        "  assert np.all(y<1)\n",
        "  assert np.all(y>=0)\n",
        "  print('Test passed', '\\U0001F44D')\n",
        "test_generate_array()"
      ],
      "execution_count": 3,
      "outputs": [
        {
          "output_type": "stream",
          "text": [
            "Test passed 👍\n"
          ],
          "name": "stdout"
        }
      ]
    },
    {
      "cell_type": "markdown",
      "metadata": {
        "colab_type": "text",
        "id": "LtCCbVxyaUV0"
      },
      "source": [
        "### Shape\n",
        "Write a python function to calculate shape of a given array."
      ]
    },
    {
      "cell_type": "code",
      "metadata": {
        "colab_type": "code",
        "deletable": false,
        "id": "kc1mmCFoad6b",
        "nbgrader": {
          "checksum": "5436ab93951f89d24a97cd1016736c62",
          "grade": false,
          "grade_id": "cell-384a33e1069301ec",
          "locked": false,
          "schema_version": 1,
          "solution": true
        },
        "colab": {}
      },
      "source": [
        "def return_shape(x):\n",
        "  '''\n",
        "  input:\n",
        "    x: a numpy array of any dimension\n",
        "  output:\n",
        "    y: shape of input array as a tuple.\n",
        "  '''\n",
        "  # YOUR CODE HERE\n"
      ],
      "execution_count": 0,
      "outputs": []
    },
    {
      "cell_type": "code",
      "metadata": {
        "colab_type": "code",
        "deletable": false,
        "editable": false,
        "id": "Vf-Yyzuob6yd",
        "nbgrader": {
          "checksum": "bee7c3b467e6ca09cb860a0d41d7b886",
          "grade": true,
          "grade_id": "cell-bfa0a66fc882c4bd",
          "locked": true,
          "points": 4,
          "schema_version": 1,
          "solution": false
        },
        "colab": {}
      },
      "source": [
        "'''test for return_shape'''\n",
        "def test_return_shape():\n",
        "  x = np.array([1,2])\n",
        "  y = return_shape(x)\n",
        "  assert y == (2,)\n",
        "  print('Test passed', '\\U0001F44D')\n",
        "test_return_shape()"
      ],
      "execution_count": 0,
      "outputs": []
    },
    {
      "cell_type": "markdown",
      "metadata": {
        "colab_type": "text",
        "id": "E2xpu9Gwc9yT"
      },
      "source": [
        "### Mean and STD\n",
        "Given a data tensor X,  with axis=0 indexing the samples, find mean and standard deviation of the samples ."
      ]
    },
    {
      "cell_type": "code",
      "metadata": {
        "colab_type": "code",
        "deletable": false,
        "id": "Fpz6-7Sgd0WX",
        "nbgrader": {
          "checksum": "6b0f7226a6fecb672e675fdb03bf09e2",
          "grade": false,
          "grade_id": "cell-d9578642617a24f1",
          "locked": false,
          "schema_version": 1,
          "solution": true
        },
        "colab": {},
        "outputId": "f9dfc397-34a5-45ab-f07c-1c55e1c82679"
      },
      "source": [
        "def CalculateMeanStddev(x):\n",
        "  '''\n",
        "  input:\n",
        "    x: a numpy array of any dimension\n",
        "  output:\n",
        "    mean: Numpy array with mean of input samples\n",
        "    stddev: Numpy array with standard deviation of input samples\n",
        "  \n",
        "  HINT: Shape of Input is (samples, feature1, feature2, ...)\n",
        "  \n",
        "  Return mean,stddev\n",
        "  '''\n",
        "  # YOUR CODE HERE\n",
        "  # Mean\n",
        "  sumx = x[0] * 0\n",
        "  for i in range(x.shape[0]):\n",
        "    sumx = sumx + x[i]\n",
        "  meanx = sumx/x.shape[0]\n",
        "  # Std Dev.\n",
        "  sumofsq = x[0] * 0\n",
        "  for i in range(x.shape[0]):\n",
        "    sumofsq = sumofsq + (x[i]-meanx)*(x[i]-meanx)\n",
        "  varx = sumofsq/x.shape[0]\n",
        "  stddevx = np.sqrt(varx)\n",
        "  return meanx, stddevx\n"
      ],
      "execution_count": 0,
      "outputs": [
        {
          "output_type": "stream",
          "text": [
            "[[[3.38756923e-01 4.47208036e-05 6.03771163e-01 6.74502877e-01\n",
            "   5.10913289e-02 8.61653461e-01]\n",
            "  [4.08893788e-01 3.32264755e-01 3.32942331e-01 2.47981839e-02\n",
            "   3.57149570e-01 4.39373031e-01]\n",
            "  [4.47439637e-03 5.65657723e-01 5.40019119e-01 9.48573263e-02\n",
            "   4.15213716e-01 3.97103782e-01]\n",
            "  [8.59634200e-01 7.49648219e-01 4.64338955e-02 1.85440857e-01\n",
            "   9.02509827e-01 7.31019958e-01]\n",
            "  [3.99881935e-01 3.28224061e-01 1.68257512e-02 1.15213306e-01\n",
            "   3.70085254e-01 3.40511667e-01]\n",
            "  [6.40982119e-01 8.31637091e-01 2.75244615e-01 2.52526468e-01\n",
            "   8.23145637e-01 4.76634558e-01]]\n",
            "\n",
            " [[6.09306241e-01 8.86290301e-01 2.21656965e-01 3.17331971e-01\n",
            "   7.43907587e-01 1.23887898e-01]\n",
            "  [4.56774445e-01 6.99737485e-01 8.06973887e-01 9.14110370e-01\n",
            "   3.52778914e-01 9.60272565e-01]\n",
            "  [3.85495470e-02 7.45964801e-01 4.33193139e-01 5.77570500e-01\n",
            "   4.17981578e-01 2.54405148e-02]\n",
            "  [7.89546880e-01 4.11825561e-01 3.77705400e-02 1.46862276e-01\n",
            "   3.57560280e-01 4.93570847e-01]\n",
            "  [4.18626305e-01 9.83577880e-01 6.91313925e-01 2.78838423e-01\n",
            "   4.11943885e-01 8.15918731e-01]\n",
            "  [5.18101312e-01 9.81571504e-01 3.88325059e-01 1.07953607e-01\n",
            "   6.51731299e-03 7.78801615e-01]]]\n",
            "(array([[0.47403158, 0.44316751, 0.41271406, 0.49591742, 0.39749946,\n",
            "        0.49277068],\n",
            "       [0.43283412, 0.51600112, 0.56995811, 0.46945428, 0.35496424,\n",
            "        0.6998228 ],\n",
            "       [0.02151197, 0.65581126, 0.48660613, 0.33621391, 0.41659765,\n",
            "        0.21127215],\n",
            "       [0.82459054, 0.58073689, 0.04210222, 0.16615157, 0.63003505,\n",
            "        0.6122954 ],\n",
            "       [0.40925412, 0.65590097, 0.35406984, 0.19702586, 0.39101457,\n",
            "        0.5782152 ],\n",
            "       [0.57954172, 0.9066043 , 0.33178484, 0.18024004, 0.41483147,\n",
            "        0.62771809]]), array([[0.13527466, 0.44312279, 0.1910571 , 0.17858545, 0.34640813,\n",
            "        0.36888278],\n",
            "       [0.02394033, 0.18373636, 0.23701578, 0.44465609, 0.00218533,\n",
            "        0.26044977],\n",
            "       [0.01703758, 0.09015354, 0.05341299, 0.24135659, 0.00138393,\n",
            "        0.18583163],\n",
            "       [0.03504366, 0.16891133, 0.00433168, 0.01928929, 0.27247477,\n",
            "        0.11872456],\n",
            "       [0.00937218, 0.32767691, 0.33724409, 0.08181256, 0.02092932,\n",
            "        0.23770353],\n",
            "       [0.0614404 , 0.07496721, 0.05654022, 0.07228643, 0.40831416,\n",
            "        0.15108353]]))\n"
          ],
          "name": "stdout"
        }
      ]
    },
    {
      "cell_type": "code",
      "metadata": {
        "colab_type": "code",
        "deletable": false,
        "editable": false,
        "id": "eEl8vkDYf2M2",
        "nbgrader": {
          "checksum": "8fcc85a9a8aedda2125c99ec6634c994",
          "grade": true,
          "grade_id": "cell-c79e831f7d49c625",
          "locked": true,
          "points": 4,
          "schema_version": 1,
          "solution": false
        },
        "colab": {},
        "outputId": "9db12d87-9c82-40d5-e40a-40977cc2fe10"
      },
      "source": [
        "'''test for CalculateMeanStddev'''\n",
        "def test_CalculateMeanStddev():\n",
        "  X = np.array([[1,2,3],\n",
        "                [5,3,1],\n",
        "                [3,7,9],\n",
        "                [3,5,6]])\n",
        "  mean, stddev = CalculateMeanStddev(X)\n",
        "  assert np.all(np.isclose(mean, np.array([3.  , 4.25, 4.75])))\n",
        "  assert np.all(np.isclose(stddev, np.array([1.41421356, 1.92028644, 3.03108891]) ))\n",
        "\n",
        "  print('Test passed', '\\U0001F44D')\n",
        "test_CalculateMeanStddev()"
      ],
      "execution_count": 0,
      "outputs": [
        {
          "output_type": "stream",
          "text": [
            "Test passed 👍\n"
          ],
          "name": "stdout"
        }
      ]
    },
    {
      "cell_type": "code",
      "metadata": {
        "id": "Nc1Za-25AKJX",
        "colab_type": "code",
        "colab": {},
        "outputId": "874eaa6c-7d5b-4c4f-9a83-6628418c7325"
      },
      "source": [
        "a = 2\n",
        "a[0]"
      ],
      "execution_count": 0,
      "outputs": [
        {
          "output_type": "error",
          "ename": "TypeError",
          "evalue": "'int' object is not subscriptable",
          "traceback": [
            "\u001b[0;31m---------------------------------------------------------------------------\u001b[0m",
            "\u001b[0;31mTypeError\u001b[0m                                 Traceback (most recent call last)",
            "\u001b[0;32m<ipython-input-58-3262c3b148d9>\u001b[0m in \u001b[0;36m<module>\u001b[0;34m()\u001b[0m\n\u001b[1;32m      1\u001b[0m \u001b[0ma\u001b[0m \u001b[0;34m=\u001b[0m \u001b[0;36m2\u001b[0m\u001b[0;34m\u001b[0m\u001b[0;34m\u001b[0m\u001b[0m\n\u001b[0;32m----> 2\u001b[0;31m \u001b[0ma\u001b[0m\u001b[0;34m[\u001b[0m\u001b[0;36m0\u001b[0m\u001b[0;34m]\u001b[0m\u001b[0;34m\u001b[0m\u001b[0;34m\u001b[0m\u001b[0m\n\u001b[0m",
            "\u001b[0;31mTypeError\u001b[0m: 'int' object is not subscriptable"
          ]
        }
      ]
    },
    {
      "cell_type": "markdown",
      "metadata": {
        "colab_type": "text",
        "id": "iP1afH7EtTmc"
      },
      "source": [
        "### Index\n",
        "Given a matrix of size (m,n) find the element at index position i = a, j =b (start indexing from 0)\n",
        "(Note: If m<a+1 or n<b+1, then return 'None') \n"
      ]
    },
    {
      "cell_type": "code",
      "metadata": {
        "colab_type": "code",
        "deletable": false,
        "id": "2qjwlRkjpreX",
        "nbgrader": {
          "checksum": "0472cd926cd285ca6493d60a87024b4e",
          "grade": false,
          "grade_id": "cell-fe98bacc1889d4a1",
          "locked": false,
          "schema_version": 1,
          "solution": true
        },
        "colab": {},
        "outputId": "96d45edb-d6d6-40af-cb9c-59d7c4894243"
      },
      "source": [
        "def element_at_given_index_position(x,a,b):\n",
        "  '''\n",
        "  input:\n",
        "    x: numpy array of shape (m,n)\n",
        "    a: integer value (row)\n",
        "    b: integer value (column)\n",
        "  output:\n",
        "    y: element at index position (a,b)\n",
        "  '''\n",
        "  # YOUR CODE HERE\n",
        "  print(x.shape)\n",
        "  if a<x.shape[0] and b<x.shape[1]:\n",
        "      y = x[a,b]\n",
        "  else:\n",
        "    y = None\n",
        "  return y\n",
        "x = np.random.random((2,3))\n",
        "a = 5\n",
        "b = 1\n",
        "y = element_at_given_index_position(x,a,b)\n",
        "print(y)"
      ],
      "execution_count": 0,
      "outputs": [
        {
          "output_type": "stream",
          "text": [
            "(2, 3)\n",
            "None\n"
          ],
          "name": "stdout"
        }
      ]
    },
    {
      "cell_type": "code",
      "metadata": {
        "colab_type": "code",
        "deletable": false,
        "editable": false,
        "id": "hCoXWi12si5k",
        "nbgrader": {
          "checksum": "616b93fa44f23d0af668948807be5f3c",
          "grade": true,
          "grade_id": "cell-e80a9dacd0a68e56",
          "locked": true,
          "points": 4,
          "schema_version": 1,
          "solution": false
        },
        "colab": {}
      },
      "source": [
        "'''test for  element_at_given_index_position'''\n",
        "def test_element_at_given_index_position():\n",
        "  \n",
        "  \n",
        "  x = np.array([[1,2,3],\n",
        "                [5,3,1],\n",
        "                [3,7,9],\n",
        "                [3,5,6],\n",
        "                [1,2,3],\n",
        "                [5,7,8]])\n",
        "  z =  element_at_given_index_position(x,5,2)\n",
        "  assert z ==8\n",
        "  print('Test passed', '\\U0001F44D')\n",
        "  \n",
        "test_element_at_given_index_position()"
      ],
      "execution_count": 0,
      "outputs": []
    },
    {
      "cell_type": "markdown",
      "metadata": {
        "colab_type": "text",
        "id": "q7jwnnURux0Q"
      },
      "source": [
        "### Batch splitting\n",
        "Given a data matrix X with axis = 0 for samples, split X into batches of 'm' samples each.\n",
        "Note: last batch can have  less than 'm' samples.\n",
        "Output should be list of numpy arrays."
      ]
    },
    {
      "cell_type": "code",
      "metadata": {
        "colab_type": "code",
        "deletable": false,
        "id": "FY9AUcF7vv8K",
        "nbgrader": {
          "checksum": "e02105897e53e2a67e1442025ca2dc35",
          "grade": false,
          "grade_id": "cell-59ffcd177dbb9bc9",
          "locked": false,
          "schema_version": 1,
          "solution": true
        },
        "colab": {},
        "outputId": "b52ccabb-4eb2-48b7-e85c-7f3d47f48eac"
      },
      "source": [
        "def split_data(x,m):\n",
        "  '''\n",
        "  input:\n",
        "    x: 2d numpy array of any shape (with axis = 0 indicating samples)\n",
        "    m: integer (sample size iin each batch)\n",
        "  output:\n",
        "    y: a list containing numpy arrays with 'm' samples in each array and \n",
        "    can be less than m only in last array\n",
        "  '''\n",
        "  # YOUR CODE HERE\n",
        "  Xbatches = []\n",
        "  Nb = int(np.ceil(x.shape[0]/m))\n",
        "  print(Nb)\n",
        "  for b in range(Nb):\n",
        "    batch = x[b*m:(b+1)*m, :]\n",
        "    Xbatches.append(batch)\n",
        "  return Xbatches\n",
        "\n",
        "x = np.random.random((7,3))\n",
        "print(x)\n",
        "split_data(x,3)"
      ],
      "execution_count": 0,
      "outputs": [
        {
          "output_type": "stream",
          "text": [
            "[[0.25516657 0.95262906 0.71446436]\n",
            " [0.90205046 0.24208297 0.68566086]\n",
            " [0.96508546 0.651543   0.21183336]\n",
            " [0.41428521 0.32099976 0.1412156 ]\n",
            " [0.59804251 0.86676516 0.99140249]\n",
            " [0.56331274 0.1023093  0.57699483]\n",
            " [0.01203685 0.04330308 0.16109874]]\n",
            "3\n"
          ],
          "name": "stdout"
        },
        {
          "output_type": "execute_result",
          "data": {
            "text/plain": [
              "[array([[0.25516657, 0.95262906, 0.71446436],\n",
              "        [0.90205046, 0.24208297, 0.68566086],\n",
              "        [0.96508546, 0.651543  , 0.21183336]]),\n",
              " array([[0.41428521, 0.32099976, 0.1412156 ],\n",
              "        [0.59804251, 0.86676516, 0.99140249],\n",
              "        [0.56331274, 0.1023093 , 0.57699483]]),\n",
              " array([[0.01203685, 0.04330308, 0.16109874]])]"
            ]
          },
          "metadata": {
            "tags": []
          },
          "execution_count": 87
        }
      ]
    },
    {
      "cell_type": "code",
      "metadata": {
        "colab_type": "code",
        "deletable": false,
        "editable": false,
        "id": "rEVXiRoQ6Yq9",
        "nbgrader": {
          "checksum": "e085119ef4b7f98e26cfe4567d4de2f4",
          "grade": true,
          "grade_id": "cell-7198a438982a4595",
          "locked": true,
          "points": 4,
          "schema_version": 1,
          "solution": false
        },
        "colab": {},
        "outputId": "f28930b5-e14b-497c-a82c-62ede812c5b5"
      },
      "source": [
        "'''test for  element_at_given_index_position'''\n",
        "def test_split_data():\n",
        "  \n",
        "  \n",
        "  x = np.array([[1,2,3],\n",
        "                [5,3,1],\n",
        "                [3,7,9],\n",
        "                [3,5,6],\n",
        "                [11,12,13],\n",
        "                [5,7,8],\n",
        "                [1,2,3],\n",
        "                [5,3,1],\n",
        "                [3,7,9],\n",
        "                [3,5,6],\n",
        "                [11,12,13],\n",
        "                [5,7,8]])\n",
        "  z = split_data(x,5)\n",
        "  assert np.all(z[0]==np.array([[ 1,  2,  3],\n",
        "       [ 5,  3,  1],\n",
        "       [ 3,  7,  9],\n",
        "       [ 3,  5,  6],\n",
        "       [11, 12, 13]]))\n",
        "  \n",
        "  assert np.all(z[1]==np.array([[5, 7, 8],\n",
        "       [1, 2, 3],\n",
        "       [5, 3, 1],\n",
        "       [3, 7, 9],\n",
        "       [3, 5, 6]]))\n",
        "  \n",
        "  assert np.all(z[2]==np.array([[11, 12, 13],\n",
        "       [ 5,  7,  8]]))\n",
        "\n",
        "  print('Test passed', '\\U0001F44D')\n",
        "  \n",
        "test_split_data()"
      ],
      "execution_count": 0,
      "outputs": [
        {
          "output_type": "stream",
          "text": [
            "3\n",
            "Test passed 👍\n"
          ],
          "name": "stdout"
        }
      ]
    },
    {
      "cell_type": "markdown",
      "metadata": {
        "colab_type": "text",
        "id": "6EgYhY1ezkSL"
      },
      "source": [
        "### Shuffle\n",
        "Given a data tensor X with axis = 0 indexing the sample, randomly shuffle the samples."
      ]
    },
    {
      "cell_type": "code",
      "metadata": {
        "colab_type": "code",
        "deletable": false,
        "id": "H_UBjwb6zFz6",
        "nbgrader": {
          "checksum": "6ee6590a535e11cc2c1e3033cd74142a",
          "grade": false,
          "grade_id": "cell-1a25ff05d00a08cd",
          "locked": false,
          "schema_version": 1,
          "solution": true
        },
        "colab": {},
        "outputId": "07b9906f-fe97-417a-bcbd-6641f9cf05b6"
      },
      "source": [
        "def shuffle_samples(x):\n",
        "  '''\n",
        "  input:\n",
        "    x: any general numpy array of dimension (m,n)\n",
        "  output:\n",
        "    y: a numpy array with dimension same as of input array but \n",
        "    samples are shuffled randomly.\n",
        "  '''\n",
        "  # YOUR CODE HERE\n",
        "  np.random.shuffle(x)\n",
        "  return x\n",
        "\n",
        "x = np.random.random((4,3))\n",
        "print(x)\n",
        "print(shuffle_samples(x))"
      ],
      "execution_count": 0,
      "outputs": [
        {
          "output_type": "stream",
          "text": [
            "[[0.098908   0.14188205 0.14854951]\n",
            " [0.24550464 0.28257086 0.18545657]\n",
            " [0.66711692 0.52437794 0.43362828]\n",
            " [0.74019446 0.47634705 0.71707142]]\n",
            "[[0.66711692 0.52437794 0.43362828]\n",
            " [0.24550464 0.28257086 0.18545657]\n",
            " [0.74019446 0.47634705 0.71707142]\n",
            " [0.098908   0.14188205 0.14854951]]\n"
          ],
          "name": "stdout"
        }
      ]
    },
    {
      "cell_type": "code",
      "metadata": {
        "colab_type": "code",
        "deletable": false,
        "editable": false,
        "id": "fAbxBbT0e0wS",
        "nbgrader": {
          "checksum": "041d0e5ba07b47634e51f30de0691ccd",
          "grade": true,
          "grade_id": "cell-2f99f7a0a4672738",
          "locked": true,
          "points": 4,
          "schema_version": 1,
          "solution": false
        },
        "colab": {}
      },
      "source": [
        "def test_shuffle_samples():\n",
        "  x = np.array([[1,2,3],\n",
        "                [5,3,1],[6,8,0]])\n",
        "  shuffle_samples(x)\n",
        "  assert x.shape == (3,3)\n",
        "  print('Test passed', '\\U0001F44D')\n",
        "  \n",
        "test_shuffle_samples()"
      ],
      "execution_count": 0,
      "outputs": []
    },
    {
      "cell_type": "markdown",
      "metadata": {
        "colab_type": "text",
        "id": "D8m1yfSWo5Ms"
      },
      "source": [
        "### 1-hot encoding\n",
        "Given three classes, encode them as one hot encoded vectors. For example, if\n",
        "y = [0, 1, 2] then one hot encoded y = [ [1, 0, 0] , [0, 1, 0] , [0, 0, 1] ]"
      ]
    },
    {
      "cell_type": "code",
      "metadata": {
        "colab_type": "code",
        "deletable": false,
        "id": "82VN07KHoa2Y",
        "nbgrader": {
          "checksum": "cbe5386441ca764efa030a0cb9f5f87b",
          "grade": false,
          "grade_id": "cell-3f341761f142d102",
          "locked": false,
          "schema_version": 1,
          "solution": true
        },
        "colab": {},
        "outputId": "88780eaf-e5b4-4496-c240-a8aaae2227ea"
      },
      "source": [
        "def oneHot(y, Ny):\n",
        "  import numpy as np\n",
        "  \n",
        "  '''\n",
        "  Input:\n",
        "      y: an int in {0, 1, 2}\n",
        "      Ny: Number of classes, e.g., 3 here.\n",
        "  Output:\n",
        "      Y: a vector of Ny (=3) tuples\n",
        "    '''\n",
        "  # YOUR CODE HERE\n",
        "  Y = np.zeros(Ny)\n",
        "  Y[y]=1\n",
        "  return Y\n",
        "\n",
        "oneHot(1,3)"
      ],
      "execution_count": 0,
      "outputs": [
        {
          "output_type": "execute_result",
          "data": {
            "text/plain": [
              "array([0., 1., 0.])"
            ]
          },
          "metadata": {
            "tags": []
          },
          "execution_count": 75
        }
      ]
    },
    {
      "cell_type": "code",
      "metadata": {
        "colab_type": "code",
        "deletable": false,
        "editable": false,
        "id": "C2c8iLBm3hqr",
        "nbgrader": {
          "checksum": "c93f8cc158062602ae2d2b8a69130e18",
          "grade": true,
          "grade_id": "cell-5b1e3b5f6b6e1740",
          "locked": true,
          "points": 4,
          "schema_version": 1,
          "solution": false
        },
        "colab": {}
      },
      "source": [
        "def test_oneHot():\n",
        "    assert np.all(oneHot(0,3)==np.array([1,0,0]))\n",
        "    assert np.all(oneHot(1,3)==np.array([0,1,0]))\n",
        "    assert np.all(oneHot(2,3)==np.array([0,0,1]))\n",
        "    assert Y_train.shape[1]==3\n",
        "    print(\"Test passed', '\\U0001F44D\")\n",
        "test_oneHot()"
      ],
      "execution_count": 0,
      "outputs": []
    },
    {
      "cell_type": "markdown",
      "metadata": {
        "colab_type": "text",
        "id": "cOW4XRK7qZM4"
      },
      "source": [
        "Given desired output in a list, convert output into one hot encoded vectors."
      ]
    },
    {
      "cell_type": "code",
      "metadata": {
        "colab_type": "code",
        "deletable": false,
        "id": "Y_jN8EwNqZ5H",
        "nbgrader": {
          "checksum": "a58a8845fe82e402288c51c0c667b0c5",
          "grade": false,
          "grade_id": "cell-99c6e0b52fd80b1e",
          "locked": false,
          "schema_version": 1,
          "solution": true
        },
        "colab": {},
        "outputId": "3c0bbfe6-9419-442f-d78b-4249a87a0380"
      },
      "source": [
        "def one_hot_encoding_output(x):\n",
        "  '''\n",
        "  input:\n",
        "    x: a list containing desired output, for exmple x = ['cat', 'dog', 'mouse', 'cat', 'cat', 'mouse']\n",
        "  output:\n",
        "    y: numpy array with one hot encoded vectors as its elements.\n",
        "  '''\n",
        "  # YOUR CODE HERE\n",
        "  print(x)\n",
        "  # Make a list of unique elements in x, call it categories\n",
        "  categories = []\n",
        "  for item in x:\n",
        "    if item not in categories:\n",
        "        categories.append(item)\n",
        "    else:\n",
        "        pass\n",
        "  print (categories)\n",
        "  # For each element in x, x_ind contains the index of that element\n",
        "  x_ind = []\n",
        "  for element in x:\n",
        "    index = categories.index(element)\n",
        "    x_ind.append(index)\n",
        "  # For each element in x_ind, find the 1-hot encoded form\n",
        "  x_1hot = []\n",
        "  for index in x_ind:\n",
        "    onehotvec = oneHot(index, len(categories))\n",
        "    x_1hot.append(onehotvec)\n",
        "  y = np.array(x_1hot)\n",
        "  return y\n",
        "  \n",
        "\n",
        "x = ['cat', 'dog', 'mouse', 'cat', 'cat', 'mouse', 'human', 'human']\n",
        "one_hot_encoding_output(x)"
      ],
      "execution_count": 0,
      "outputs": [
        {
          "output_type": "stream",
          "text": [
            "['cat', 'dog', 'mouse', 'cat', 'cat', 'mouse', 'human', 'human']\n",
            "['cat', 'dog', 'mouse', 'human']\n"
          ],
          "name": "stdout"
        },
        {
          "output_type": "execute_result",
          "data": {
            "text/plain": [
              "array([[1., 0., 0., 0.],\n",
              "       [0., 1., 0., 0.],\n",
              "       [0., 0., 1., 0.],\n",
              "       [1., 0., 0., 0.],\n",
              "       [1., 0., 0., 0.],\n",
              "       [0., 0., 1., 0.],\n",
              "       [0., 0., 0., 1.],\n",
              "       [0., 0., 0., 1.]])"
            ]
          },
          "metadata": {
            "tags": []
          },
          "execution_count": 80
        }
      ]
    },
    {
      "cell_type": "code",
      "metadata": {
        "colab_type": "code",
        "deletable": false,
        "editable": false,
        "id": "onYbT-lk9WhB",
        "nbgrader": {
          "checksum": "154e635b31b89c10fd4194619f5f3b72",
          "grade": true,
          "grade_id": "cell-1d91cca0bc4c58c0",
          "locked": true,
          "points": 4,
          "schema_version": 1,
          "solution": false
        },
        "colab": {},
        "outputId": "7b44912e-6b62-44b0-d5bd-030f3b61db1e"
      },
      "source": [
        "def test_one_hot_encoding_output():\n",
        "    x = ['cat', 'dog', 'mouse']\n",
        "    one_hot_encoding_output(x)[0]\n",
        "    assert np.all(one_hot_encoding_output(x)[2]==np.array([0., 0., 1.]))\n",
        "    assert np.all(one_hot_encoding_output(x)[1]==np.array([0., 1., 0.]))\n",
        "    assert np.all(one_hot_encoding_output(x)[0]==np.array([1., 0., 0.]))\n",
        "    print(\"Test passed', '\\U0001F44D\")\n",
        "test_one_hot_encoding_output()"
      ],
      "execution_count": 0,
      "outputs": [
        {
          "output_type": "stream",
          "text": [
            "['cat', 'dog', 'mouse']\n",
            "['mouse', 'cat', 'dog']\n",
            "['cat', 'dog', 'mouse']\n",
            "['mouse', 'cat', 'dog']\n"
          ],
          "name": "stdout"
        },
        {
          "output_type": "error",
          "ename": "AssertionError",
          "evalue": "",
          "traceback": [
            "\u001b[0;31m---------------------------------------------------------------------------\u001b[0m",
            "\u001b[0;31mAssertionError\u001b[0m                            Traceback (most recent call last)",
            "\u001b[0;32m<ipython-input-79-8a821b532637>\u001b[0m in \u001b[0;36m<module>\u001b[0;34m()\u001b[0m\n\u001b[1;32m      6\u001b[0m     \u001b[0;32massert\u001b[0m \u001b[0mnp\u001b[0m\u001b[0;34m.\u001b[0m\u001b[0mall\u001b[0m\u001b[0;34m(\u001b[0m\u001b[0mone_hot_encoding_output\u001b[0m\u001b[0;34m(\u001b[0m\u001b[0mx\u001b[0m\u001b[0;34m)\u001b[0m\u001b[0;34m[\u001b[0m\u001b[0;36m0\u001b[0m\u001b[0;34m]\u001b[0m\u001b[0;34m==\u001b[0m\u001b[0mnp\u001b[0m\u001b[0;34m.\u001b[0m\u001b[0marray\u001b[0m\u001b[0;34m(\u001b[0m\u001b[0;34m[\u001b[0m\u001b[0;36m1.\u001b[0m\u001b[0;34m,\u001b[0m \u001b[0;36m0.\u001b[0m\u001b[0;34m,\u001b[0m \u001b[0;36m0.\u001b[0m\u001b[0;34m]\u001b[0m\u001b[0;34m)\u001b[0m\u001b[0;34m)\u001b[0m\u001b[0;34m\u001b[0m\u001b[0;34m\u001b[0m\u001b[0m\n\u001b[1;32m      7\u001b[0m     \u001b[0mprint\u001b[0m\u001b[0;34m(\u001b[0m\u001b[0;34m\"Test passed', '\\U0001F44D\"\u001b[0m\u001b[0;34m)\u001b[0m\u001b[0;34m\u001b[0m\u001b[0;34m\u001b[0m\u001b[0m\n\u001b[0;32m----> 8\u001b[0;31m \u001b[0mtest_one_hot_encoding_output\u001b[0m\u001b[0;34m(\u001b[0m\u001b[0;34m)\u001b[0m\u001b[0;34m\u001b[0m\u001b[0;34m\u001b[0m\u001b[0m\n\u001b[0m",
            "\u001b[0;32m<ipython-input-79-8a821b532637>\u001b[0m in \u001b[0;36mtest_one_hot_encoding_output\u001b[0;34m()\u001b[0m\n\u001b[1;32m      2\u001b[0m     \u001b[0mx\u001b[0m \u001b[0;34m=\u001b[0m \u001b[0;34m[\u001b[0m\u001b[0;34m'cat'\u001b[0m\u001b[0;34m,\u001b[0m \u001b[0;34m'dog'\u001b[0m\u001b[0;34m,\u001b[0m \u001b[0;34m'mouse'\u001b[0m\u001b[0;34m]\u001b[0m\u001b[0;34m\u001b[0m\u001b[0;34m\u001b[0m\u001b[0m\n\u001b[1;32m      3\u001b[0m     \u001b[0mone_hot_encoding_output\u001b[0m\u001b[0;34m(\u001b[0m\u001b[0mx\u001b[0m\u001b[0;34m)\u001b[0m\u001b[0;34m[\u001b[0m\u001b[0;36m0\u001b[0m\u001b[0;34m]\u001b[0m\u001b[0;34m\u001b[0m\u001b[0;34m\u001b[0m\u001b[0m\n\u001b[0;32m----> 4\u001b[0;31m     \u001b[0;32massert\u001b[0m \u001b[0mnp\u001b[0m\u001b[0;34m.\u001b[0m\u001b[0mall\u001b[0m\u001b[0;34m(\u001b[0m\u001b[0mone_hot_encoding_output\u001b[0m\u001b[0;34m(\u001b[0m\u001b[0mx\u001b[0m\u001b[0;34m)\u001b[0m\u001b[0;34m[\u001b[0m\u001b[0;36m2\u001b[0m\u001b[0;34m]\u001b[0m\u001b[0;34m==\u001b[0m\u001b[0mnp\u001b[0m\u001b[0;34m.\u001b[0m\u001b[0marray\u001b[0m\u001b[0;34m(\u001b[0m\u001b[0;34m[\u001b[0m\u001b[0;36m0.\u001b[0m\u001b[0;34m,\u001b[0m \u001b[0;36m0.\u001b[0m\u001b[0;34m,\u001b[0m \u001b[0;36m1.\u001b[0m\u001b[0;34m]\u001b[0m\u001b[0;34m)\u001b[0m\u001b[0;34m)\u001b[0m\u001b[0;34m\u001b[0m\u001b[0;34m\u001b[0m\u001b[0m\n\u001b[0m\u001b[1;32m      5\u001b[0m     \u001b[0;32massert\u001b[0m \u001b[0mnp\u001b[0m\u001b[0;34m.\u001b[0m\u001b[0mall\u001b[0m\u001b[0;34m(\u001b[0m\u001b[0mone_hot_encoding_output\u001b[0m\u001b[0;34m(\u001b[0m\u001b[0mx\u001b[0m\u001b[0;34m)\u001b[0m\u001b[0;34m[\u001b[0m\u001b[0;36m1\u001b[0m\u001b[0;34m]\u001b[0m\u001b[0;34m==\u001b[0m\u001b[0mnp\u001b[0m\u001b[0;34m.\u001b[0m\u001b[0marray\u001b[0m\u001b[0;34m(\u001b[0m\u001b[0;34m[\u001b[0m\u001b[0;36m0.\u001b[0m\u001b[0;34m,\u001b[0m \u001b[0;36m1.\u001b[0m\u001b[0;34m,\u001b[0m \u001b[0;36m0.\u001b[0m\u001b[0;34m]\u001b[0m\u001b[0;34m)\u001b[0m\u001b[0;34m)\u001b[0m\u001b[0;34m\u001b[0m\u001b[0;34m\u001b[0m\u001b[0m\n\u001b[1;32m      6\u001b[0m     \u001b[0;32massert\u001b[0m \u001b[0mnp\u001b[0m\u001b[0;34m.\u001b[0m\u001b[0mall\u001b[0m\u001b[0;34m(\u001b[0m\u001b[0mone_hot_encoding_output\u001b[0m\u001b[0;34m(\u001b[0m\u001b[0mx\u001b[0m\u001b[0;34m)\u001b[0m\u001b[0;34m[\u001b[0m\u001b[0;36m0\u001b[0m\u001b[0;34m]\u001b[0m\u001b[0;34m==\u001b[0m\u001b[0mnp\u001b[0m\u001b[0;34m.\u001b[0m\u001b[0marray\u001b[0m\u001b[0;34m(\u001b[0m\u001b[0;34m[\u001b[0m\u001b[0;36m1.\u001b[0m\u001b[0;34m,\u001b[0m \u001b[0;36m0.\u001b[0m\u001b[0;34m,\u001b[0m \u001b[0;36m0.\u001b[0m\u001b[0;34m]\u001b[0m\u001b[0;34m)\u001b[0m\u001b[0;34m)\u001b[0m\u001b[0;34m\u001b[0m\u001b[0;34m\u001b[0m\u001b[0m\n",
            "\u001b[0;31mAssertionError\u001b[0m: "
          ]
        }
      ]
    },
    {
      "cell_type": "markdown",
      "metadata": {
        "colab_type": "text",
        "id": "WO0q9zNerrRL"
      },
      "source": [
        "Given a data tensor X, with axis = 0 indexing the samples, randomly pick 10 samples and return as a numpy tensor.\n",
        "If there are less than 10 samples, pad the output tensor with samples having all values as zero(hint. - padded samples will have same dimension as of input samples)\n"
      ]
    },
    {
      "cell_type": "code",
      "metadata": {
        "colab_type": "code",
        "deletable": false,
        "id": "sFIionI3uQRJ",
        "nbgrader": {
          "checksum": "08e9e4d318e48d76b1d81bb14d6db025",
          "grade": false,
          "grade_id": "cell-56c3ff271d6e1713",
          "locked": false,
          "schema_version": 1,
          "solution": true
        },
        "colab": {}
      },
      "source": [
        "def pick_samples(x):\n",
        "  '''\n",
        "  input:\n",
        "    x: a numpy array of shape (m,n) (Note: it may have less than 10 samples also. Your code should be fit for \n",
        "    both conditions i.e. m<10 or m>10 )\n",
        "  output:\n",
        "    y: numpy array containing 10 samples selected by randomly shuffling input array and padding samples with all \n",
        "    elements as zeros if input array has less than 10 samples.\n",
        "    .\n",
        "  '''\n",
        "  # YOUR CODE HERE"
      ],
      "execution_count": 0,
      "outputs": []
    },
    {
      "cell_type": "code",
      "metadata": {
        "colab_type": "code",
        "deletable": false,
        "editable": false,
        "id": "UaIyTdpyDw6z",
        "nbgrader": {
          "checksum": "78ce1550901e6c4eab733a8b02ff6a7e",
          "grade": true,
          "grade_id": "cell-cfa220cc907612f3",
          "locked": true,
          "points": 2,
          "schema_version": 1,
          "solution": false
        },
        "colab": {}
      },
      "source": [
        "def test_pick_sample():\n",
        "    x = np.array([[1,2,3],\n",
        "                 [5,3,1],\n",
        "                 [3,7,9]])\n",
        "    z = pick_samples(x)\n",
        "    assert z.shape==(10,x.shape[1])\n",
        "    print(\"Test passed', '\\U0001F44D\")\n",
        "test_pick_sample()"
      ],
      "execution_count": 0,
      "outputs": []
    },
    {
      "cell_type": "code",
      "metadata": {
        "colab_type": "code",
        "deletable": false,
        "editable": false,
        "id": "1atks8tcCXgk",
        "nbgrader": {
          "checksum": "bd7f06c05daf0fb9c70b1ade01432c91",
          "grade": true,
          "grade_id": "cell-3929fecffdb63091",
          "locked": true,
          "points": 2,
          "schema_version": 1,
          "solution": false
        },
        "colab": {}
      },
      "source": [
        "def test_pick_sample():\n",
        "   \n",
        "  x = np.array([[1,2,3],\n",
        "                [5,3,1]])\n",
        "  Z = np.array\n",
        "  assert np.all(one_hot_encoding_output(x)[2]==np.array([0., 0., 1.]))\n",
        "  assert np.all(one_hot_encoding_output(x)[1]==np.array([0., 1., 0.]))\n",
        "  assert np.all(one_hot_encoding_output(x)[0]==np.array([1., 0., 0.]))\n",
        "  print(\"Test passed', '\\U0001F44D\")\n",
        "test_one_hot_encoding_output()\n",
        "  "
      ],
      "execution_count": 0,
      "outputs": []
    },
    {
      "cell_type": "markdown",
      "metadata": {
        "colab_type": "text",
        "id": "EvgbmX--wS2K"
      },
      "source": [
        "### Confusion Matrix\n",
        "Given the true output values of a classification task is a numpy vector Ytrue\n",
        "and the estimated output values is  a numpy vector Yest , your function should return\n",
        "the confusion matrix. Do not use any standard library."
      ]
    },
    {
      "cell_type": "code",
      "metadata": {
        "colab_type": "code",
        "deletable": false,
        "id": "6cs9BtklwTJy",
        "nbgrader": {
          "checksum": "09b4c6deff24755f6199f7e8bd6ccbe3",
          "grade": false,
          "grade_id": "cell-caafc3be9b586839",
          "locked": false,
          "schema_version": 1,
          "solution": true
        },
        "colab": {}
      },
      "source": [
        "def draw_confusion_matrix(yest,ytrue):\n",
        "  '''\n",
        "  input:\n",
        "    yest: one dimensional numy array consisting of predicted output values(for example  yest = [ 1, 0, 0, 1, 0, 0, 1, 1, 1, 0 ] )\n",
        "    ytrue: one dimensional numy array consisting of actual output values)( for example, ytrue = [ 1, 1, 0, 1, 0, 0, 1, 0, 0, 0 ] )\n",
        "  output:\n",
        "    y: confusion matrix as a numpy array \n",
        "    .\n",
        "  '''\n",
        "  # YOUR CODE HERE"
      ],
      "execution_count": 0,
      "outputs": []
    },
    {
      "cell_type": "code",
      "metadata": {
        "colab_type": "code",
        "deletable": false,
        "editable": false,
        "id": "WWICrMfpM4nw",
        "nbgrader": {
          "checksum": "54087a701f43684d83ae7f1260879159",
          "grade": true,
          "grade_id": "cell-e856a2de88bc457a",
          "locked": true,
          "points": 4,
          "schema_version": 1,
          "solution": false
        },
        "colab": {}
      },
      "source": [
        "''' check for draw confusion matrix'''\n",
        "\n",
        "from sklearn.metrics import confusion_matrix\n",
        "from sklearn.metrics import roc_curve\n",
        "import numpy as np\n",
        "\n",
        "\n",
        "expected = [ 1, 0, 0, 1, 0, 0, 1, 1, 1, 0 ]\n",
        "predicted = [ 1, 1, 0, 1, 0, 0, 1, 0, 0, 0 ]\n",
        "results = confusion_matrix(expected, predicted)\n",
        "assert np.all(draw_confusion_matrix(expected,predicted) == results)\n",
        "print(\"Test passed', '\\U0001F44D\")\n"
      ],
      "execution_count": 0,
      "outputs": []
    },
    {
      "cell_type": "markdown",
      "metadata": {
        "colab_type": "text",
        "id": "pHfhLM81KxfC"
      },
      "source": [
        "Given the confusion matrix CM = np.array([[40 20 10],\n",
        "                                                                          [10 30 5],\n",
        "                                                                          [2 1 50]])\n",
        " \n",
        "\n",
        "1.   What is the accuracy? Save it as 'acc.'.\n",
        "2.   What is precision? Save it as 'prec' in a numpy array.\n",
        "3.   What is recall? Save it as 'recall' in a numpy array\n",
        "4.   What is F-1 score? Save it as 'F_1' in a numpy array\n",
        "\n",
        "\n",
        "\n"
      ]
    },
    {
      "cell_type": "code",
      "metadata": {
        "colab_type": "code",
        "deletable": false,
        "id": "QTIxLK-rG5rW",
        "nbgrader": {
          "checksum": "d73a1708f3b65b0afc229fa63525ede5",
          "grade": false,
          "grade_id": "cell-7b1c1beedf29edc2",
          "locked": false,
          "schema_version": 1,
          "solution": true
        },
        "colab": {}
      },
      "source": [
        "def confusion_matrix_metrics(CM):\n",
        "  '''\n",
        "    input:\n",
        "      CM: confusion matrix\n",
        "    output:\n",
        "      accuracy: Accuracy across all classes\n",
        "      precision: Numpy array with precision for each class\n",
        "      recall: Numpy array with recall for each class\n",
        "      F_1 : Numpy array with f_1 score for each class\n",
        "      \n",
        "      Return the results as a tuple (accuracy, precision, recall, f_1)\n",
        "  '''\n",
        "  # YOUR CODE HERE"
      ],
      "execution_count": 0,
      "outputs": []
    },
    {
      "cell_type": "code",
      "metadata": {
        "colab_type": "code",
        "deletable": false,
        "editable": false,
        "id": "ge5_AuWsPySh",
        "nbgrader": {
          "checksum": "7084dd9869140ef103c7e763a36d377b",
          "grade": true,
          "grade_id": "cell-bdf1a16a48bdf3a7",
          "locked": true,
          "points": 4,
          "schema_version": 1,
          "solution": false
        },
        "colab": {}
      },
      "source": [
        "''' check for confusion matrix'''\n",
        "\n",
        "def test_confusion_matrix_metrics():\n",
        "  CM = np.array([[40,20,10], [10,30,5], [2,1,50]])\n",
        "  accuracy, precision, recall, F_1 = confusion_matrix_metrics(CM) \n",
        "  \n",
        "  assert np.isclose(accuracy, 0.7142857142857143)\n",
        "  assert np.all(np.isclose(precision, np.array([0.7692307692307693, 0.5882352941176471, 0.7692307692307693])))\n",
        "  assert np.all(np.isclose(recall, np.array([0.5714285714285714, 0.6666666666666666, 0.9433962264150944])))\n",
        "  assert np.all(np.isclose(F_1, np.array([0.6557377049180327, 0.625, 0.847457627118644])))\n",
        "  print(\"Test passed', '\\U0001F44D\")\n",
        "  \n",
        "test_confusion_matrix_metrics()"
      ],
      "execution_count": 0,
      "outputs": []
    },
    {
      "cell_type": "code",
      "metadata": {
        "colab_type": "code",
        "id": "2Vy0vMZB4GMc",
        "outputId": "01345fb2-d804-422c-fdec-b65e578c01fc",
        "colab": {
          "base_uri": "https://localhost:8080/",
          "height": 34
        }
      },
      "source": [
        "40/52"
      ],
      "execution_count": 0,
      "outputs": [
        {
          "output_type": "execute_result",
          "data": {
            "text/plain": [
              "0.7692307692307693"
            ]
          },
          "metadata": {
            "tags": []
          },
          "execution_count": 1
        }
      ]
    },
    {
      "cell_type": "code",
      "metadata": {
        "colab_type": "code",
        "id": "mWYWGFOx4sJW",
        "colab": {}
      },
      "source": [
        ""
      ],
      "execution_count": 0,
      "outputs": []
    }
  ]
}