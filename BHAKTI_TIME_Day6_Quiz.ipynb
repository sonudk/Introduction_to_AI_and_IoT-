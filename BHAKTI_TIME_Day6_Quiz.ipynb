{
  "nbformat": 4,
  "nbformat_minor": 0,
  "metadata": {
    "colab": {
      "name": "BHAKTI TIME - Day6_Quiz.ipynb",
      "version": "0.3.2",
      "provenance": [],
      "include_colab_link": true
    },
    "language_info": {
      "codemirror_mode": {
        "name": "ipython",
        "version": 3
      },
      "file_extension": ".py",
      "mimetype": "text/x-python",
      "name": "python",
      "nbconvert_exporter": "python",
      "pygments_lexer": "ipython3",
      "version": "3.6.8"
    },
    "kernelspec": {
      "display_name": "Python 3",
      "language": "python",
      "name": "python3"
    }
  },
  "cells": [
    {
      "cell_type": "markdown",
      "metadata": {
        "id": "view-in-github",
        "colab_type": "text"
      },
      "source": [
        "<a href=\"https://colab.research.google.com/github/sonudk/Introduction_to_AI_and_IoT-/blob/master/BHAKTI_TIME_Day6_Quiz.ipynb\" target=\"_parent\"><img src=\"https://colab.research.google.com/assets/colab-badge.svg\" alt=\"Open In Colab\"/></a>"
      ]
    },
    {
      "cell_type": "markdown",
      "metadata": {
        "id": "MHpsKYgFZPLc",
        "colab_type": "text"
      },
      "source": [
        "- Build a linear models of degree 2 to estimate $v_l$ <br>\n",
        "- Use 4 samples of train data for training and  <br>\n",
        "- Use gradient descent method for finding the weights. <br>\n",
        "- Update the weights for each sample. <br>\n",
        "- Do weight updates for 100 epochs. (use train data only) <br>\n",
        "- Report the values predicted on the 3 samples of test data in the variable Y_pred_test (shape is (3,))\n",
        "\n",
        "- Hint : Take inputs in units of metres (0.6, 0.5, 0.3, 0.2)\n"
      ]
    },
    {
      "cell_type": "markdown",
      "metadata": {
        "id": "TWzgVzgMZPLd",
        "colab_type": "text"
      },
      "source": [
        "### Train Data\n",
        "| Sonar S | $v_l$   |$v_r$|\n",
        "|---------|---------|-----|\n",
        "|60cm |10cm/sec |10cm/sec |\n",
        "| 50cm |9cm/sec| 9cm/sec |\n",
        "| 30cm | 7cm/sec | 4cm/sec |\n",
        "|20cm | 4cm/sec | 0cm/sec|"
      ]
    },
    {
      "cell_type": "markdown",
      "metadata": {
        "id": "L4VSW5npZPLe",
        "colab_type": "text"
      },
      "source": [
        "### Test Data\n",
        "| Sonar S | $v_l$   |$v_r$|\n",
        "|---------|---------|-----|\n",
        "|40cm |8cm/sec |8cm/sec |\n",
        "| 35cm |7.5cm/sec| 6cm/sec |\n",
        "| 25cm | 6cm/sec | 2cm/sec |"
      ]
    },
    {
      "cell_type": "code",
      "metadata": {
        "id": "3iPdkrfeZPLf",
        "colab_type": "code",
        "colab": {
          "base_uri": "https://localhost:8080/",
          "height": 51
        },
        "outputId": "f5b56013-178e-46c2-d885-5c0f2de78825"
      },
      "source": [
        "import numpy as np\n",
        "x = [60,50,30,20]\n",
        "yd = [10,9,7,4]\n",
        "A = np.zeros((4,3))\n",
        "for i in range(len(x)):\n",
        "  for j in range(3):\n",
        "    A[i][j] = (x[i])**j\n",
        "\n",
        "w = np.dot(np.dot(np.linalg.inv(np.dot(A.T,A)),A.T),yd)\n",
        "'''w = 2 * np.random.random((3,1)) - 1\n",
        "print(w)'''\n",
        "y = np.dot(A,w)\n",
        "eta = 1e-1\n",
        "# with eta value of output changes bit very less change\n",
        "for i in range(1):# there is no effect of epochs on sample with both 1 and 100 same answer comes\n",
        "  for j in range(len(x)):\n",
        "    for k in range(3):\n",
        "      w[k] = w[k] + eta * (yd[j] - y[j]) * (x[j]**k)\n",
        "      \n",
        "print(w)      \n",
        "matrix1 = np.zeros((3,3))\n",
        "x_test = [40,35,25]\n",
        "for i in range(len(x_test)):\n",
        "  for j in range(3):\n",
        "    matrix1[i][j] = (x_test[i])**j\n",
        "print(np.dot(matrix1,w))"
      ],
      "execution_count": 16,
      "outputs": [
        {
          "output_type": "stream",
          "text": [
            "[-2.6         0.40666667 -0.00333333]\n",
            "[8.33333275 7.54999955 5.48333311]\n"
          ],
          "name": "stdout"
        }
      ]
    },
    {
      "cell_type": "code",
      "metadata": {
        "id": "KdRJXrFGdj2Z",
        "colab_type": "code",
        "colab": {}
      },
      "source": [
        ""
      ],
      "execution_count": 0,
      "outputs": []
    }
  ]
}